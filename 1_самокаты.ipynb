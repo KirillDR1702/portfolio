{
  "cells": [
    {
      "cell_type": "markdown",
      "id": "ee161063",
      "metadata": {
        "id": "ee161063"
      },
      "source": [
        "**Постановка задачи.**\n",
        "Необходимо проанализировать данные сервиса аренды самокатов GoFast о некоторых пользователях из нескольких городов, а также об их поездках и проанализировать некоторые гипотезы, которые могут помочь бизнесу вырасти. Известно, что сервисом можно пользоваться без подписки (абонентская плата отсутствует; стоимость одной минуты поездки — 8 рублей; стоимость старта (начала поездки) — 50 рублей) и с подпиской Ultra (абонентская плата — 199 рублей в месяц; стоимость одной минуты поездки — 6 рублей; стоимость старта — бесплатно)."
      ]
    },
    {
      "cell_type": "code",
      "execution_count": null,
      "id": "72576667",
      "metadata": {
        "id": "72576667"
      },
      "outputs": [],
      "source": [
        "import pandas as pd\n",
        "import numpy as np\n",
        "from scipy import stats as st\n",
        "from matplotlib import pyplot as plt\n",
        "from math import factorial"
      ]
    },
    {
      "cell_type": "markdown",
      "id": "c42cbe00",
      "metadata": {
        "id": "c42cbe00"
      },
      "source": [
        "#### Шаг 1. Загрузка данных"
      ]
    },
    {
      "cell_type": "code",
      "execution_count": null,
      "id": "eff9f206",
      "metadata": {
        "id": "eff9f206",
        "outputId": "739f28b4-069b-4ccf-b686-a845415607b6"
      },
      "outputs": [
        {
          "name": "stdout",
          "output_type": "stream",
          "text": [
            "\n",
            "                               data_users_go \n",
            "    \n",
            "<class 'pandas.core.frame.DataFrame'>\n",
            "RangeIndex: 1565 entries, 0 to 1564\n",
            "Data columns (total 5 columns):\n",
            " #   Column             Non-Null Count  Dtype \n",
            "---  ------             --------------  ----- \n",
            " 0   user_id            1565 non-null   int64 \n",
            " 1   name               1565 non-null   object\n",
            " 2   age                1565 non-null   int64 \n",
            " 3   city               1565 non-null   object\n",
            " 4   subscription_type  1565 non-null   object\n",
            "dtypes: int64(2), object(3)\n",
            "memory usage: 61.3+ KB\n",
            " \n",
            "        user_id        name  age            city subscription_type\n",
            "0        1        Кира   22          Тюмень             ultra\n",
            "1        2   Станислав   31            Омск             ultra\n",
            "2        3     Алексей   20          Москва             ultra\n",
            "3        4  Константин   26  Ростов-на-Дону             ultra\n",
            "4        5       Адель   28            Омск             ultra  \n",
            "    \n",
            "\n",
            "                               data_rides_go \n",
            "    \n",
            "<class 'pandas.core.frame.DataFrame'>\n",
            "RangeIndex: 18068 entries, 0 to 18067\n",
            "Data columns (total 4 columns):\n",
            " #   Column    Non-Null Count  Dtype  \n",
            "---  ------    --------------  -----  \n",
            " 0   user_id   18068 non-null  int64  \n",
            " 1   distance  18068 non-null  float64\n",
            " 2   duration  18068 non-null  float64\n",
            " 3   date      18068 non-null  object \n",
            "dtypes: float64(2), int64(1), object(1)\n",
            "memory usage: 564.8+ KB\n",
            " \n",
            "        user_id     distance   duration        date\n",
            "0        1  4409.919140  25.599769  2021-01-01\n",
            "1        1  2617.592153  15.816871  2021-01-18\n",
            "2        1   754.159807   6.232113  2021-04-20\n",
            "3        1  2694.783254  18.511000  2021-08-11\n",
            "4        1  4028.687306  26.265803  2021-08-28  \n",
            "    \n",
            "\n",
            "                               data_subscriptions_go \n",
            "    \n",
            "<class 'pandas.core.frame.DataFrame'>\n",
            "RangeIndex: 2 entries, 0 to 1\n",
            "Data columns (total 4 columns):\n",
            " #   Column             Non-Null Count  Dtype \n",
            "---  ------             --------------  ----- \n",
            " 0   subscription_type  2 non-null      object\n",
            " 1   minute_price       2 non-null      int64 \n",
            " 2   start_ride_price   2 non-null      int64 \n",
            " 3   subscription_fee   2 non-null      int64 \n",
            "dtypes: int64(3), object(1)\n",
            "memory usage: 192.0+ bytes\n",
            " \n",
            "       subscription_type  minute_price  start_ride_price  subscription_fee\n",
            "0              free             8                50                 0\n",
            "1             ultra             6                 0               199  \n",
            "    \n"
          ]
        }
      ],
      "source": [
        "# Считываем CSV-файлы с данными и сохраняем их в датафреймы\n",
        "data_users_go = pd.read_csv('/datasets/users_go.csv')\n",
        "data_rides_go = pd.read_csv('/datasets/rides_go.csv')\n",
        "data_subscriptions_go = pd.read_csv('/datasets/subscriptions_go.csv')\n",
        "\n",
        "# Изучаем общую информацию и первые строки всех датафреймов о данных\n",
        "name_of_dataframes = ['data_users_go', 'data_rides_go', 'data_subscriptions_go']\n",
        "dataframes = [data_users_go, data_rides_go, data_subscriptions_go]\n",
        "\n",
        "for name_of_dataframe, dataframe in zip(name_of_dataframes, dataframes):\n",
        "    print(\"\"\"\n",
        "                              \"\"\", name_of_dataframe, \"\"\"\n",
        "    \"\"\")\n",
        "    dataframe.info()\n",
        "    print(\"\"\"\n",
        "    \"\"\", dataframe.head(), \"\"\"\n",
        "    \"\"\")"
      ]
    },
    {
      "cell_type": "markdown",
      "id": "385e64a8",
      "metadata": {
        "id": "385e64a8"
      },
      "source": [
        "**Вывод:** по результатам первичного анализа данных видим, что датафрейм 'users_go.csv' содержит данные о пользователях, 'rides_go.csv' - о их поездках, 'subscriptions_go.csv' - о подписках.\n",
        "Данные о пользователях включают в себя следующие сведения:\tуникальный идентификатор пользователя, имя пользователя, возраст, город, тип подписки (free, ultra); данные о поездках -\tуникальный идентификатор пользователя, расстояние, которое пользователь проехал в текущей сессии (в метрах), продолжительность сессии (в минутах),\tдату совершения поездки; данные о подписках — тип подписки, стоимость одной минуты поездки по данной подписке, стоимость начала поездки, стоимость ежемесячного платежа. Стоит обратить внимание, что каждый из датафреймов имеет разный размер.\n",
        "\n",
        "Прежде чем приступить к исследовательскому анализу данных и дальнейшей проверке гипотез следует провести предобработку данных. Приступаем к предобрабортке данных."
      ]
    },
    {
      "cell_type": "markdown",
      "id": "e95ebca7",
      "metadata": {
        "id": "e95ebca7"
      },
      "source": [
        "#### Шаг 2. Предобработка данных"
      ]
    },
    {
      "cell_type": "markdown",
      "id": "97c4db25",
      "metadata": {
        "id": "97c4db25"
      },
      "source": [
        "**Выявлена проблема в данных:** столбец 'date' датафрейма data_rides_go имеет тип данных object, тогда как он должен иметь тип данных дата pandas.\n",
        "\n",
        "Преобразуем тип данных указанного столбца."
      ]
    },
    {
      "cell_type": "code",
      "execution_count": null,
      "id": "39994bd1",
      "metadata": {
        "id": "39994bd1",
        "outputId": "980aafdf-c374-4500-b16b-b148f212b2bb"
      },
      "outputs": [
        {
          "name": "stdout",
          "output_type": "stream",
          "text": [
            "<class 'pandas.core.frame.DataFrame'>\n",
            "RangeIndex: 18068 entries, 0 to 18067\n",
            "Data columns (total 4 columns):\n",
            " #   Column    Non-Null Count  Dtype         \n",
            "---  ------    --------------  -----         \n",
            " 0   user_id   18068 non-null  int64         \n",
            " 1   distance  18068 non-null  float64       \n",
            " 2   duration  18068 non-null  float64       \n",
            " 3   date      18068 non-null  datetime64[ns]\n",
            "dtypes: datetime64[ns](1), float64(2), int64(1)\n",
            "memory usage: 564.8 KB\n"
          ]
        }
      ],
      "source": [
        "data_rides_go['date'] = pd.to_datetime(data_rides_go['date'], format='%Y-%m-%d') # Изменяем тип данных\n",
        "data_rides_go.info() # Проверяем результат изменения типа данных"
      ]
    },
    {
      "cell_type": "markdown",
      "id": "ffce7bad",
      "metadata": {
        "id": "ffce7bad"
      },
      "source": [
        "*Изменения применены корретно.*"
      ]
    },
    {
      "cell_type": "markdown",
      "id": "9affae9f",
      "metadata": {
        "id": "9affae9f"
      },
      "source": [
        "Дополним датафрейм data_rides_go столбцом, содержащим сведения о календарном месяце."
      ]
    },
    {
      "cell_type": "code",
      "execution_count": null,
      "id": "1dae33a7",
      "metadata": {
        "id": "1dae33a7",
        "outputId": "24abaf67-5453-4d59-dfcf-f22f8ccc1230"
      },
      "outputs": [
        {
          "data": {
            "text/html": [
              "<div>\n",
              "<style scoped>\n",
              "    .dataframe tbody tr th:only-of-type {\n",
              "        vertical-align: middle;\n",
              "    }\n",
              "\n",
              "    .dataframe tbody tr th {\n",
              "        vertical-align: top;\n",
              "    }\n",
              "\n",
              "    .dataframe thead th {\n",
              "        text-align: right;\n",
              "    }\n",
              "</style>\n",
              "<table border=\"1\" class=\"dataframe\">\n",
              "  <thead>\n",
              "    <tr style=\"text-align: right;\">\n",
              "      <th></th>\n",
              "      <th>user_id</th>\n",
              "      <th>distance</th>\n",
              "      <th>duration</th>\n",
              "      <th>date</th>\n",
              "      <th>month</th>\n",
              "    </tr>\n",
              "  </thead>\n",
              "  <tbody>\n",
              "    <tr>\n",
              "      <th>0</th>\n",
              "      <td>1</td>\n",
              "      <td>4409.919140</td>\n",
              "      <td>25.599769</td>\n",
              "      <td>2021-01-01</td>\n",
              "      <td>1</td>\n",
              "    </tr>\n",
              "    <tr>\n",
              "      <th>1</th>\n",
              "      <td>1</td>\n",
              "      <td>2617.592153</td>\n",
              "      <td>15.816871</td>\n",
              "      <td>2021-01-18</td>\n",
              "      <td>1</td>\n",
              "    </tr>\n",
              "    <tr>\n",
              "      <th>2</th>\n",
              "      <td>1</td>\n",
              "      <td>754.159807</td>\n",
              "      <td>6.232113</td>\n",
              "      <td>2021-04-20</td>\n",
              "      <td>4</td>\n",
              "    </tr>\n",
              "    <tr>\n",
              "      <th>3</th>\n",
              "      <td>1</td>\n",
              "      <td>2694.783254</td>\n",
              "      <td>18.511000</td>\n",
              "      <td>2021-08-11</td>\n",
              "      <td>8</td>\n",
              "    </tr>\n",
              "    <tr>\n",
              "      <th>4</th>\n",
              "      <td>1</td>\n",
              "      <td>4028.687306</td>\n",
              "      <td>26.265803</td>\n",
              "      <td>2021-08-28</td>\n",
              "      <td>8</td>\n",
              "    </tr>\n",
              "  </tbody>\n",
              "</table>\n",
              "</div>"
            ],
            "text/plain": [
              "   user_id     distance   duration       date  month\n",
              "0        1  4409.919140  25.599769 2021-01-01      1\n",
              "1        1  2617.592153  15.816871 2021-01-18      1\n",
              "2        1   754.159807   6.232113 2021-04-20      4\n",
              "3        1  2694.783254  18.511000 2021-08-11      8\n",
              "4        1  4028.687306  26.265803 2021-08-28      8"
            ]
          },
          "execution_count": 4,
          "metadata": {},
          "output_type": "execute_result"
        }
      ],
      "source": [
        "data_rides_go[\"month\"] = data_rides_go['date'].dt.month\n",
        "# Для самопроверки взглянем еще раз на первые строки датафрейма\n",
        "data_rides_go.head()"
      ]
    },
    {
      "cell_type": "markdown",
      "id": "1a5e573a",
      "metadata": {
        "id": "1a5e573a"
      },
      "source": [
        "**Выявим и обработаем пропущенные значения и дубликаты во всех датафреймах.**"
      ]
    },
    {
      "cell_type": "markdown",
      "id": "d9d23d6e",
      "metadata": {
        "id": "d9d23d6e"
      },
      "source": [
        "##### Выявим и обработаем пропущенные значения и дубликаты в датафрейме data_users_go"
      ]
    },
    {
      "cell_type": "code",
      "execution_count": null,
      "id": "3fe65baa",
      "metadata": {
        "id": "3fe65baa",
        "outputId": "e1175c04-a5dc-4cbd-c5b7-11146b2c7d22"
      },
      "outputs": [
        {
          "data": {
            "text/plain": [
              "user_id              0\n",
              "name                 0\n",
              "age                  0\n",
              "city                 0\n",
              "subscription_type    0\n",
              "dtype: int64"
            ]
          },
          "execution_count": 5,
          "metadata": {},
          "output_type": "execute_result"
        }
      ],
      "source": [
        "data_users_go.isna().sum() # Ищем пропуски в данных по каждому столбцу"
      ]
    },
    {
      "cell_type": "code",
      "execution_count": null,
      "id": "def1ba3b",
      "metadata": {
        "id": "def1ba3b",
        "outputId": "235a336a-6faf-4c04-95f1-190e39608f55"
      },
      "outputs": [
        {
          "data": {
            "text/plain": [
              "31"
            ]
          },
          "execution_count": 6,
          "metadata": {},
          "output_type": "execute_result"
        }
      ],
      "source": [
        "data_users_go.duplicated().sum() # Ищем строки-дубликаты"
      ]
    },
    {
      "cell_type": "markdown",
      "id": "65e03cc0",
      "metadata": {
        "id": "65e03cc0"
      },
      "source": [
        "**Выявлено наличие 31 строки-дубликата.** Датафрейм data_users_go имеет 1565 строк, 31 строка составляет менее 2-х процентов от объема всего датафрейма, исходя из чего принимаем решение об удалении таких строк."
      ]
    },
    {
      "cell_type": "code",
      "execution_count": null,
      "id": "63daf23f",
      "metadata": {
        "id": "63daf23f",
        "outputId": "2ac58fbe-ac13-4257-da79-35ab43090c80"
      },
      "outputs": [
        {
          "data": {
            "text/plain": [
              "0"
            ]
          },
          "execution_count": 7,
          "metadata": {},
          "output_type": "execute_result"
        }
      ],
      "source": [
        "data_users_go = data_users_go.drop_duplicates() # Удаляем строки-дубликаты\n",
        "data_users_go.duplicated().sum() # Проверяем себя"
      ]
    },
    {
      "cell_type": "markdown",
      "id": "0bd82d4f",
      "metadata": {
        "id": "0bd82d4f"
      },
      "source": [
        "*Строки-дубликаты удалены.*"
      ]
    },
    {
      "cell_type": "code",
      "execution_count": null,
      "id": "5801f131",
      "metadata": {
        "id": "5801f131",
        "outputId": "9c3ecc01-9813-4b8d-81a8-d71c2b263903"
      },
      "outputs": [
        {
          "name": "stdout",
          "output_type": "stream",
          "text": [
            "['Агата' 'Аделина' 'Адель' 'Айдар' 'Александр' 'Александра' 'Алексей'\n",
            " 'Алина' 'Алиса' 'Алия' 'Алла' 'Альберт' 'Альбина' 'Алёна' 'Амалия'\n",
            " 'Амина' 'Амир' 'Анастасия' 'Анатолий' 'Ангелина' 'Андрей' 'Анжелика'\n",
            " 'Анна' 'Антон' 'Антонина' 'Ариана' 'Арина' 'Арсен' 'Арсений' 'Артемий'\n",
            " 'Артур' 'Артём' 'Богдан' 'Борис' 'Вадим' 'Валентина' 'Валерий' 'Валерия'\n",
            " 'Варвара' 'Василий' 'Василина' 'Василиса' 'Вера' 'Вероника' 'Виктор'\n",
            " 'Виктория' 'Виолетта' 'Виталий' 'Виталина' 'Влад' 'Влада' 'Владимир'\n",
            " 'Владислав' 'Владислава' 'Всеволод' 'Вячеслав' 'Галина' 'Георгий'\n",
            " 'Герман' 'Глеб' 'Гордей' 'Григорий' 'Давид' 'Дамир' 'Даниил' 'Данил'\n",
            " 'Данила' 'Даниэль' 'Дарина' 'Дарья' 'Демид' 'Денис' 'Диана' 'Дмитрий'\n",
            " 'Ева' 'Евгений' 'Евгения' 'Егор' 'Екатерина' 'Елена' 'Елизавета' 'Елисей'\n",
            " 'Есения' 'Жанна' 'Зарина' 'Захар' 'Злата' 'Иван' 'Игнат' 'Игорь' 'Ильдар'\n",
            " 'Илья' 'Инна' 'Ирина' 'Камилла' 'Карина' 'Каролина' 'Кира' 'Кирилл'\n",
            " 'Константин' 'Кристина' 'Ксения' 'Лариса' 'Лев' 'Леонид' 'Лиана' 'Лидия'\n",
            " 'Лилия' 'Любовь' 'Людмила' 'Мадина' 'Майя' 'Макар' 'Максим' 'Марат'\n",
            " 'Маргарита' 'Марина' 'Мария' 'Марк' 'Марсель' 'Матвей' 'Мелания' 'Милана'\n",
            " 'Милена' 'Мирон' 'Мирослав' 'Мирослава' 'Михаил' 'Назар' 'Наталия'\n",
            " 'Наталья' 'Наташа' 'Нелли' 'Ника' 'Никита' 'Николай' 'Нина' 'Одиссей'\n",
            " 'Оксана' 'Олег' 'Олеся' 'Ольга' 'Павел' 'Петр' 'Платон' 'Полина' 'Радмир'\n",
            " 'Рамиль' 'Регина' 'Роберт' 'Родион' 'Роман' 'Ростислав' 'Руслан' 'Рустам'\n",
            " 'Савелий' 'Самир' 'Самира' 'Светлана' 'Святогор' 'Святослав' 'Семен'\n",
            " 'Сергей' 'Снежана' 'София' 'Софья' 'Станислав' 'Степан' 'Стефания'\n",
            " 'Таисия' 'Тамара' 'Тамерлан' 'Татьяна' 'Тимофей' 'Тимур' 'Тихон' 'Ульяна'\n",
            " 'Федор' 'Эвелина' 'Эдуард' 'Элина' 'Эльвира' 'Эльмира' 'Эмилия' 'Эмиль'\n",
            " 'Юлиана' 'Юлия' 'Юрий' 'Ян' 'Яна' 'Яромир' 'Ярослав' 'Ярослава' 'Ясмина']\n"
          ]
        },
        {
          "data": {
            "text/plain": [
              "array(['Екатеринбург', 'Краснодар', 'Москва', 'Омск', 'Пятигорск',\n",
              "       'Ростов-на-Дону', 'Сочи', 'Тюмень'], dtype=object)"
            ]
          },
          "execution_count": 8,
          "metadata": {},
          "output_type": "execute_result"
        }
      ],
      "source": [
        "# Посмотрим есть ли неявные дубликаты в стошлбцах 'name' и 'city'\n",
        "names = data_users_go['name'].unique()\n",
        "citys = data_users_go['city'].unique()\n",
        "names.sort()\n",
        "citys.sort()\n",
        "print(names)\n",
        "citys"
      ]
    },
    {
      "cell_type": "markdown",
      "id": "709b09ea",
      "metadata": {
        "id": "709b09ea"
      },
      "source": [
        "**Вывод:** датафрейм не имеет пропусков и неявных дубликатов, небольшое количество имевшихся строк-дубликатов удалено."
      ]
    },
    {
      "cell_type": "markdown",
      "id": "ca22e619",
      "metadata": {
        "id": "ca22e619"
      },
      "source": [
        "##### Выявим и обработаем пропущенные значения и дубликаты в датафрейме data_rides_go"
      ]
    },
    {
      "cell_type": "code",
      "execution_count": null,
      "id": "2cca9188",
      "metadata": {
        "id": "2cca9188",
        "outputId": "df374840-4658-4b60-c3c3-7db4a1a08960"
      },
      "outputs": [
        {
          "data": {
            "text/plain": [
              "user_id     0\n",
              "distance    0\n",
              "duration    0\n",
              "date        0\n",
              "month       0\n",
              "dtype: int64"
            ]
          },
          "execution_count": 9,
          "metadata": {},
          "output_type": "execute_result"
        }
      ],
      "source": [
        "data_rides_go.isna().sum() # Ищем пропуски в данных по каждому столбцу"
      ]
    },
    {
      "cell_type": "code",
      "execution_count": null,
      "id": "e6845872",
      "metadata": {
        "id": "e6845872",
        "outputId": "81ad0c99-fb2b-4cba-fc65-027ad6c140e2"
      },
      "outputs": [
        {
          "data": {
            "text/plain": [
              "0"
            ]
          },
          "execution_count": 10,
          "metadata": {},
          "output_type": "execute_result"
        }
      ],
      "source": [
        "data_rides_go.duplicated().sum() # Ищем строки-дубликаты"
      ]
    },
    {
      "cell_type": "markdown",
      "id": "ceb069cf",
      "metadata": {
        "id": "ceb069cf"
      },
      "source": [
        "**Вывод:** датафрейм не имеет пропусков и строк-дубликатов, столбцы, в которых было бы целесообразно искать неявные дубликаты, в датафрейме отсутствуют."
      ]
    },
    {
      "cell_type": "markdown",
      "id": "5c68fb91",
      "metadata": {
        "id": "5c68fb91"
      },
      "source": [
        "##### Выявим и обработаем пропущенные значения и дубликаты в датафрейме data_subscriptions_go"
      ]
    },
    {
      "cell_type": "code",
      "execution_count": null,
      "id": "9115ef55",
      "metadata": {
        "id": "9115ef55",
        "outputId": "cece8ab6-fc8e-4706-fb82-0754d7db2c76"
      },
      "outputs": [
        {
          "data": {
            "text/html": [
              "<div>\n",
              "<style scoped>\n",
              "    .dataframe tbody tr th:only-of-type {\n",
              "        vertical-align: middle;\n",
              "    }\n",
              "\n",
              "    .dataframe tbody tr th {\n",
              "        vertical-align: top;\n",
              "    }\n",
              "\n",
              "    .dataframe thead th {\n",
              "        text-align: right;\n",
              "    }\n",
              "</style>\n",
              "<table border=\"1\" class=\"dataframe\">\n",
              "  <thead>\n",
              "    <tr style=\"text-align: right;\">\n",
              "      <th></th>\n",
              "      <th>subscription_type</th>\n",
              "      <th>minute_price</th>\n",
              "      <th>start_ride_price</th>\n",
              "      <th>subscription_fee</th>\n",
              "    </tr>\n",
              "  </thead>\n",
              "  <tbody>\n",
              "    <tr>\n",
              "      <th>0</th>\n",
              "      <td>free</td>\n",
              "      <td>8</td>\n",
              "      <td>50</td>\n",
              "      <td>0</td>\n",
              "    </tr>\n",
              "    <tr>\n",
              "      <th>1</th>\n",
              "      <td>ultra</td>\n",
              "      <td>6</td>\n",
              "      <td>0</td>\n",
              "      <td>199</td>\n",
              "    </tr>\n",
              "  </tbody>\n",
              "</table>\n",
              "</div>"
            ],
            "text/plain": [
              "  subscription_type  minute_price  start_ride_price  subscription_fee\n",
              "0              free             8                50                 0\n",
              "1             ultra             6                 0               199"
            ]
          },
          "execution_count": 11,
          "metadata": {},
          "output_type": "execute_result"
        }
      ],
      "source": [
        "data_subscriptions_go # Выводим на экран датафрейм"
      ]
    },
    {
      "cell_type": "markdown",
      "id": "092d82df",
      "metadata": {
        "id": "092d82df"
      },
      "source": [
        "**Вывод:** в датафрейме отсутствуют пропуски, строки-дубликаты и неявные дубликаты."
      ]
    },
    {
      "cell_type": "markdown",
      "id": "42e3e6f6",
      "metadata": {
        "id": "42e3e6f6"
      },
      "source": [
        "**Вывод по трем датафреймам:**  в датафрейме data_users_go была выявлена 31 строка-дубликат, ввиду того, что данное количество строк составляет менее 2-х процентов от объема всего датафрейма, указанные строки были удалены из датафрейма. Датафреймы data_rides_go и data_subscriptions_go дополнительных действий в части устранения пропусков и дубликатов не потребовали."
      ]
    },
    {
      "cell_type": "markdown",
      "id": "212593c7",
      "metadata": {
        "id": "212593c7"
      },
      "source": [
        "#### Шаг 3. Исследовательский анализ данных"
      ]
    },
    {
      "cell_type": "markdown",
      "id": "a9c207a6",
      "metadata": {
        "id": "a9c207a6"
      },
      "source": [
        "**Опишем и визуализируем общую информацию о пользователях и поездках.**"
      ]
    },
    {
      "cell_type": "markdown",
      "id": "ea73e551",
      "metadata": {
        "id": "ea73e551"
      },
      "source": [
        "##### Частота встречаемости городов"
      ]
    },
    {
      "cell_type": "code",
      "execution_count": null,
      "id": "5a991b43",
      "metadata": {
        "id": "5a991b43",
        "outputId": "f33961b0-3102-4fb0-a396-d535a96577e0"
      },
      "outputs": [
        {
          "data": {
            "image/png": "[encoded data removed]",
            "text/plain": [
              "<Figure size 720x432 with 1 Axes>"
            ]
          },
          "metadata": {
            "needs_background": "light"
          },
          "output_type": "display_data"
        }
      ],
      "source": [
        "data_users_go['city'].hist(bins=100, figsize=(10, 6));\n",
        "plt.title('Количество пользователей в каждом из изучаемых городов')\n",
        "plt.xlabel('Города')\n",
        "plt.ylabel('Пользователи');"
      ]
    },
    {
      "cell_type": "code",
      "execution_count": null,
      "id": "14f40d1e",
      "metadata": {
        "id": "14f40d1e",
        "outputId": "3325fc5a-cc18-46b6-de07-85171e73c68c"
      },
      "outputs": [
        {
          "data": {
            "text/html": [
              "<div>\n",
              "<style scoped>\n",
              "    .dataframe tbody tr th:only-of-type {\n",
              "        vertical-align: middle;\n",
              "    }\n",
              "\n",
              "    .dataframe tbody tr th {\n",
              "        vertical-align: top;\n",
              "    }\n",
              "\n",
              "    .dataframe thead th {\n",
              "        text-align: right;\n",
              "    }\n",
              "</style>\n",
              "<table border=\"1\" class=\"dataframe\">\n",
              "  <thead>\n",
              "    <tr style=\"text-align: right;\">\n",
              "      <th></th>\n",
              "      <th>Частота встречаемости городов</th>\n",
              "    </tr>\n",
              "  </thead>\n",
              "  <tbody>\n",
              "    <tr>\n",
              "      <th>Пятигорск</th>\n",
              "      <td>219</td>\n",
              "    </tr>\n",
              "    <tr>\n",
              "      <th>Екатеринбург</th>\n",
              "      <td>204</td>\n",
              "    </tr>\n",
              "    <tr>\n",
              "      <th>Ростов-на-Дону</th>\n",
              "      <td>198</td>\n",
              "    </tr>\n",
              "    <tr>\n",
              "      <th>Краснодар</th>\n",
              "      <td>193</td>\n",
              "    </tr>\n",
              "    <tr>\n",
              "      <th>Сочи</th>\n",
              "      <td>189</td>\n",
              "    </tr>\n",
              "    <tr>\n",
              "      <th>Омск</th>\n",
              "      <td>183</td>\n",
              "    </tr>\n",
              "    <tr>\n",
              "      <th>Тюмень</th>\n",
              "      <td>180</td>\n",
              "    </tr>\n",
              "    <tr>\n",
              "      <th>Москва</th>\n",
              "      <td>168</td>\n",
              "    </tr>\n",
              "  </tbody>\n",
              "</table>\n",
              "</div>"
            ],
            "text/plain": [
              "                Частота встречаемости городов\n",
              "Пятигорск                                 219\n",
              "Екатеринбург                              204\n",
              "Ростов-на-Дону                            198\n",
              "Краснодар                                 193\n",
              "Сочи                                      189\n",
              "Омск                                      183\n",
              "Тюмень                                    180\n",
              "Москва                                    168"
            ]
          },
          "execution_count": 13,
          "metadata": {},
          "output_type": "execute_result"
        }
      ],
      "source": [
        "freq_of_city = data_users_go['city'].value_counts()\n",
        "freq_of_city.to_frame(name='Частота встречаемости городов')"
      ]
    },
    {
      "cell_type": "markdown",
      "id": "fc4771e6",
      "metadata": {
        "id": "fc4771e6"
      },
      "source": [
        "Изучив, содержащиеся в данных сведения о городах, приходим к **выводу**, что лидером по количеству пользователей является Пятигорск: 219 пользователей, на второй и третьей позициях Екатеринбург и Ростов-на-Дону соответственно, с показателями в 204 и 198 пользователей. Далее города располагаются по нисходящей в следующем порядке: Краснодар - 193 пользователей, Сочи - 189 пользователей, Омск - 183 пользователей, Тюмень - 180 пользователей, Москва - 168 пользователей."
      ]
    },
    {
      "cell_type": "markdown",
      "id": "c5bcaeab",
      "metadata": {
        "id": "c5bcaeab"
      },
      "source": [
        "##### Соотношение пользователей с подпиской и без подписки"
      ]
    },
    {
      "cell_type": "code",
      "execution_count": null,
      "id": "d2aee389",
      "metadata": {
        "id": "d2aee389",
        "outputId": "9e8a3e71-9a3e-4cc5-f5f1-7544bda93f5b"
      },
      "outputs": [
        {
          "data": {
            "text/html": [
              "<div>\n",
              "<style scoped>\n",
              "    .dataframe tbody tr th:only-of-type {\n",
              "        vertical-align: middle;\n",
              "    }\n",
              "\n",
              "    .dataframe tbody tr th {\n",
              "        vertical-align: top;\n",
              "    }\n",
              "\n",
              "    .dataframe thead th {\n",
              "        text-align: right;\n",
              "    }\n",
              "</style>\n",
              "<table border=\"1\" class=\"dataframe\">\n",
              "  <thead>\n",
              "    <tr style=\"text-align: right;\">\n",
              "      <th></th>\n",
              "      <th></th>\n",
              "      <th>Колличество пользователей с подпиской (ultra) и без подписки (free)</th>\n",
              "    </tr>\n",
              "  </thead>\n",
              "  <tbody>\n",
              "    <tr>\n",
              "      <th>0</th>\n",
              "      <td>ultra</td>\n",
              "      <td>699</td>\n",
              "    </tr>\n",
              "    <tr>\n",
              "      <th>1</th>\n",
              "      <td>free</td>\n",
              "      <td>835</td>\n",
              "    </tr>\n",
              "  </tbody>\n",
              "</table>\n",
              "</div>"
            ],
            "text/plain": [
              "          Колличество пользователей с подпиской (ultra) и без подписки (free)\n",
              "0  ultra                                                699                  \n",
              "1   free                                                835                  "
            ]
          },
          "execution_count": 14,
          "metadata": {},
          "output_type": "execute_result"
        },
        {
          "data": {
            "image/png": "[encoded data removed]",
            "text/plain": [
              "<Figure size 720x720 with 1 Axes>"
            ]
          },
          "metadata": {},
          "output_type": "display_data"
        }
      ],
      "source": [
        "# Получаем чмсло пользователей с подпиской и без и строим уруговую диаграмму для них\n",
        "subscription_type = data_users_go['subscription_type'].value_counts(ascending=True)\n",
        "data_subscription_type = subscription_type.to_frame().reset_index().rename(columns={'index':' ', 'subscription_type':'Колличество пользователей с подпиской (ultra) и без подписки (free)'})\n",
        "plt.figure(figsize=(10, 10)).add_subplot().pie(data_subscription_type['Колличество пользователей с подпиской (ultra) и без подписки (free)'],\n",
        "           labels=data_subscription_type[' '], startangle=45, autopct='%.2f');\n",
        "plt.title('Соотношение пользователей с подпиской (ultra) и без подписки (free)');\n",
        "data_subscription_type"
      ]
    },
    {
      "cell_type": "markdown",
      "id": "4bdc4fba",
      "metadata": {
        "id": "4bdc4fba"
      },
      "source": [
        "Изучив, содержащиеся в данных сведения о пользователях с подпиской и без подписки приходим к **выводу**, что большая часть пользователей пользуется самокатами без подписки (54,43%), разрыв составляет 136 пользователей, количество пользователей с подпиской - 699 человек, без подписки - 835 человек."
      ]
    },
    {
      "cell_type": "markdown",
      "id": "d7e9b101",
      "metadata": {
        "id": "d7e9b101"
      },
      "source": [
        "##### Возраст пользователей"
      ]
    },
    {
      "cell_type": "code",
      "execution_count": null,
      "id": "2da90af7",
      "metadata": {
        "id": "2da90af7",
        "outputId": "80710c2f-b790-4bab-dd85-dc1607ea6c3b"
      },
      "outputs": [
        {
          "data": {
            "image/png": "[encoded data removed]",
            "text/plain": [
              "<Figure size 720x432 with 1 Axes>"
            ]
          },
          "metadata": {
            "needs_background": "light"
          },
          "output_type": "display_data"
        }
      ],
      "source": [
        "data_users_go['age'].hist(bins=100, figsize=(10, 6));\n",
        "plt.title('Возрастной состав пользователей')\n",
        "plt.xlabel('Возраст')\n",
        "plt.ylabel('Пользователи');"
      ]
    },
    {
      "cell_type": "code",
      "execution_count": null,
      "id": "7d727812",
      "metadata": {
        "id": "7d727812",
        "outputId": "e1afa0df-21bb-4d6b-8b58-bcf52405ba25"
      },
      "outputs": [
        {
          "data": {
            "text/plain": [
              "count    1534.000000\n",
              "mean       24.903520\n",
              "std         4.572367\n",
              "min        12.000000\n",
              "25%        22.000000\n",
              "50%        25.000000\n",
              "75%        28.000000\n",
              "max        43.000000\n",
              "Name: age, dtype: float64"
            ]
          },
          "execution_count": 16,
          "metadata": {},
          "output_type": "execute_result"
        }
      ],
      "source": [
        "data_users_go['age'].describe()"
      ]
    },
    {
      "cell_type": "markdown",
      "id": "bfa0497e",
      "metadata": {
        "id": "bfa0497e"
      },
      "source": [
        "Гистограмма, построенная по сведениям о возрасте пользователей имеет сходство с функцией нормального распределения, представляющей собой непрерывную колоколообразную кривую. Гистгорамма позволяет сделать следующие **выводы:** лидирующем количеством пользователей являются 25-летние - ~145 человек, второе место разделяют 24-х и 26-летние - по ~132 человек, третье место 23-летние - ~130 человек. 22-х, 27 и 28-летние относятся к диапазону ~115-120 человек, 21-летние - ~90 человек, 20, 29 и 30-летние по ~70 человек, 18, 19, 31, 32 и 33-летние - в диапазоне ~40-55 человек, 17-летние - ~25 человек. Прочие возрастные группы имеют каждая менее 20 человек. Самыми малочисленными являются \"группы\", состоящие из человек старше 36 лет: 37-летнии - 2 человека, 38-летнии - 3 человека, 39 и 43-летние по 1 человеку."
      ]
    },
    {
      "cell_type": "markdown",
      "id": "066e03b7",
      "metadata": {
        "id": "066e03b7"
      },
      "source": [
        "##### Расстояние, которое пользователь преодолел за одну поездку"
      ]
    },
    {
      "cell_type": "code",
      "execution_count": null,
      "id": "674f71a3",
      "metadata": {
        "id": "674f71a3",
        "outputId": "bbf3cc03-39e2-4832-f496-93fdcce95681"
      },
      "outputs": [
        {
          "data": {
            "image/png": "[encoded data removed]",
            "text/plain": [
              "<Figure size 720x432 with 1 Axes>"
            ]
          },
          "metadata": {
            "needs_background": "light"
          },
          "output_type": "display_data"
        }
      ],
      "source": [
        "data_rides_go['distance'].hist(bins=100, figsize=(10, 6));\n",
        "plt.title('Показатели расстояния, которое пользователи преодолевают за одну поездку')\n",
        "plt.xlabel('Расстояние (м)')\n",
        "plt.ylabel('Пользователи');"
      ]
    },
    {
      "cell_type": "markdown",
      "id": "437279ba",
      "metadata": {
        "id": "437279ba"
      },
      "source": [
        "**Вывод:** гистограмма имеет сравнительно нормальное распределеление с высшей точкой расстояние в ~3200 метров. Всплеск наблюдается также на отметке в 4000 метров, учитывая, что соседние к данному значению точки, соответствующие расстояниям: ~3600-3800 метров и ~4100-4300 расположены на графике ниже. Интересно отметить, что на участке 0-1500 метров тоже наблюдается всплеск. Возможно он обусловлен наличием пользователей, совершающих поездки с целью быстро добраться куда-то на относительно небольшое расстояние."
      ]
    },
    {
      "cell_type": "markdown",
      "id": "bf0368a7",
      "metadata": {
        "id": "bf0368a7"
      },
      "source": [
        "##### Продолжительность поездок"
      ]
    },
    {
      "cell_type": "code",
      "execution_count": null,
      "id": "4823a33e",
      "metadata": {
        "id": "4823a33e",
        "outputId": "113a4499-7337-44fc-f886-6272e2c86f8b"
      },
      "outputs": [
        {
          "data": {
            "image/png": "[encoded data removed]",
            "text/plain": [
              "<Figure size 720x432 with 1 Axes>"
            ]
          },
          "metadata": {
            "needs_background": "light"
          },
          "output_type": "display_data"
        }
      ],
      "source": [
        "data_rides_go['duration'].hist(bins=100, figsize=(10, 6));\n",
        "plt.title('Показатели продолжительности поездок пользователей')\n",
        "plt.xlabel('Продолжительность поездки (мин.)')\n",
        "plt.ylabel('Пользователи');"
      ]
    },
    {
      "cell_type": "markdown",
      "id": "20c47730",
      "metadata": {
        "id": "20c47730"
      },
      "source": [
        "Можем сделать следующие **выводы:** самая популярная продолжительность поездки находится в диапазоне 15-20 минут, менее популярные в диапазонах 10-15 и 20-25 минут. Иные присутствующие в датафрейме значения продолжительности имеют меньшую популярность. целесообразно отметить, что самые долгие поездки продолжаются от 35 до 40 минут, но таких поездок ничтожно мало в сравнении с остальными значениями датафрейма. Вместе с тем ощутимый всплеск количества поездок (почти 100 поездок) находится в значении около одной минуты. Можем предположить, что это поездки длиной в несколько метров до 1500 метров с целью быстро добраться до какого либо места."
      ]
    },
    {
      "cell_type": "markdown",
      "id": "4ef51331",
      "metadata": {
        "id": "4ef51331"
      },
      "source": [
        "#### Шаг 4. Объединение данных"
      ]
    },
    {
      "cell_type": "markdown",
      "id": "c22df43e",
      "metadata": {
        "id": "c22df43e"
      },
      "source": [
        "##### Объединяем данные о пользователях, поездках и подписках в один датафрейм"
      ]
    },
    {
      "cell_type": "code",
      "execution_count": null,
      "id": "6bf288b5",
      "metadata": {
        "id": "6bf288b5",
        "outputId": "611cd03f-8fc0-4e18-8f08-80fbaf716b84"
      },
      "outputs": [
        {
          "name": "stdout",
          "output_type": "stream",
          "text": [
            "<class 'pandas.core.frame.DataFrame'>\n",
            "Int64Index: 18068 entries, 0 to 18067\n",
            "Data columns (total 12 columns):\n",
            " #   Column             Non-Null Count  Dtype         \n",
            "---  ------             --------------  -----         \n",
            " 0   user_id            18068 non-null  int64         \n",
            " 1   name               18068 non-null  object        \n",
            " 2   age                18068 non-null  int64         \n",
            " 3   city               18068 non-null  object        \n",
            " 4   subscription_type  18068 non-null  object        \n",
            " 5   distance           18068 non-null  float64       \n",
            " 6   duration           18068 non-null  float64       \n",
            " 7   date               18068 non-null  datetime64[ns]\n",
            " 8   month              18068 non-null  int64         \n",
            " 9   minute_price       18068 non-null  int64         \n",
            " 10  start_ride_price   18068 non-null  int64         \n",
            " 11  subscription_fee   18068 non-null  int64         \n",
            "dtypes: datetime64[ns](1), float64(2), int64(6), object(3)\n",
            "memory usage: 1.8+ MB\n",
            "None\n"
          ]
        },
        {
          "data": {
            "text/html": [
              "<div>\n",
              "<style scoped>\n",
              "    .dataframe tbody tr th:only-of-type {\n",
              "        vertical-align: middle;\n",
              "    }\n",
              "\n",
              "    .dataframe tbody tr th {\n",
              "        vertical-align: top;\n",
              "    }\n",
              "\n",
              "    .dataframe thead th {\n",
              "        text-align: right;\n",
              "    }\n",
              "</style>\n",
              "<table border=\"1\" class=\"dataframe\">\n",
              "  <thead>\n",
              "    <tr style=\"text-align: right;\">\n",
              "      <th></th>\n",
              "      <th>user_id</th>\n",
              "      <th>name</th>\n",
              "      <th>age</th>\n",
              "      <th>city</th>\n",
              "      <th>subscription_type</th>\n",
              "      <th>distance</th>\n",
              "      <th>duration</th>\n",
              "      <th>date</th>\n",
              "      <th>month</th>\n",
              "      <th>minute_price</th>\n",
              "      <th>start_ride_price</th>\n",
              "      <th>subscription_fee</th>\n",
              "    </tr>\n",
              "  </thead>\n",
              "  <tbody>\n",
              "    <tr>\n",
              "      <th>0</th>\n",
              "      <td>1</td>\n",
              "      <td>Кира</td>\n",
              "      <td>22</td>\n",
              "      <td>Тюмень</td>\n",
              "      <td>ultra</td>\n",
              "      <td>4409.919140</td>\n",
              "      <td>25.599769</td>\n",
              "      <td>2021-01-01</td>\n",
              "      <td>1</td>\n",
              "      <td>6</td>\n",
              "      <td>0</td>\n",
              "      <td>199</td>\n",
              "    </tr>\n",
              "    <tr>\n",
              "      <th>1</th>\n",
              "      <td>1</td>\n",
              "      <td>Кира</td>\n",
              "      <td>22</td>\n",
              "      <td>Тюмень</td>\n",
              "      <td>ultra</td>\n",
              "      <td>2617.592153</td>\n",
              "      <td>15.816871</td>\n",
              "      <td>2021-01-18</td>\n",
              "      <td>1</td>\n",
              "      <td>6</td>\n",
              "      <td>0</td>\n",
              "      <td>199</td>\n",
              "    </tr>\n",
              "    <tr>\n",
              "      <th>2</th>\n",
              "      <td>1</td>\n",
              "      <td>Кира</td>\n",
              "      <td>22</td>\n",
              "      <td>Тюмень</td>\n",
              "      <td>ultra</td>\n",
              "      <td>754.159807</td>\n",
              "      <td>6.232113</td>\n",
              "      <td>2021-04-20</td>\n",
              "      <td>4</td>\n",
              "      <td>6</td>\n",
              "      <td>0</td>\n",
              "      <td>199</td>\n",
              "    </tr>\n",
              "    <tr>\n",
              "      <th>3</th>\n",
              "      <td>1</td>\n",
              "      <td>Кира</td>\n",
              "      <td>22</td>\n",
              "      <td>Тюмень</td>\n",
              "      <td>ultra</td>\n",
              "      <td>2694.783254</td>\n",
              "      <td>18.511000</td>\n",
              "      <td>2021-08-11</td>\n",
              "      <td>8</td>\n",
              "      <td>6</td>\n",
              "      <td>0</td>\n",
              "      <td>199</td>\n",
              "    </tr>\n",
              "    <tr>\n",
              "      <th>4</th>\n",
              "      <td>1</td>\n",
              "      <td>Кира</td>\n",
              "      <td>22</td>\n",
              "      <td>Тюмень</td>\n",
              "      <td>ultra</td>\n",
              "      <td>4028.687306</td>\n",
              "      <td>26.265803</td>\n",
              "      <td>2021-08-28</td>\n",
              "      <td>8</td>\n",
              "      <td>6</td>\n",
              "      <td>0</td>\n",
              "      <td>199</td>\n",
              "    </tr>\n",
              "    <tr>\n",
              "      <th>5</th>\n",
              "      <td>1</td>\n",
              "      <td>Кира</td>\n",
              "      <td>22</td>\n",
              "      <td>Тюмень</td>\n",
              "      <td>ultra</td>\n",
              "      <td>2770.890808</td>\n",
              "      <td>16.650138</td>\n",
              "      <td>2021-10-09</td>\n",
              "      <td>10</td>\n",
              "      <td>6</td>\n",
              "      <td>0</td>\n",
              "      <td>199</td>\n",
              "    </tr>\n",
              "    <tr>\n",
              "      <th>6</th>\n",
              "      <td>1</td>\n",
              "      <td>Кира</td>\n",
              "      <td>22</td>\n",
              "      <td>Тюмень</td>\n",
              "      <td>ultra</td>\n",
              "      <td>3039.020292</td>\n",
              "      <td>14.927879</td>\n",
              "      <td>2021-10-19</td>\n",
              "      <td>10</td>\n",
              "      <td>6</td>\n",
              "      <td>0</td>\n",
              "      <td>199</td>\n",
              "    </tr>\n",
              "    <tr>\n",
              "      <th>7</th>\n",
              "      <td>1</td>\n",
              "      <td>Кира</td>\n",
              "      <td>22</td>\n",
              "      <td>Тюмень</td>\n",
              "      <td>ultra</td>\n",
              "      <td>2842.118050</td>\n",
              "      <td>23.117468</td>\n",
              "      <td>2021-11-06</td>\n",
              "      <td>11</td>\n",
              "      <td>6</td>\n",
              "      <td>0</td>\n",
              "      <td>199</td>\n",
              "    </tr>\n",
              "    <tr>\n",
              "      <th>8</th>\n",
              "      <td>1</td>\n",
              "      <td>Кира</td>\n",
              "      <td>22</td>\n",
              "      <td>Тюмень</td>\n",
              "      <td>ultra</td>\n",
              "      <td>3412.690668</td>\n",
              "      <td>15.238072</td>\n",
              "      <td>2021-11-14</td>\n",
              "      <td>11</td>\n",
              "      <td>6</td>\n",
              "      <td>0</td>\n",
              "      <td>199</td>\n",
              "    </tr>\n",
              "    <tr>\n",
              "      <th>9</th>\n",
              "      <td>1</td>\n",
              "      <td>Кира</td>\n",
              "      <td>22</td>\n",
              "      <td>Тюмень</td>\n",
              "      <td>ultra</td>\n",
              "      <td>748.690645</td>\n",
              "      <td>15.041884</td>\n",
              "      <td>2021-11-22</td>\n",
              "      <td>11</td>\n",
              "      <td>6</td>\n",
              "      <td>0</td>\n",
              "      <td>199</td>\n",
              "    </tr>\n",
              "    <tr>\n",
              "      <th>10</th>\n",
              "      <td>1</td>\n",
              "      <td>Кира</td>\n",
              "      <td>22</td>\n",
              "      <td>Тюмень</td>\n",
              "      <td>ultra</td>\n",
              "      <td>4031.020195</td>\n",
              "      <td>17.674448</td>\n",
              "      <td>2021-12-14</td>\n",
              "      <td>12</td>\n",
              "      <td>6</td>\n",
              "      <td>0</td>\n",
              "      <td>199</td>\n",
              "    </tr>\n",
              "    <tr>\n",
              "      <th>11</th>\n",
              "      <td>1</td>\n",
              "      <td>Кира</td>\n",
              "      <td>22</td>\n",
              "      <td>Тюмень</td>\n",
              "      <td>ultra</td>\n",
              "      <td>2720.609748</td>\n",
              "      <td>9.529463</td>\n",
              "      <td>2021-12-22</td>\n",
              "      <td>12</td>\n",
              "      <td>6</td>\n",
              "      <td>0</td>\n",
              "      <td>199</td>\n",
              "    </tr>\n",
              "    <tr>\n",
              "      <th>12</th>\n",
              "      <td>2</td>\n",
              "      <td>Станислав</td>\n",
              "      <td>31</td>\n",
              "      <td>Омск</td>\n",
              "      <td>ultra</td>\n",
              "      <td>3105.086678</td>\n",
              "      <td>24.307514</td>\n",
              "      <td>2021-03-15</td>\n",
              "      <td>3</td>\n",
              "      <td>6</td>\n",
              "      <td>0</td>\n",
              "      <td>199</td>\n",
              "    </tr>\n",
              "    <tr>\n",
              "      <th>13</th>\n",
              "      <td>2</td>\n",
              "      <td>Станислав</td>\n",
              "      <td>31</td>\n",
              "      <td>Омск</td>\n",
              "      <td>ultra</td>\n",
              "      <td>3053.519401</td>\n",
              "      <td>11.543256</td>\n",
              "      <td>2021-03-18</td>\n",
              "      <td>3</td>\n",
              "      <td>6</td>\n",
              "      <td>0</td>\n",
              "      <td>199</td>\n",
              "    </tr>\n",
              "    <tr>\n",
              "      <th>14</th>\n",
              "      <td>2</td>\n",
              "      <td>Станислав</td>\n",
              "      <td>31</td>\n",
              "      <td>Омск</td>\n",
              "      <td>ultra</td>\n",
              "      <td>4029.116927</td>\n",
              "      <td>25.109188</td>\n",
              "      <td>2021-03-23</td>\n",
              "      <td>3</td>\n",
              "      <td>6</td>\n",
              "      <td>0</td>\n",
              "      <td>199</td>\n",
              "    </tr>\n",
              "  </tbody>\n",
              "</table>\n",
              "</div>"
            ],
            "text/plain": [
              "    user_id       name  age    city subscription_type     distance   duration  \\\n",
              "0         1       Кира   22  Тюмень             ultra  4409.919140  25.599769   \n",
              "1         1       Кира   22  Тюмень             ultra  2617.592153  15.816871   \n",
              "2         1       Кира   22  Тюмень             ultra   754.159807   6.232113   \n",
              "3         1       Кира   22  Тюмень             ultra  2694.783254  18.511000   \n",
              "4         1       Кира   22  Тюмень             ultra  4028.687306  26.265803   \n",
              "5         1       Кира   22  Тюмень             ultra  2770.890808  16.650138   \n",
              "6         1       Кира   22  Тюмень             ultra  3039.020292  14.927879   \n",
              "7         1       Кира   22  Тюмень             ultra  2842.118050  23.117468   \n",
              "8         1       Кира   22  Тюмень             ultra  3412.690668  15.238072   \n",
              "9         1       Кира   22  Тюмень             ultra   748.690645  15.041884   \n",
              "10        1       Кира   22  Тюмень             ultra  4031.020195  17.674448   \n",
              "11        1       Кира   22  Тюмень             ultra  2720.609748   9.529463   \n",
              "12        2  Станислав   31    Омск             ultra  3105.086678  24.307514   \n",
              "13        2  Станислав   31    Омск             ultra  3053.519401  11.543256   \n",
              "14        2  Станислав   31    Омск             ultra  4029.116927  25.109188   \n",
              "\n",
              "         date  month  minute_price  start_ride_price  subscription_fee  \n",
              "0  2021-01-01      1             6                 0               199  \n",
              "1  2021-01-18      1             6                 0               199  \n",
              "2  2021-04-20      4             6                 0               199  \n",
              "3  2021-08-11      8             6                 0               199  \n",
              "4  2021-08-28      8             6                 0               199  \n",
              "5  2021-10-09     10             6                 0               199  \n",
              "6  2021-10-19     10             6                 0               199  \n",
              "7  2021-11-06     11             6                 0               199  \n",
              "8  2021-11-14     11             6                 0               199  \n",
              "9  2021-11-22     11             6                 0               199  \n",
              "10 2021-12-14     12             6                 0               199  \n",
              "11 2021-12-22     12             6                 0               199  \n",
              "12 2021-03-15      3             6                 0               199  \n",
              "13 2021-03-18      3             6                 0               199  \n",
              "14 2021-03-23      3             6                 0               199  "
            ]
          },
          "execution_count": 19,
          "metadata": {},
          "output_type": "execute_result"
        }
      ],
      "source": [
        "# Объединяем датафреймы data_users_go, data_rides_go и data_subscriptions_go и сохраняем их в новую переменную\n",
        "data_go_merge = data_users_go.merge(data_rides_go)\n",
        "data_go_merge = data_go_merge.merge(data_subscriptions_go)\n",
        "# Изучаем общие данные о новом датафрейме и смотрим на его первые строки\n",
        "print(data_go_merge.info())\n",
        "data_go_merge.head(15)"
      ]
    },
    {
      "cell_type": "markdown",
      "id": "58d9ad6c",
      "metadata": {
        "id": "58d9ad6c"
      },
      "source": [
        "##### Создаем датафреймы c данными о пользователях без подписки и с данными о пользователях с подпиской"
      ]
    },
    {
      "cell_type": "code",
      "execution_count": null,
      "id": "9a84ac0e",
      "metadata": {
        "id": "9a84ac0e",
        "outputId": "2585075b-f90b-4756-eab4-8747b726b45d"
      },
      "outputs": [
        {
          "name": "stdout",
          "output_type": "stream",
          "text": [
            "\n",
            "                               data_go_merge_free \n",
            "     \n",
            "<class 'pandas.core.frame.DataFrame'>\n",
            "Int64Index: 11568 entries, 6500 to 18067\n",
            "Data columns (total 12 columns):\n",
            " #   Column             Non-Null Count  Dtype         \n",
            "---  ------             --------------  -----         \n",
            " 0   user_id            11568 non-null  int64         \n",
            " 1   name               11568 non-null  object        \n",
            " 2   age                11568 non-null  int64         \n",
            " 3   city               11568 non-null  object        \n",
            " 4   subscription_type  11568 non-null  object        \n",
            " 5   distance           11568 non-null  float64       \n",
            " 6   duration           11568 non-null  float64       \n",
            " 7   date               11568 non-null  datetime64[ns]\n",
            " 8   month              11568 non-null  int64         \n",
            " 9   minute_price       11568 non-null  int64         \n",
            " 10  start_ride_price   11568 non-null  int64         \n",
            " 11  subscription_fee   11568 non-null  int64         \n",
            "dtypes: datetime64[ns](1), float64(2), int64(6), object(3)\n",
            "memory usage: 1.1+ MB\n",
            "None\n",
            "\n",
            "                              data_go_merge_ultra \n",
            "     \n",
            "<class 'pandas.core.frame.DataFrame'>\n",
            "Int64Index: 6500 entries, 0 to 6499\n",
            "Data columns (total 12 columns):\n",
            " #   Column             Non-Null Count  Dtype         \n",
            "---  ------             --------------  -----         \n",
            " 0   user_id            6500 non-null   int64         \n",
            " 1   name               6500 non-null   object        \n",
            " 2   age                6500 non-null   int64         \n",
            " 3   city               6500 non-null   object        \n",
            " 4   subscription_type  6500 non-null   object        \n",
            " 5   distance           6500 non-null   float64       \n",
            " 6   duration           6500 non-null   float64       \n",
            " 7   date               6500 non-null   datetime64[ns]\n",
            " 8   month              6500 non-null   int64         \n",
            " 9   minute_price       6500 non-null   int64         \n",
            " 10  start_ride_price   6500 non-null   int64         \n",
            " 11  subscription_fee   6500 non-null   int64         \n",
            "dtypes: datetime64[ns](1), float64(2), int64(6), object(3)\n",
            "memory usage: 660.2+ KB\n"
          ]
        }
      ],
      "source": [
        "data_go_merge_free = data_go_merge[data_go_merge.subscription_type == 'free']\n",
        "data_go_merge_ultra = data_go_merge[data_go_merge.subscription_type == 'ultra']\n",
        "# Изучаем общие данные о двух новых датафреймах\n",
        "print(\"\"\"\n",
        "                              \"\"\", 'data_go_merge_free', \"\"\"\n",
        "     \"\"\")\n",
        "print(data_go_merge_free.info())\n",
        "print(\"\"\"\n",
        "                             \"\"\", 'data_go_merge_ultra', \"\"\"\n",
        "     \"\"\")\n",
        "data_go_merge_ultra.info()"
      ]
    },
    {
      "cell_type": "markdown",
      "id": "c59d47af",
      "metadata": {
        "id": "c59d47af"
      },
      "source": [
        "##### Визуализируем информацию о расстоянии и времени поездок для пользователей без подписки и с подпиской"
      ]
    },
    {
      "cell_type": "markdown",
      "id": "6b257f47",
      "metadata": {
        "id": "6b257f47"
      },
      "source": [
        "###### Расстояние, которое пользователи без подписки преодолевают за одну поездку"
      ]
    },
    {
      "cell_type": "code",
      "execution_count": null,
      "id": "18eecf8e",
      "metadata": {
        "id": "18eecf8e",
        "outputId": "90c58cee-4b16-4960-c623-14f127643f61"
      },
      "outputs": [
        {
          "data": {
            "image/png": "[encoded data removed]",
            "text/plain": [
              "<Figure size 720x432 with 1 Axes>"
            ]
          },
          "metadata": {
            "needs_background": "light"
          },
          "output_type": "display_data"
        }
      ],
      "source": [
        "data_go_merge_free['distance'].hist(bins=100, figsize=(10, 6));\n",
        "plt.title('Показатели расстояния, которое пользователи без подписки преодолевают за одну поездку')\n",
        "plt.xlabel('Расстояние (м)')\n",
        "plt.ylabel('Пользователи');"
      ]
    },
    {
      "cell_type": "markdown",
      "id": "9cb699c4",
      "metadata": {
        "id": "9cb699c4"
      },
      "source": [
        "**Вывод:** самые высокие значения гистограмма принимает на участке, соответствующем расстоянию ~2500-3800 метров. В высшей точке гистограмма соответствует расстоянию в ~2500 метров. Всплеск наблюдается также на участке 0-1500 метров, возможно он обусловлен наличием пользователей, совершающих поездки с целью быстро добраться куда-то на относительно небольшое расстояние. В целом гистограмма максимально похожа на гистограмму, составленную по датафрейму до разделения его на пользователей с подписками и без."
      ]
    },
    {
      "cell_type": "markdown",
      "id": "0bfe48ec",
      "metadata": {
        "id": "0bfe48ec"
      },
      "source": [
        "###### Продолжительность поездок пользователей без подписки"
      ]
    },
    {
      "cell_type": "code",
      "execution_count": null,
      "id": "b55e3a13",
      "metadata": {
        "id": "b55e3a13",
        "outputId": "5054e25b-363f-4e8d-e834-82cd438472fd"
      },
      "outputs": [
        {
          "data": {
            "image/png": "[encoded data removed]",
            "text/plain": [
              "<Figure size 720x432 with 1 Axes>"
            ]
          },
          "metadata": {
            "needs_background": "light"
          },
          "output_type": "display_data"
        }
      ],
      "source": [
        "data_go_merge_free['duration'].hist(bins=100, figsize=(10, 6));\n",
        "plt.title('Показатели продолжительности поездок пользователей без подписки')\n",
        "plt.xlabel('Продолжительность (мин.)')\n",
        "plt.ylabel('Пользователи');"
      ]
    },
    {
      "cell_type": "markdown",
      "id": "add9b71a",
      "metadata": {
        "id": "add9b71a"
      },
      "source": [
        "Можем сделать следующие **выводы:** самая популярная продолжительность поездки находится в диапазоне ~17-20 минут, менее популярные в диапазонах 10-17 и 20-23 минут. Иные присутствующие в датафрейме значения продолжительности имеют меньшую популярность. целесообразно отметить, что самые долгие поездки продолжаются в районе 35 минут, но таких поездок немного. Также на данной гистограмме присутствует, наблюдавшийся на гистограмме исходного датафрейма всплеск (почти 100 поездок) в значении около одной минуты."
      ]
    },
    {
      "cell_type": "markdown",
      "id": "2a34ca2c",
      "metadata": {
        "id": "2a34ca2c"
      },
      "source": [
        "###### Расстояние, которое пользователи с подпиской преодолевают за одну поездку"
      ]
    },
    {
      "cell_type": "code",
      "execution_count": null,
      "id": "cb37293d",
      "metadata": {
        "id": "cb37293d",
        "outputId": "9a4e1007-8e18-42b2-85c6-e0240697cd54"
      },
      "outputs": [
        {
          "data": {
            "image/png": "[encoded data removed]",
            "text/plain": [
              "<Figure size 720x432 with 1 Axes>"
            ]
          },
          "metadata": {
            "needs_background": "light"
          },
          "output_type": "display_data"
        }
      ],
      "source": [
        "data_go_merge_ultra['distance'].hist(bins=100, figsize=(10, 6));\n",
        "plt.title('Показатели расстояния, которое пользователи с подпиской преодолевают за одну поездку')\n",
        "plt.xlabel('Расстояние (м)')\n",
        "plt.ylabel('Пользователи');"
      ]
    },
    {
      "cell_type": "markdown",
      "id": "ef29e201",
      "metadata": {
        "id": "ef29e201"
      },
      "source": [
        "**Вывод:** данная гистограмма также имеет сходство с гистограммой, составленной по датафрейму до разделения его на пользователей с подписками и без. Данная гистограмма имеет более высокие показатели, чем гистограмма пользователей без подписки, так наивысшая точка соответствует расстоянию в 3200 метров. Как и на гистограмме исходного датафрейма, наблюдается всплеск в районе ~4000-4200 метров. Целесообразно отметить, что всплеск на участке ~1000+-500 метров на данной гистограмме менее выражен, чем на гистограмме пользователей без подписки."
      ]
    },
    {
      "cell_type": "markdown",
      "id": "d3e3f740",
      "metadata": {
        "id": "d3e3f740"
      },
      "source": [
        "###### Продолжительность поездок пользователей с подпиской"
      ]
    },
    {
      "cell_type": "code",
      "execution_count": null,
      "id": "ff5f2c87",
      "metadata": {
        "id": "ff5f2c87",
        "outputId": "8a60f930-dccd-4a9a-c53f-69d8864c5ddc"
      },
      "outputs": [
        {
          "data": {
            "image/png": "[encoded data removed]",
            "text/plain": [
              "<Figure size 720x432 with 1 Axes>"
            ]
          },
          "metadata": {
            "needs_background": "light"
          },
          "output_type": "display_data"
        }
      ],
      "source": [
        "data_go_merge_ultra['duration'].hist(bins=100, figsize=(10, 6));\n",
        "plt.title('Показатели продолжительности поездок пользователей с подпиской')\n",
        "plt.xlabel('Продолжительность (мин.)')\n",
        "plt.ylabel('Пользователи');"
      ]
    },
    {
      "cell_type": "markdown",
      "id": "2549b763",
      "metadata": {
        "id": "2549b763"
      },
      "source": [
        "Можем сделать следующие **выводы:** самая популярная продолжительность поездки находится в диапазоне ~17-20 минут, менее популярные в диапазонах 13-17 и 20-23 минут. Иные присутствующие в датафрейме значения продолжительности имеют меньшую популярность. целесообразно отметить, что самые долгие поездки продолжаются в районе 35-40 минут, но таких поездок немного. На данной гистограмме отсутствует, наблюдавшийся на гистограмме исходного датафрейма всплеск в значении около одной минуты. Таким образом, пользователи с подпиской не совершают поездок длительностью меньше минуты."
      ]
    },
    {
      "cell_type": "markdown",
      "id": "402d620f",
      "metadata": {
        "id": "402d620f"
      },
      "source": [
        "#### Шаг 5. Подсчёт выручки"
      ]
    },
    {
      "cell_type": "markdown",
      "id": "a62da595",
      "metadata": {
        "id": "a62da595"
      },
      "source": [
        "##### Создаем датафрейм с агрегированными данными о поездках"
      ]
    },
    {
      "cell_type": "code",
      "execution_count": null,
      "id": "1ab8faa0",
      "metadata": {
        "id": "1ab8faa0",
        "outputId": "19d59477-d8c2-4cae-f8c0-a77ec77dcf26"
      },
      "outputs": [
        {
          "name": "stdout",
          "output_type": "stream",
          "text": [
            "<class 'pandas.core.frame.DataFrame'>\n",
            "MultiIndex: 11331 entries, (1, 1) to (1534, 12)\n",
            "Data columns (total 7 columns):\n",
            " #   Column             Non-Null Count  Dtype  \n",
            "---  ------             --------------  -----  \n",
            " 0   sum_distance       11331 non-null  float64\n",
            " 1   sum_duration       11331 non-null  float64\n",
            " 2   count_rides        11331 non-null  int64  \n",
            " 3   subscription_type  11331 non-null  object \n",
            " 4   minute_price       11331 non-null  int64  \n",
            " 5   start_ride_price   11331 non-null  int64  \n",
            " 6   subscription_fee   11331 non-null  int64  \n",
            "dtypes: float64(2), int64(4), object(1)\n",
            "memory usage: 665.0+ KB\n",
            "None\n"
          ]
        },
        {
          "data": {
            "text/html": [
              "<div>\n",
              "<style scoped>\n",
              "    .dataframe tbody tr th:only-of-type {\n",
              "        vertical-align: middle;\n",
              "    }\n",
              "\n",
              "    .dataframe tbody tr th {\n",
              "        vertical-align: top;\n",
              "    }\n",
              "\n",
              "    .dataframe thead th {\n",
              "        text-align: right;\n",
              "    }\n",
              "</style>\n",
              "<table border=\"1\" class=\"dataframe\">\n",
              "  <thead>\n",
              "    <tr style=\"text-align: right;\">\n",
              "      <th></th>\n",
              "      <th></th>\n",
              "      <th>sum_distance</th>\n",
              "      <th>sum_duration</th>\n",
              "      <th>count_rides</th>\n",
              "      <th>subscription_type</th>\n",
              "      <th>minute_price</th>\n",
              "      <th>start_ride_price</th>\n",
              "      <th>subscription_fee</th>\n",
              "    </tr>\n",
              "    <tr>\n",
              "      <th>user_id</th>\n",
              "      <th>month</th>\n",
              "      <th></th>\n",
              "      <th></th>\n",
              "      <th></th>\n",
              "      <th></th>\n",
              "      <th></th>\n",
              "      <th></th>\n",
              "      <th></th>\n",
              "    </tr>\n",
              "  </thead>\n",
              "  <tbody>\n",
              "    <tr>\n",
              "      <th rowspan=\"5\" valign=\"top\">1</th>\n",
              "      <th>1</th>\n",
              "      <td>7027.511294</td>\n",
              "      <td>42.0</td>\n",
              "      <td>2</td>\n",
              "      <td>ultra</td>\n",
              "      <td>6</td>\n",
              "      <td>0</td>\n",
              "      <td>199</td>\n",
              "    </tr>\n",
              "    <tr>\n",
              "      <th>4</th>\n",
              "      <td>754.159807</td>\n",
              "      <td>7.0</td>\n",
              "      <td>1</td>\n",
              "      <td>ultra</td>\n",
              "      <td>6</td>\n",
              "      <td>0</td>\n",
              "      <td>199</td>\n",
              "    </tr>\n",
              "    <tr>\n",
              "      <th>8</th>\n",
              "      <td>6723.470560</td>\n",
              "      <td>46.0</td>\n",
              "      <td>2</td>\n",
              "      <td>ultra</td>\n",
              "      <td>6</td>\n",
              "      <td>0</td>\n",
              "      <td>199</td>\n",
              "    </tr>\n",
              "    <tr>\n",
              "      <th>10</th>\n",
              "      <td>5809.911100</td>\n",
              "      <td>32.0</td>\n",
              "      <td>2</td>\n",
              "      <td>ultra</td>\n",
              "      <td>6</td>\n",
              "      <td>0</td>\n",
              "      <td>199</td>\n",
              "    </tr>\n",
              "    <tr>\n",
              "      <th>11</th>\n",
              "      <td>7003.499363</td>\n",
              "      <td>56.0</td>\n",
              "      <td>3</td>\n",
              "      <td>ultra</td>\n",
              "      <td>6</td>\n",
              "      <td>0</td>\n",
              "      <td>199</td>\n",
              "    </tr>\n",
              "    <tr>\n",
              "      <th>...</th>\n",
              "      <th>...</th>\n",
              "      <td>...</td>\n",
              "      <td>...</td>\n",
              "      <td>...</td>\n",
              "      <td>...</td>\n",
              "      <td>...</td>\n",
              "      <td>...</td>\n",
              "      <td>...</td>\n",
              "    </tr>\n",
              "    <tr>\n",
              "      <th rowspan=\"5\" valign=\"top\">1534</th>\n",
              "      <th>6</th>\n",
              "      <td>3409.468534</td>\n",
              "      <td>26.0</td>\n",
              "      <td>2</td>\n",
              "      <td>free</td>\n",
              "      <td>8</td>\n",
              "      <td>50</td>\n",
              "      <td>0</td>\n",
              "    </tr>\n",
              "    <tr>\n",
              "      <th>8</th>\n",
              "      <td>7622.453034</td>\n",
              "      <td>48.0</td>\n",
              "      <td>2</td>\n",
              "      <td>free</td>\n",
              "      <td>8</td>\n",
              "      <td>50</td>\n",
              "      <td>0</td>\n",
              "    </tr>\n",
              "    <tr>\n",
              "      <th>9</th>\n",
              "      <td>4928.173852</td>\n",
              "      <td>23.0</td>\n",
              "      <td>1</td>\n",
              "      <td>free</td>\n",
              "      <td>8</td>\n",
              "      <td>50</td>\n",
              "      <td>0</td>\n",
              "    </tr>\n",
              "    <tr>\n",
              "      <th>11</th>\n",
              "      <td>13350.015305</td>\n",
              "      <td>78.0</td>\n",
              "      <td>4</td>\n",
              "      <td>free</td>\n",
              "      <td>8</td>\n",
              "      <td>50</td>\n",
              "      <td>0</td>\n",
              "    </tr>\n",
              "    <tr>\n",
              "      <th>12</th>\n",
              "      <td>2371.711192</td>\n",
              "      <td>16.0</td>\n",
              "      <td>1</td>\n",
              "      <td>free</td>\n",
              "      <td>8</td>\n",
              "      <td>50</td>\n",
              "      <td>0</td>\n",
              "    </tr>\n",
              "  </tbody>\n",
              "</table>\n",
              "<p>11331 rows × 7 columns</p>\n",
              "</div>"
            ],
            "text/plain": [
              "               sum_distance  sum_duration  count_rides subscription_type  \\\n",
              "user_id month                                                              \n",
              "1       1       7027.511294          42.0            2             ultra   \n",
              "        4        754.159807           7.0            1             ultra   \n",
              "        8       6723.470560          46.0            2             ultra   \n",
              "        10      5809.911100          32.0            2             ultra   \n",
              "        11      7003.499363          56.0            3             ultra   \n",
              "...                     ...           ...          ...               ...   \n",
              "1534    6       3409.468534          26.0            2              free   \n",
              "        8       7622.453034          48.0            2              free   \n",
              "        9       4928.173852          23.0            1              free   \n",
              "        11     13350.015305          78.0            4              free   \n",
              "        12      2371.711192          16.0            1              free   \n",
              "\n",
              "               minute_price  start_ride_price  subscription_fee  \n",
              "user_id month                                                    \n",
              "1       1                 6                 0               199  \n",
              "        4                 6                 0               199  \n",
              "        8                 6                 0               199  \n",
              "        10                6                 0               199  \n",
              "        11                6                 0               199  \n",
              "...                     ...               ...               ...  \n",
              "1534    6                 8                50                 0  \n",
              "        8                 8                50                 0  \n",
              "        9                 8                50                 0  \n",
              "        11                8                50                 0  \n",
              "        12                8                50                 0  \n",
              "\n",
              "[11331 rows x 7 columns]"
            ]
          },
          "execution_count": 25,
          "metadata": {},
          "output_type": "execute_result"
        }
      ],
      "source": [
        "# Округляем продолжительность поездок\n",
        "data_go_merge['duration'] = np.ceil(data_go_merge['duration'])\n",
        "# Создаем агрегированный датафрейм\n",
        "new_data_go_merge = data_go_merge.groupby(['user_id', 'month'] ).agg({'distance':'sum', 'duration':['sum', 'count'],\n",
        "                                                                      'subscription_type':'first','minute_price':'first',\n",
        "                                                                      'start_ride_price':'first', 'subscription_fee':'first'})\n",
        "# Переименовываем столбцы\n",
        "new_data_go_merge.columns = ['sum_distance', 'sum_duration', 'count_rides', 'subscription_type', 'minute_price',\n",
        "                             'start_ride_price', 'subscription_fee']\n",
        "# Ознакамливаемся с агрегированным датафреймом\n",
        "print(new_data_go_merge.info())\n",
        "new_data_go_merge"
      ]
    },
    {
      "cell_type": "markdown",
      "id": "a6e44248",
      "metadata": {
        "id": "a6e44248"
      },
      "source": [
        "*Агрегированный датафрейм создан.*"
      ]
    },
    {
      "cell_type": "markdown",
      "id": "9856cfa9",
      "metadata": {
        "id": "9856cfa9"
      },
      "source": [
        "##### Добавляем в датафрейм столбец с помесячной выручкой, которую принёс каждый пользователь"
      ]
    },
    {
      "cell_type": "code",
      "execution_count": null,
      "id": "40432b07",
      "metadata": {
        "id": "40432b07",
        "outputId": "b8433361-f4ba-42dd-bdf3-1379b641b45c"
      },
      "outputs": [
        {
          "data": {
            "text/html": [
              "<div>\n",
              "<style scoped>\n",
              "    .dataframe tbody tr th:only-of-type {\n",
              "        vertical-align: middle;\n",
              "    }\n",
              "\n",
              "    .dataframe tbody tr th {\n",
              "        vertical-align: top;\n",
              "    }\n",
              "\n",
              "    .dataframe thead th {\n",
              "        text-align: right;\n",
              "    }\n",
              "</style>\n",
              "<table border=\"1\" class=\"dataframe\">\n",
              "  <thead>\n",
              "    <tr style=\"text-align: right;\">\n",
              "      <th></th>\n",
              "      <th></th>\n",
              "      <th>sum_distance</th>\n",
              "      <th>sum_duration</th>\n",
              "      <th>count_rides</th>\n",
              "      <th>subscription_type</th>\n",
              "      <th>minute_price</th>\n",
              "      <th>start_ride_price</th>\n",
              "      <th>subscription_fee</th>\n",
              "      <th>revenue</th>\n",
              "    </tr>\n",
              "    <tr>\n",
              "      <th>user_id</th>\n",
              "      <th>month</th>\n",
              "      <th></th>\n",
              "      <th></th>\n",
              "      <th></th>\n",
              "      <th></th>\n",
              "      <th></th>\n",
              "      <th></th>\n",
              "      <th></th>\n",
              "      <th></th>\n",
              "    </tr>\n",
              "  </thead>\n",
              "  <tbody>\n",
              "    <tr>\n",
              "      <th rowspan=\"5\" valign=\"top\">1</th>\n",
              "      <th>1</th>\n",
              "      <td>7027.511294</td>\n",
              "      <td>42.0</td>\n",
              "      <td>2</td>\n",
              "      <td>ultra</td>\n",
              "      <td>6</td>\n",
              "      <td>0</td>\n",
              "      <td>199</td>\n",
              "      <td>451.0</td>\n",
              "    </tr>\n",
              "    <tr>\n",
              "      <th>4</th>\n",
              "      <td>754.159807</td>\n",
              "      <td>7.0</td>\n",
              "      <td>1</td>\n",
              "      <td>ultra</td>\n",
              "      <td>6</td>\n",
              "      <td>0</td>\n",
              "      <td>199</td>\n",
              "      <td>241.0</td>\n",
              "    </tr>\n",
              "    <tr>\n",
              "      <th>8</th>\n",
              "      <td>6723.470560</td>\n",
              "      <td>46.0</td>\n",
              "      <td>2</td>\n",
              "      <td>ultra</td>\n",
              "      <td>6</td>\n",
              "      <td>0</td>\n",
              "      <td>199</td>\n",
              "      <td>475.0</td>\n",
              "    </tr>\n",
              "    <tr>\n",
              "      <th>10</th>\n",
              "      <td>5809.911100</td>\n",
              "      <td>32.0</td>\n",
              "      <td>2</td>\n",
              "      <td>ultra</td>\n",
              "      <td>6</td>\n",
              "      <td>0</td>\n",
              "      <td>199</td>\n",
              "      <td>391.0</td>\n",
              "    </tr>\n",
              "    <tr>\n",
              "      <th>11</th>\n",
              "      <td>7003.499363</td>\n",
              "      <td>56.0</td>\n",
              "      <td>3</td>\n",
              "      <td>ultra</td>\n",
              "      <td>6</td>\n",
              "      <td>0</td>\n",
              "      <td>199</td>\n",
              "      <td>535.0</td>\n",
              "    </tr>\n",
              "    <tr>\n",
              "      <th>...</th>\n",
              "      <th>...</th>\n",
              "      <td>...</td>\n",
              "      <td>...</td>\n",
              "      <td>...</td>\n",
              "      <td>...</td>\n",
              "      <td>...</td>\n",
              "      <td>...</td>\n",
              "      <td>...</td>\n",
              "      <td>...</td>\n",
              "    </tr>\n",
              "    <tr>\n",
              "      <th rowspan=\"5\" valign=\"top\">1534</th>\n",
              "      <th>6</th>\n",
              "      <td>3409.468534</td>\n",
              "      <td>26.0</td>\n",
              "      <td>2</td>\n",
              "      <td>free</td>\n",
              "      <td>8</td>\n",
              "      <td>50</td>\n",
              "      <td>0</td>\n",
              "      <td>308.0</td>\n",
              "    </tr>\n",
              "    <tr>\n",
              "      <th>8</th>\n",
              "      <td>7622.453034</td>\n",
              "      <td>48.0</td>\n",
              "      <td>2</td>\n",
              "      <td>free</td>\n",
              "      <td>8</td>\n",
              "      <td>50</td>\n",
              "      <td>0</td>\n",
              "      <td>484.0</td>\n",
              "    </tr>\n",
              "    <tr>\n",
              "      <th>9</th>\n",
              "      <td>4928.173852</td>\n",
              "      <td>23.0</td>\n",
              "      <td>1</td>\n",
              "      <td>free</td>\n",
              "      <td>8</td>\n",
              "      <td>50</td>\n",
              "      <td>0</td>\n",
              "      <td>234.0</td>\n",
              "    </tr>\n",
              "    <tr>\n",
              "      <th>11</th>\n",
              "      <td>13350.015305</td>\n",
              "      <td>78.0</td>\n",
              "      <td>4</td>\n",
              "      <td>free</td>\n",
              "      <td>8</td>\n",
              "      <td>50</td>\n",
              "      <td>0</td>\n",
              "      <td>824.0</td>\n",
              "    </tr>\n",
              "    <tr>\n",
              "      <th>12</th>\n",
              "      <td>2371.711192</td>\n",
              "      <td>16.0</td>\n",
              "      <td>1</td>\n",
              "      <td>free</td>\n",
              "      <td>8</td>\n",
              "      <td>50</td>\n",
              "      <td>0</td>\n",
              "      <td>178.0</td>\n",
              "    </tr>\n",
              "  </tbody>\n",
              "</table>\n",
              "<p>11331 rows × 8 columns</p>\n",
              "</div>"
            ],
            "text/plain": [
              "               sum_distance  sum_duration  count_rides subscription_type  \\\n",
              "user_id month                                                              \n",
              "1       1       7027.511294          42.0            2             ultra   \n",
              "        4        754.159807           7.0            1             ultra   \n",
              "        8       6723.470560          46.0            2             ultra   \n",
              "        10      5809.911100          32.0            2             ultra   \n",
              "        11      7003.499363          56.0            3             ultra   \n",
              "...                     ...           ...          ...               ...   \n",
              "1534    6       3409.468534          26.0            2              free   \n",
              "        8       7622.453034          48.0            2              free   \n",
              "        9       4928.173852          23.0            1              free   \n",
              "        11     13350.015305          78.0            4              free   \n",
              "        12      2371.711192          16.0            1              free   \n",
              "\n",
              "               minute_price  start_ride_price  subscription_fee  revenue  \n",
              "user_id month                                                             \n",
              "1       1                 6                 0               199    451.0  \n",
              "        4                 6                 0               199    241.0  \n",
              "        8                 6                 0               199    475.0  \n",
              "        10                6                 0               199    391.0  \n",
              "        11                6                 0               199    535.0  \n",
              "...                     ...               ...               ...      ...  \n",
              "1534    6                 8                50                 0    308.0  \n",
              "        8                 8                50                 0    484.0  \n",
              "        9                 8                50                 0    234.0  \n",
              "        11                8                50                 0    824.0  \n",
              "        12                8                50                 0    178.0  \n",
              "\n",
              "[11331 rows x 8 columns]"
            ]
          },
          "execution_count": 26,
          "metadata": {},
          "output_type": "execute_result"
        }
      ],
      "source": [
        "# Рассчитываем доход\n",
        "new_data_go_merge['revenue'] = new_data_go_merge['start_ride_price'] * new_data_go_merge['count_rides'] + new_data_go_merge['minute_price'] * new_data_go_merge['sum_duration'] + new_data_go_merge['subscription_fee']\n",
        "# Смотрим что получилось\n",
        "new_data_go_merge"
      ]
    },
    {
      "cell_type": "markdown",
      "id": "dee25c08",
      "metadata": {
        "id": "dee25c08"
      },
      "source": [
        "*Столбец с помесячной выручкой добавлен*"
      ]
    },
    {
      "cell_type": "markdown",
      "id": "41545ac0",
      "metadata": {
        "id": "41545ac0"
      },
      "source": [
        "#### Шаг 6. Проверка гипотез"
      ]
    },
    {
      "cell_type": "markdown",
      "id": "b2421260",
      "metadata": {
        "id": "b2421260"
      },
      "source": [
        "##### Гипотеза \"Тратят ли пользователи с подпиской больше времени на поездки?\""
      ]
    },
    {
      "cell_type": "markdown",
      "id": "3b488953",
      "metadata": {
        "id": "3b488953"
      },
      "source": [
        "Сформулируем H₀ как \"среднии двух генеральных совокупностей равны\", а Н1 как \"среднее генеральной совокупности данных о времени поездок пользователей с подпиской больше\" и проведем статистический тест."
      ]
    },
    {
      "cell_type": "code",
      "execution_count": null,
      "id": "9338f896",
      "metadata": {
        "id": "9338f896",
        "outputId": "68eb5a85-a6a5-460a-8ef9-45b3db4aca53"
      },
      "outputs": [
        {
          "name": "stdout",
          "output_type": "stream",
          "text": [
            "p-value: 1.2804098316645618e-34\n",
            "Отвергаем нулевую гипотезу\n"
          ]
        }
      ],
      "source": [
        "alpha = 0.01\n",
        "\n",
        "results = st.ttest_ind(data_go_merge_ultra['duration'], data_go_merge_free['duration'], alternative='greater')\n",
        "\n",
        "print('p-value:', results.pvalue)\n",
        "\n",
        "if results.pvalue < alpha:\n",
        "    print('Отвергаем нулевую гипотезу')\n",
        "else:\n",
        "    print('Нет оснований отвергнуть нулевую гипотезу')"
      ]
    },
    {
      "cell_type": "markdown",
      "id": "3e4a3c3d",
      "metadata": {
        "id": "3e4a3c3d"
      },
      "source": [
        "Статистический тест показал, что продолжительности поездки пользователей с подпиской и без неё не равны. Мы обладаем обеими совокупностями и можем рассчитать общую продолжительность поездок для обоих категорий пользователей."
      ]
    },
    {
      "cell_type": "code",
      "execution_count": null,
      "id": "15e52699",
      "metadata": {
        "id": "15e52699",
        "outputId": "0504ceca-933a-495a-dc7c-a3387097992a"
      },
      "outputs": [
        {
          "name": "stdout",
          "output_type": "stream",
          "text": [
            "Общая продолжительность поездок пользователей без подписки: 201178.038766945\n",
            "Общая продолжительность поездок пользователей с подпиской: 120522.90355823789\n"
          ]
        }
      ],
      "source": [
        "print('Общая продолжительность поездок пользователей без подписки:', data_go_merge_free['duration'].sum())\n",
        "print('Общая продолжительность поездок пользователей с подпиской:', data_go_merge_ultra['duration'].sum())"
      ]
    },
    {
      "cell_type": "markdown",
      "id": "e994b182",
      "metadata": {
        "id": "e994b182"
      },
      "source": [
        "**Вывод:** *гипотезу \"пользователи с подпиской тратят больше времени на поездки\" необходимо отбросить, т.к. больше времени на поездки тратят пользователи **без подписки** - на 80000 часов больше.*"
      ]
    },
    {
      "cell_type": "markdown",
      "id": "927d9d20",
      "metadata": {
        "id": "927d9d20"
      },
      "source": [
        "##### Гипотеза \"Среднее расстояние, которое проезжают пользователи с подпиской за одну поездку, не превышает 3130 метров?\""
      ]
    },
    {
      "cell_type": "markdown",
      "id": "badf454d",
      "metadata": {
        "id": "badf454d"
      },
      "source": [
        "Сформулируем H₀ как \"среднее расстояние, которое проезжают пользователи с подпиской за одну поездку, равно 3130 метрам\", а Н1 как \"среднее расстояние, которое проезжают пользователи с подпиской за одну поездку, больше 3130 метров\"."
      ]
    },
    {
      "cell_type": "code",
      "execution_count": null,
      "id": "552c0a6e",
      "metadata": {
        "id": "552c0a6e",
        "outputId": "a8a05379-1f5d-46bb-a444-aec24a8a7ee5"
      },
      "outputs": [
        {
          "name": "stdout",
          "output_type": "stream",
          "text": [
            "p-значение: 0.9195368847849785\n",
            "Отвергаем гипотезу H1: среднее расстояние, которое проезжают пользователи с подпиской за одну поездку, менее 3130 метров.\n"
          ]
        }
      ],
      "source": [
        "interested_value = 3130\n",
        "\n",
        "alpha =  0.01\n",
        "\n",
        "results = st.ttest_1samp(data_go_merge_ultra['distance'], interested_value, alternative='greater')\n",
        "\n",
        "print('p-значение:', results.pvalue)\n",
        "\n",
        "if (results.pvalue < alpha):\n",
        "    print('Отвергаем гипотезу H₀: cреднее расстояние, которое проезжают пользователи с подпиской за одну поездку, не равно', interested_value, 'метрам.')\n",
        "else:\n",
        "    print('Отвергаем гипотезу H1: среднее расстояние, которое проезжают пользователи с подпиской за одну поездку, менее', interested_value, 'метров.')"
      ]
    },
    {
      "cell_type": "markdown",
      "id": "f4bf5cd4",
      "metadata": {
        "id": "f4bf5cd4"
      },
      "source": [
        "По результатам проведенного теста гипотеза \"среднее расстояние, которое проезжают пользователи с подпиской за одну поездку, больше 3130 метров\" отвергнута. Посмотрим чему равна средняя дистанция поездок указанных пользователей."
      ]
    },
    {
      "cell_type": "code",
      "execution_count": null,
      "id": "b6882097",
      "metadata": {
        "id": "b6882097",
        "outputId": "a1fb8139-c7e0-4d00-8d65-ef5fb471abb3"
      },
      "outputs": [
        {
          "name": "stdout",
          "output_type": "stream",
          "text": [
            "Средняя дистанция поездок пользователей с подпиской: 3115.4453880370247\n"
          ]
        }
      ],
      "source": [
        "print('Средняя дистанция поездок пользователей с подпиской:', data_go_merge_ultra['distance'].mean())"
      ]
    },
    {
      "cell_type": "markdown",
      "id": "6d7cd090",
      "metadata": {
        "id": "6d7cd090"
      },
      "source": [
        "**Вывод:** *гипотеза \"среднее расстояние, которое проезжают пользователи с подпиской за одну поездку, больше 3130 метров\" отвергнута. Установлено, что средняя дистанция поездок пользователей с подпиской **менее 3130 метров**."
      ]
    },
    {
      "cell_type": "markdown",
      "id": "af66130d",
      "metadata": {
        "id": "af66130d"
      },
      "source": [
        "##### Гипотеза \"Будет ли помесячная выручка от пользователей с подпиской по месяцам выше, чем выручка от пользователей без подписки?\""
      ]
    },
    {
      "cell_type": "markdown",
      "id": "b0c942bd",
      "metadata": {
        "id": "b0c942bd"
      },
      "source": [
        "Сформулируем H₀ как \"среднии двух генеральных совокупностей равны\", а Н1 как \"среднее генеральной совокупности данных о помесячная выручка от пользователей с подпиской по месяцам выше, чем выручка от пользователей без подписки\" и проведем статистический тест."
      ]
    },
    {
      "cell_type": "code",
      "execution_count": null,
      "id": "437ad055",
      "metadata": {
        "id": "437ad055",
        "outputId": "b6decd52-674c-4224-e6c9-8ebfe32e04a5"
      },
      "outputs": [
        {
          "name": "stdout",
          "output_type": "stream",
          "text": [
            "p-value: 1.8850394384715216e-31\n",
            "Отвергаем нулевую гипотезу\n"
          ]
        }
      ],
      "source": [
        "# Дополним агрегированный датафрейм сведениями о наличии или отсутствии подписки\n",
        "new_data_go_merge['subscription_type'] = new_data_go_merge['subscription_type']\n",
        "\n",
        "alpha = 0.01\n",
        "\n",
        "results = st.ttest_ind(\n",
        "    new_data_go_merge.query('subscription_type == \"ultra\"')['revenue'],\n",
        "    new_data_go_merge.query('subscription_type == \"free\"')['revenue'], alternative='greater')\n",
        "\n",
        "print('p-value:', results.pvalue)\n",
        "\n",
        "if results.pvalue < alpha:\n",
        "    print('Отвергаем нулевую гипотезу')\n",
        "else:\n",
        "    print('Нет оснований отвергнуть нулевую гипотезу')"
      ]
    },
    {
      "cell_type": "markdown",
      "id": "0d8b8bae",
      "metadata": {
        "id": "0d8b8bae"
      },
      "source": [
        "Полученное значение p-value меньше заданного уровня значимости, поэтому мы отвергаем нулевую гипотезу и имеем основания говорить, что пользователи с подпиской тратят в сервисе меньше денег. Рассчитаем фактические траты для обоих категорий пользователей."
      ]
    },
    {
      "cell_type": "code",
      "execution_count": null,
      "id": "50f1cbe8",
      "metadata": {
        "id": "50f1cbe8",
        "outputId": "5db5352b-de2f-4398-f271-ebd54f4b8352"
      },
      "outputs": [
        {
          "name": "stdout",
          "output_type": "stream",
          "text": [
            "Общая выручка с пользователей без подписки: 2234104.0\n",
            "Общая выручка с пользователей с подпиской: 1644537.0\n"
          ]
        }
      ],
      "source": [
        "print('Общая выручка с пользователей без подписки:', new_data_go_merge.query('subscription_type == \"free\"')['revenue'].sum())\n",
        "print('Общая выручка с пользователей с подпиской:', new_data_go_merge.query('subscription_type == \"ultra\"')['revenue'].sum())"
      ]
    },
    {
      "cell_type": "markdown",
      "id": "c2c4bcc6",
      "metadata": {
        "id": "c2c4bcc6"
      },
      "source": [
        "**Вывод:** *гипотезу \"помесячная выручка от пользователей с подпиской по месяцам выше, чем выручка от пользователей без подписки\" необходимо отбросить. Выручка с пользователей с подпиской\" **почти на 600000 меньше** выручки с пользователей без подписки.*"
      ]
    },
    {
      "cell_type": "markdown",
      "id": "ef70956b",
      "metadata": {
        "id": "ef70956b"
      },
      "source": [
        "##### Задание на подбор верного теста для проверки гипотезы"
      ]
    },
    {
      "cell_type": "markdown",
      "id": "2514e27d",
      "metadata": {
        "id": "2514e27d"
      },
      "source": [
        "Для проверки гипотезы о том, что после обновления серверов количество обращений в техподдержку значимо снизилось необходимо провести тест, проверябщий равны ли средние совокупности до и после этого их изменения - **метод scipy.stats.ttest_rel().**"
      ]
    },
    {
      "cell_type": "markdown",
      "id": "cfba1c21",
      "metadata": {
        "id": "cfba1c21"
      },
      "source": [
        "#### Общий вывод"
      ]
    },
    {
      "cell_type": "markdown",
      "id": "a89aab1d",
      "metadata": {
        "id": "a89aab1d"
      },
      "source": [
        "**В части качества данных**\n",
        "\n",
        "Данные во всех трёх датафреймах (data_users_go – данные о пользователях, data_rides_go – данные о поездках, data_subscriptions_go – данные о подписках) характеризуются полным отсутствием пропусков и неявных дубликатов. В датафреймах data_rides_go и data_subscriptions_go также отсутствовали строки-дубликаты. В датафрейме data_users_go было выявлено небольшое количество строк-дубликатов (31), ввиду того, что данное количество строк составляет менее 2-х процентов от объема всего датафрейма, указанные строки были удалены из датафрейма.\n",
        "Была выявлены проблемы с типом данных в столбце 'date' датафрейма data_rides_go, который имел тип данных object, тогда как он должен иметь тип данных дата pandas. Тип данных был скорректирован. Также на этапе предобработки данных датафрейм data_rides_go дополнен столбцом, содержащим сведения о календарном месяце.\n",
        "\n",
        "**В части изучения отдельных параметров данных:**\n",
        "\n",
        "*Частота встречаемости городов* \\\n",
        "Сделан вывод о том, что лидером по количеству пользователей является Пятигорск: 219 пользователей, на второй и третьей позициях Екатеринбург и Ростов-на-Дону соответственно, с показателями в 204 и 198 пользователей. Далее города располагаются по нисходящей в следующем порядке: Краснодар - 193 пользователей, Сочи - 189 пользователей, Омск - 183 пользователей, Тюмень - 180 пользователей, Москва - 168 пользователей.\n",
        "\n",
        "*Соотношение пользователей с подпиской и без подписки* \\\n",
        "Доля пользователях с подпиской составляет 45,57%, без подписки – 54,43%. Таким образом, большая часть пользователей пользуется самокатами без подписки, разрыв составляет 136 пользователей, количество пользователей с подпиской - 699 человек, без подписки - 835 человек.\n",
        "\n",
        "*Возраст пользователей* \\\n",
        "Лидирующем количеством пользователей являются 25-летние - ~145 человек, второе место разделяют 24-х и 26-летние - по ~132 человек, третье место 23-летние - ~130 человек. 22-х, 27 и 28-летние относятся к диапазону ~115-120 человек, 21-летние - ~90 человек, 20, 29 и 30-летние по ~70 человек, 18, 19, 31, 32 и 33-летние - в диапазоне ~40-55 человек, 17-летние - ~25 человек. Прочие возрастные группы имеют каждая менее 20 человек. Самыми малочисленными являются \"группы\", состоящие из человек старше 36 лет: 37-летнии - 2 человека, 38-летнии - 3 человека, 39 и 43-летние по 1 человеку.\n",
        "\n",
        "*Расстояние, которое пользователи преодолевают за одну поездку* \\\n",
        "Самым популярным расстоянием у пользователей является расстояние в ~3200 метров. Всплеск наблюдается также на отметке в 4000 метров, учитывая, что соседние к данному значению точки, соответствующие расстояниям: ~3600-3800 метров и ~4100-4300 расположены на графике ниже. Интересно отметить, что на участке 0-1500 метров также наблюдается всплеск.\n",
        "\n",
        "*Продолжительность поездок* \\\n",
        "Самая популярная продолжительность поездки находится в диапазоне 15-20 минут, менее популярные в диапазонах 10-15 и 20-25 минут. Иные присутствующие в датафрейме значения продолжительности имеют меньшую популярность. целесообразно отметить, что самые долгие поездки продолжаются от 35 до 40 минут, но таких поездок ничтожно мало в сравнении с остальными значениями датафрейма. Вместе с тем ощутимый всплеск количества поездок (почти 100 поездок) находится в значении около одной минуты.\n",
        "\n",
        "В целях исследования данных все три датафрейма были объединены в один датафрейм, из которого выделены два новых датафрейма: со всеми данными только о пользователях с подписками и со всеми данными только о пользователях без подписки и изучены следующие параметры:\n",
        "\n",
        "*Расстояние, которое пользователи без подписки преодолевают за одну поездку* \\\n",
        "Самое популярное расстояние соответствует значениям ~2500-3800 метров. Всплеск наблюдается также на участке 0-1500 метров. В целом результаты максимально похожи на результаты исследования данных до их разделения на пользователей с подписками и без подписок.\n",
        "\n",
        "*Продолжительность поездок пользователей без подписки* \\\n",
        "Самая популярная продолжительность поездки находится в диапазоне ~17-20 минут, менее популярные в диапазонах 10-17 и 20-23 минут. Самые долгие поездки продолжаются в районе 35 минут, но таких поездок немного. Присутствует, всплеск поездок длительностью около одной минуты, как и в данных, не разделенных по пользователям с подписками и без подписок.\n",
        "\n",
        "*Расстояние, которое пользователи с подпиской преодолевают за одну поездку* \\\n",
        "Самое популярное расстояние составляет 3200 метров. Как и в данных, не разделенных по пользователям с подписками и без подписок, наблюдается всплеск в значениях расстояния поездок ~4000-4200 метров. Всплеск на участке ~1000+-500 метров в отношении пользователей с подпиской менее выражен, чем в отношении общей совокупности пользователей (с подпиской и без подписки).\n",
        "\n",
        "*Продолжительность поездок пользователей с подпиской* \\\n",
        "Самая популярная продолжительность поездки находится в диапазоне ~17-20 минут, менее популярные в диапазонах 13-17 и 20-23 минут. Целесообразно отметить, что самые долгие поездки продолжаются в районе 35-40 минут, но таких поездок немного. В данных о пользователях с подпиской отсутствует, наблюдавшийся в данных об общей совокупности пользователей (с подпиской и без подписки) всплеск поездок в значении длительности около одной минуты: пользователи с подпиской не совершают поездок длительностью меньше минуты.\n",
        "\n",
        "В целях проверки гипотез создан датафрейм с агрегированными данными о поездках, содержащий суммарное расстояние, количество поездок, суммарное время и выручку для каждого пользователя за каждый месяц.\n",
        "\n",
        "**В части проверкт гипотез:**\n",
        "\n",
        "*\"Тратят ли пользователи с подпиской больше времени на поездки?\"* \\\n",
        "Гипотезу \"пользователи с подпиской тратят больше времени на поездки\" была отброшена по результатам статистического теста, так как выяснилось, что больше времени на поездки тратят пользователи без подписки - на 80000 часов больше.\n",
        "\n",
        "*\"Среднее расстояние, которое проезжают пользователи с подпиской за одну поездку, не превышает 3130 метров?\"* \\\n",
        "С целью проверки гипотезы была сформулирована альтернативная гипотеза: \"среднее расстояние, которое проезжают пользователи с подпиской за одну поездку, больше 3130 метров\". Данная гипотеза была отвергнута по результатам статистического теста. Установлено, что средняя дистанция поездок пользователей с подпиской менее 3130 метров. Стоит отметить, что указанная длительность поездки удовлетворяет предпочтения компании в части оптимального времени поездки пользователей, так как она благоприятно сказывается на сроке службы самокатов.\n",
        "\n",
        "*\"Будет ли помесячная выручка от пользователей с подпиской по месяцам выше, чем выручка от пользователей без подписки?\"* \\\n",
        "По результатам статистического теста гипотеза \"помесячная выручка от пользователей с подпиской по месяцам выше, чем выручка от пользователей без подписки\" была отброшена: выручка с пользователей с подпиской\" почти на 600000 меньше, чем выручка с пользователей без подписки.\n",
        "\n",
        "**Итог:** результаты проверки вышеперечисленных гипотез не позволяет говорить о том, что пользователи с подпиской более выгодны для компании, чем пользователи без подписки. Больше времени на поездки тратят и приносят больше денег пользователи, не имеющие подписки. Соответственно, более выгодны для компании пользователи без подписки.\n"
      ]
    }
  ],
  "metadata": {
    "ExecuteTimeLog": [
      {
        "duration": 487,
        "start_time": "2024-03-25T18:18:05.828Z"
      },
      {
        "duration": 92,
        "start_time": "2024-03-25T18:18:08.133Z"
      },
      {
        "duration": 89,
        "start_time": "2024-03-25T18:18:17.393Z"
      },
      {
        "duration": 103,
        "start_time": "2024-03-25T18:18:23.025Z"
      },
      {
        "duration": 391,
        "start_time": "2024-03-25T18:20:41.653Z"
      },
      {
        "duration": 83,
        "start_time": "2024-03-25T18:21:15.195Z"
      },
      {
        "duration": 102,
        "start_time": "2024-03-25T18:21:45.999Z"
      },
      {
        "duration": 95,
        "start_time": "2024-03-25T18:23:15.191Z"
      },
      {
        "duration": 74,
        "start_time": "2024-03-25T18:29:43.092Z"
      },
      {
        "duration": 84,
        "start_time": "2024-03-25T18:29:58.235Z"
      },
      {
        "duration": 76,
        "start_time": "2024-03-25T18:30:46.166Z"
      },
      {
        "duration": 87,
        "start_time": "2024-03-25T18:32:13.777Z"
      },
      {
        "duration": 455,
        "start_time": "2024-03-25T18:32:24.971Z"
      },
      {
        "duration": 102,
        "start_time": "2024-03-25T18:32:25.428Z"
      },
      {
        "duration": 79,
        "start_time": "2024-03-25T18:32:49.944Z"
      },
      {
        "duration": 95,
        "start_time": "2024-03-25T18:33:08.210Z"
      },
      {
        "duration": 134,
        "start_time": "2024-03-25T18:41:31.731Z"
      },
      {
        "duration": 85,
        "start_time": "2024-03-25T18:42:13.724Z"
      },
      {
        "duration": 90,
        "start_time": "2024-03-25T18:43:11.247Z"
      },
      {
        "duration": 95,
        "start_time": "2024-03-25T18:43:38.753Z"
      },
      {
        "duration": 108,
        "start_time": "2024-03-25T18:43:50.425Z"
      },
      {
        "duration": 73,
        "start_time": "2024-03-25T18:44:13.200Z"
      },
      {
        "duration": 81,
        "start_time": "2024-03-25T18:45:12.417Z"
      },
      {
        "duration": 96,
        "start_time": "2024-03-25T18:45:58.245Z"
      },
      {
        "duration": 100,
        "start_time": "2024-03-25T18:46:51.835Z"
      },
      {
        "duration": 97,
        "start_time": "2024-03-25T18:52:04.929Z"
      },
      {
        "duration": 112,
        "start_time": "2024-03-25T18:53:00.415Z"
      },
      {
        "duration": 96,
        "start_time": "2024-03-25T18:53:20.892Z"
      },
      {
        "duration": 100,
        "start_time": "2024-03-25T18:53:48.334Z"
      },
      {
        "duration": 101,
        "start_time": "2024-03-25T18:54:54.034Z"
      },
      {
        "duration": 92,
        "start_time": "2024-03-25T18:57:10.755Z"
      },
      {
        "duration": 74,
        "start_time": "2024-03-25T19:05:16.402Z"
      },
      {
        "duration": 75,
        "start_time": "2024-03-25T19:06:01.092Z"
      },
      {
        "duration": 95,
        "start_time": "2024-03-25T19:06:27.248Z"
      },
      {
        "duration": 16,
        "start_time": "2024-03-25T19:26:18.347Z"
      },
      {
        "duration": 430,
        "start_time": "2024-03-25T19:28:34.132Z"
      },
      {
        "duration": 101,
        "start_time": "2024-03-25T19:28:34.564Z"
      },
      {
        "duration": 12,
        "start_time": "2024-03-25T19:28:34.667Z"
      },
      {
        "duration": 5,
        "start_time": "2024-03-25T19:31:41.189Z"
      },
      {
        "duration": 67,
        "start_time": "2024-03-25T19:32:46.253Z"
      },
      {
        "duration": 19,
        "start_time": "2024-03-25T19:32:51.426Z"
      },
      {
        "duration": 7,
        "start_time": "2024-03-25T19:45:49.908Z"
      },
      {
        "duration": 7,
        "start_time": "2024-03-25T19:46:11.812Z"
      },
      {
        "duration": 6,
        "start_time": "2024-03-25T19:46:31.367Z"
      },
      {
        "duration": 6,
        "start_time": "2024-03-25T19:50:20.149Z"
      },
      {
        "duration": 9,
        "start_time": "2024-03-25T19:50:40.849Z"
      },
      {
        "duration": 5,
        "start_time": "2024-03-25T19:50:56.114Z"
      },
      {
        "duration": 9,
        "start_time": "2024-03-25T19:57:54.185Z"
      },
      {
        "duration": 13,
        "start_time": "2024-03-25T19:58:17.757Z"
      },
      {
        "duration": 8,
        "start_time": "2024-03-25T19:58:24.691Z"
      },
      {
        "duration": 5,
        "start_time": "2024-03-25T20:03:53.074Z"
      },
      {
        "duration": 5,
        "start_time": "2024-03-25T20:04:13.271Z"
      },
      {
        "duration": 9,
        "start_time": "2024-03-25T20:04:32.943Z"
      },
      {
        "duration": 7,
        "start_time": "2024-03-25T20:04:48.713Z"
      },
      {
        "duration": 3,
        "start_time": "2024-03-25T20:08:38.275Z"
      },
      {
        "duration": 8,
        "start_time": "2024-03-25T20:08:48.157Z"
      },
      {
        "duration": 3,
        "start_time": "2024-03-25T20:08:52.875Z"
      },
      {
        "duration": 3,
        "start_time": "2024-03-25T20:08:58.441Z"
      },
      {
        "duration": 4,
        "start_time": "2024-03-25T20:09:06.772Z"
      },
      {
        "duration": 5,
        "start_time": "2024-03-25T20:09:57.887Z"
      },
      {
        "duration": 7,
        "start_time": "2024-03-25T20:13:48.823Z"
      },
      {
        "duration": 9,
        "start_time": "2024-03-25T20:17:05.896Z"
      },
      {
        "duration": 111,
        "start_time": "2024-03-25T20:19:04.343Z"
      },
      {
        "duration": 9,
        "start_time": "2024-03-25T20:19:58.785Z"
      },
      {
        "duration": 6,
        "start_time": "2024-03-25T20:33:04.753Z"
      },
      {
        "duration": 368,
        "start_time": "2024-03-25T20:33:59.990Z"
      },
      {
        "duration": 12,
        "start_time": "2024-03-25T20:40:41.588Z"
      },
      {
        "duration": 107,
        "start_time": "2024-03-25T20:41:28.647Z"
      },
      {
        "duration": 147,
        "start_time": "2024-03-25T20:42:04.680Z"
      },
      {
        "duration": 225,
        "start_time": "2024-03-25T20:42:23.416Z"
      },
      {
        "duration": 311,
        "start_time": "2024-03-25T20:43:11.818Z"
      },
      {
        "duration": 239,
        "start_time": "2024-03-25T20:43:35.184Z"
      },
      {
        "duration": 251,
        "start_time": "2024-03-25T20:45:41.118Z"
      },
      {
        "duration": 231,
        "start_time": "2024-03-25T20:45:50.691Z"
      },
      {
        "duration": 241,
        "start_time": "2024-03-25T20:48:34.670Z"
      },
      {
        "duration": 239,
        "start_time": "2024-03-25T20:48:57.927Z"
      },
      {
        "duration": 336,
        "start_time": "2024-03-25T20:49:15.337Z"
      },
      {
        "duration": 235,
        "start_time": "2024-03-25T20:49:22.954Z"
      },
      {
        "duration": 225,
        "start_time": "2024-03-25T20:50:15.118Z"
      },
      {
        "duration": 203,
        "start_time": "2024-03-25T20:50:23.867Z"
      },
      {
        "duration": 219,
        "start_time": "2024-03-25T20:50:41.936Z"
      },
      {
        "duration": 329,
        "start_time": "2024-03-25T20:51:00.252Z"
      },
      {
        "duration": 204,
        "start_time": "2024-03-25T20:51:17.198Z"
      },
      {
        "duration": 243,
        "start_time": "2024-03-25T20:52:27.860Z"
      },
      {
        "duration": 1612,
        "start_time": "2024-03-25T20:53:40.366Z"
      },
      {
        "duration": 244,
        "start_time": "2024-03-25T20:54:08.007Z"
      },
      {
        "duration": 242,
        "start_time": "2024-03-25T20:55:34.685Z"
      },
      {
        "duration": 6,
        "start_time": "2024-03-25T20:58:38.236Z"
      },
      {
        "duration": 5,
        "start_time": "2024-03-25T20:58:58.253Z"
      },
      {
        "duration": 6,
        "start_time": "2024-03-25T20:59:15.302Z"
      },
      {
        "duration": 369,
        "start_time": "2024-03-25T21:06:34.226Z"
      },
      {
        "duration": 101,
        "start_time": "2024-03-25T21:06:34.598Z"
      },
      {
        "duration": 17,
        "start_time": "2024-03-25T21:06:34.701Z"
      },
      {
        "duration": 18,
        "start_time": "2024-03-25T21:06:34.720Z"
      },
      {
        "duration": 5,
        "start_time": "2024-03-25T21:06:34.741Z"
      },
      {
        "duration": 8,
        "start_time": "2024-03-25T21:06:34.769Z"
      },
      {
        "duration": 11,
        "start_time": "2024-03-25T21:06:34.778Z"
      },
      {
        "duration": 6,
        "start_time": "2024-03-25T21:06:34.790Z"
      },
      {
        "duration": 5,
        "start_time": "2024-03-25T21:06:34.798Z"
      },
      {
        "duration": 7,
        "start_time": "2024-03-25T21:06:34.805Z"
      },
      {
        "duration": 6,
        "start_time": "2024-03-25T21:06:34.814Z"
      },
      {
        "duration": 561,
        "start_time": "2024-03-25T21:06:34.822Z"
      },
      {
        "duration": 244,
        "start_time": "2024-03-25T21:06:35.385Z"
      },
      {
        "duration": 310,
        "start_time": "2024-03-25T21:06:35.632Z"
      },
      {
        "duration": 274,
        "start_time": "2024-03-25T21:06:35.944Z"
      },
      {
        "duration": 270,
        "start_time": "2024-03-25T21:06:36.220Z"
      },
      {
        "duration": 8,
        "start_time": "2024-03-25T21:06:36.492Z"
      },
      {
        "duration": 7,
        "start_time": "2024-03-25T21:43:54.849Z"
      },
      {
        "duration": 74,
        "start_time": "2024-03-25T21:45:01.508Z"
      },
      {
        "duration": 8,
        "start_time": "2024-03-25T21:46:01.198Z"
      },
      {
        "duration": 26,
        "start_time": "2024-03-25T22:15:36.821Z"
      },
      {
        "duration": 22,
        "start_time": "2024-03-25T22:16:35.384Z"
      },
      {
        "duration": 22,
        "start_time": "2024-03-25T22:16:41.367Z"
      },
      {
        "duration": 427,
        "start_time": "2024-03-25T22:16:45.146Z"
      },
      {
        "duration": 103,
        "start_time": "2024-03-25T22:16:45.575Z"
      },
      {
        "duration": 14,
        "start_time": "2024-03-25T22:16:45.680Z"
      },
      {
        "duration": 32,
        "start_time": "2024-03-25T22:16:45.697Z"
      },
      {
        "duration": 5,
        "start_time": "2024-03-25T22:16:45.730Z"
      },
      {
        "duration": 6,
        "start_time": "2024-03-25T22:16:45.736Z"
      },
      {
        "duration": 9,
        "start_time": "2024-03-25T22:16:45.743Z"
      },
      {
        "duration": 21,
        "start_time": "2024-03-25T22:16:45.753Z"
      },
      {
        "duration": 21,
        "start_time": "2024-03-25T22:16:45.775Z"
      },
      {
        "duration": 8,
        "start_time": "2024-03-25T22:16:45.798Z"
      },
      {
        "duration": 21,
        "start_time": "2024-03-25T22:16:45.807Z"
      },
      {
        "duration": 490,
        "start_time": "2024-03-25T22:16:45.829Z"
      },
      {
        "duration": 233,
        "start_time": "2024-03-25T22:16:46.320Z"
      },
      {
        "duration": 297,
        "start_time": "2024-03-25T22:16:46.556Z"
      },
      {
        "duration": 240,
        "start_time": "2024-03-25T22:16:46.855Z"
      },
      {
        "duration": 238,
        "start_time": "2024-03-25T22:16:47.097Z"
      },
      {
        "duration": 33,
        "start_time": "2024-03-25T22:16:47.337Z"
      },
      {
        "duration": 23,
        "start_time": "2024-03-25T22:17:15.564Z"
      },
      {
        "duration": 68,
        "start_time": "2024-03-25T22:20:02.147Z"
      },
      {
        "duration": 20,
        "start_time": "2024-03-25T22:20:43.870Z"
      },
      {
        "duration": 28,
        "start_time": "2024-03-25T22:20:58.717Z"
      },
      {
        "duration": 400,
        "start_time": "2024-03-25T22:21:22.874Z"
      },
      {
        "duration": 97,
        "start_time": "2024-03-25T22:21:23.276Z"
      },
      {
        "duration": 14,
        "start_time": "2024-03-25T22:21:23.376Z"
      },
      {
        "duration": 20,
        "start_time": "2024-03-25T22:21:23.392Z"
      },
      {
        "duration": 5,
        "start_time": "2024-03-25T22:21:23.414Z"
      },
      {
        "duration": 14,
        "start_time": "2024-03-25T22:21:23.420Z"
      },
      {
        "duration": 9,
        "start_time": "2024-03-25T22:21:23.435Z"
      },
      {
        "duration": 6,
        "start_time": "2024-03-25T22:21:23.445Z"
      },
      {
        "duration": 7,
        "start_time": "2024-03-25T22:21:23.469Z"
      },
      {
        "duration": 11,
        "start_time": "2024-03-25T22:21:23.477Z"
      },
      {
        "duration": 5,
        "start_time": "2024-03-25T22:21:23.490Z"
      },
      {
        "duration": 535,
        "start_time": "2024-03-25T22:21:23.497Z"
      },
      {
        "duration": 228,
        "start_time": "2024-03-25T22:21:24.035Z"
      },
      {
        "duration": 289,
        "start_time": "2024-03-25T22:21:24.269Z"
      },
      {
        "duration": 254,
        "start_time": "2024-03-25T22:21:24.560Z"
      },
      {
        "duration": 288,
        "start_time": "2024-03-25T22:21:24.816Z"
      },
      {
        "duration": 44,
        "start_time": "2024-03-25T22:21:25.106Z"
      },
      {
        "duration": 36,
        "start_time": "2024-03-25T22:25:38.198Z"
      },
      {
        "duration": 19,
        "start_time": "2024-03-25T22:33:21.757Z"
      },
      {
        "duration": 72,
        "start_time": "2024-03-25T22:36:15.381Z"
      },
      {
        "duration": 9,
        "start_time": "2024-03-25T22:36:31.106Z"
      },
      {
        "duration": 28,
        "start_time": "2024-03-25T22:38:33.663Z"
      },
      {
        "duration": 21,
        "start_time": "2024-03-25T22:39:07.290Z"
      },
      {
        "duration": 5,
        "start_time": "2024-03-25T22:40:10.041Z"
      },
      {
        "duration": 5,
        "start_time": "2024-03-25T22:40:21.353Z"
      },
      {
        "duration": 5,
        "start_time": "2024-03-25T22:40:39.313Z"
      },
      {
        "duration": 5,
        "start_time": "2024-03-25T22:40:44.066Z"
      },
      {
        "duration": 24,
        "start_time": "2024-03-25T22:42:28.537Z"
      },
      {
        "duration": 25,
        "start_time": "2024-03-25T22:44:52.943Z"
      },
      {
        "duration": 349,
        "start_time": "2024-03-25T22:45:22.312Z"
      },
      {
        "duration": 94,
        "start_time": "2024-03-25T22:45:22.663Z"
      },
      {
        "duration": 12,
        "start_time": "2024-03-25T22:45:22.759Z"
      },
      {
        "duration": 15,
        "start_time": "2024-03-25T22:45:22.772Z"
      },
      {
        "duration": 6,
        "start_time": "2024-03-25T22:45:22.788Z"
      },
      {
        "duration": 8,
        "start_time": "2024-03-25T22:45:22.795Z"
      },
      {
        "duration": 8,
        "start_time": "2024-03-25T22:45:22.804Z"
      },
      {
        "duration": 6,
        "start_time": "2024-03-25T22:45:22.813Z"
      },
      {
        "duration": 8,
        "start_time": "2024-03-25T22:45:22.820Z"
      },
      {
        "duration": 7,
        "start_time": "2024-03-25T22:45:22.830Z"
      },
      {
        "duration": 36,
        "start_time": "2024-03-25T22:45:22.839Z"
      },
      {
        "duration": 491,
        "start_time": "2024-03-25T22:45:22.876Z"
      },
      {
        "duration": 221,
        "start_time": "2024-03-25T22:45:23.369Z"
      },
      {
        "duration": 292,
        "start_time": "2024-03-25T22:45:23.592Z"
      },
      {
        "duration": 276,
        "start_time": "2024-03-25T22:45:23.886Z"
      },
      {
        "duration": 270,
        "start_time": "2024-03-25T22:45:24.163Z"
      },
      {
        "duration": 46,
        "start_time": "2024-03-25T22:45:24.434Z"
      },
      {
        "duration": 27,
        "start_time": "2024-03-25T22:45:24.482Z"
      },
      {
        "duration": 89,
        "start_time": "2024-03-25T22:46:10.482Z"
      },
      {
        "duration": 16,
        "start_time": "2024-03-25T22:46:18.608Z"
      },
      {
        "duration": 16,
        "start_time": "2024-03-25T22:47:09.607Z"
      },
      {
        "duration": 15,
        "start_time": "2024-03-25T22:47:49.480Z"
      },
      {
        "duration": 34,
        "start_time": "2024-03-25T22:48:22.962Z"
      },
      {
        "duration": 16,
        "start_time": "2024-03-25T22:49:00.238Z"
      },
      {
        "duration": 16,
        "start_time": "2024-03-25T22:49:36.780Z"
      },
      {
        "duration": 16,
        "start_time": "2024-03-25T22:49:47.573Z"
      },
      {
        "duration": 16,
        "start_time": "2024-03-25T22:50:05.320Z"
      },
      {
        "duration": 35,
        "start_time": "2024-03-25T22:50:39.161Z"
      },
      {
        "duration": 26,
        "start_time": "2024-03-25T22:51:31.386Z"
      },
      {
        "duration": 27,
        "start_time": "2024-03-25T22:52:23.105Z"
      },
      {
        "duration": 37,
        "start_time": "2024-03-25T22:52:31.112Z"
      },
      {
        "duration": 67,
        "start_time": "2024-03-25T22:56:13.593Z"
      },
      {
        "duration": 11,
        "start_time": "2024-03-25T22:56:59.394Z"
      },
      {
        "duration": 186,
        "start_time": "2024-03-25T22:57:25.919Z"
      },
      {
        "duration": 384,
        "start_time": "2024-03-25T23:04:07.488Z"
      },
      {
        "duration": 97,
        "start_time": "2024-03-25T23:04:07.874Z"
      },
      {
        "duration": 13,
        "start_time": "2024-03-25T23:04:07.973Z"
      },
      {
        "duration": 17,
        "start_time": "2024-03-25T23:04:07.988Z"
      },
      {
        "duration": 11,
        "start_time": "2024-03-25T23:04:08.007Z"
      },
      {
        "duration": 8,
        "start_time": "2024-03-25T23:04:08.019Z"
      },
      {
        "duration": 41,
        "start_time": "2024-03-25T23:04:08.029Z"
      },
      {
        "duration": 6,
        "start_time": "2024-03-25T23:04:08.072Z"
      },
      {
        "duration": 15,
        "start_time": "2024-03-25T23:04:08.079Z"
      },
      {
        "duration": 9,
        "start_time": "2024-03-25T23:04:08.095Z"
      },
      {
        "duration": 6,
        "start_time": "2024-03-25T23:04:08.105Z"
      },
      {
        "duration": 525,
        "start_time": "2024-03-25T23:04:08.113Z"
      },
      {
        "duration": 221,
        "start_time": "2024-03-25T23:04:08.639Z"
      },
      {
        "duration": 320,
        "start_time": "2024-03-25T23:04:08.862Z"
      },
      {
        "duration": 259,
        "start_time": "2024-03-25T23:04:09.183Z"
      },
      {
        "duration": 245,
        "start_time": "2024-03-25T23:04:09.444Z"
      },
      {
        "duration": 36,
        "start_time": "2024-03-25T23:04:09.691Z"
      },
      {
        "duration": 44,
        "start_time": "2024-03-25T23:04:09.729Z"
      },
      {
        "duration": 279,
        "start_time": "2024-03-25T23:04:09.774Z"
      },
      {
        "duration": 260,
        "start_time": "2024-03-25T23:04:10.054Z"
      },
      {
        "duration": 276,
        "start_time": "2024-03-25T23:04:10.315Z"
      },
      {
        "duration": 310,
        "start_time": "2024-03-25T23:04:10.593Z"
      },
      {
        "duration": 398,
        "start_time": "2024-03-26T18:18:37.185Z"
      },
      {
        "duration": 235,
        "start_time": "2024-03-26T18:18:37.585Z"
      },
      {
        "duration": 12,
        "start_time": "2024-03-26T18:18:37.822Z"
      },
      {
        "duration": 14,
        "start_time": "2024-03-26T18:18:37.836Z"
      },
      {
        "duration": 10,
        "start_time": "2024-03-26T18:18:37.851Z"
      },
      {
        "duration": 6,
        "start_time": "2024-03-26T18:18:37.862Z"
      },
      {
        "duration": 7,
        "start_time": "2024-03-26T18:18:37.870Z"
      },
      {
        "duration": 5,
        "start_time": "2024-03-26T18:18:37.878Z"
      },
      {
        "duration": 5,
        "start_time": "2024-03-26T18:18:37.885Z"
      },
      {
        "duration": 7,
        "start_time": "2024-03-26T18:18:37.892Z"
      },
      {
        "duration": 6,
        "start_time": "2024-03-26T18:18:37.900Z"
      },
      {
        "duration": 623,
        "start_time": "2024-03-26T18:18:37.907Z"
      },
      {
        "duration": 217,
        "start_time": "2024-03-26T18:18:38.532Z"
      },
      {
        "duration": 320,
        "start_time": "2024-03-26T18:18:38.750Z"
      },
      {
        "duration": 238,
        "start_time": "2024-03-26T18:18:39.072Z"
      },
      {
        "duration": 243,
        "start_time": "2024-03-26T18:18:39.312Z"
      },
      {
        "duration": 42,
        "start_time": "2024-03-26T18:18:39.557Z"
      },
      {
        "duration": 26,
        "start_time": "2024-03-26T18:18:39.601Z"
      },
      {
        "duration": 265,
        "start_time": "2024-03-26T18:18:39.629Z"
      },
      {
        "duration": 269,
        "start_time": "2024-03-26T18:18:39.896Z"
      },
      {
        "duration": 318,
        "start_time": "2024-03-26T18:18:40.166Z"
      },
      {
        "duration": 241,
        "start_time": "2024-03-26T18:18:40.485Z"
      },
      {
        "duration": 415,
        "start_time": "2024-03-26T18:58:09.773Z"
      },
      {
        "duration": 101,
        "start_time": "2024-03-26T18:58:10.190Z"
      },
      {
        "duration": 14,
        "start_time": "2024-03-26T18:58:10.292Z"
      },
      {
        "duration": 16,
        "start_time": "2024-03-26T18:58:10.308Z"
      },
      {
        "duration": 6,
        "start_time": "2024-03-26T18:58:10.325Z"
      },
      {
        "duration": 33,
        "start_time": "2024-03-26T18:58:10.332Z"
      },
      {
        "duration": 10,
        "start_time": "2024-03-26T18:58:10.367Z"
      },
      {
        "duration": 6,
        "start_time": "2024-03-26T18:58:10.379Z"
      },
      {
        "duration": 6,
        "start_time": "2024-03-26T18:58:10.387Z"
      },
      {
        "duration": 9,
        "start_time": "2024-03-26T18:58:10.396Z"
      },
      {
        "duration": 7,
        "start_time": "2024-03-26T18:58:10.406Z"
      },
      {
        "duration": 499,
        "start_time": "2024-03-26T18:58:10.414Z"
      },
      {
        "duration": 209,
        "start_time": "2024-03-26T18:58:10.915Z"
      },
      {
        "duration": 289,
        "start_time": "2024-03-26T18:58:11.126Z"
      },
      {
        "duration": 256,
        "start_time": "2024-03-26T18:58:11.417Z"
      },
      {
        "duration": 247,
        "start_time": "2024-03-26T18:58:11.675Z"
      },
      {
        "duration": 44,
        "start_time": "2024-03-26T18:58:11.924Z"
      },
      {
        "duration": 26,
        "start_time": "2024-03-26T18:58:11.970Z"
      },
      {
        "duration": 268,
        "start_time": "2024-03-26T18:58:11.997Z"
      },
      {
        "duration": 257,
        "start_time": "2024-03-26T18:58:12.267Z"
      },
      {
        "duration": 248,
        "start_time": "2024-03-26T18:58:12.525Z"
      },
      {
        "duration": 340,
        "start_time": "2024-03-26T18:58:12.775Z"
      },
      {
        "duration": 15,
        "start_time": "2024-03-26T19:45:19.480Z"
      },
      {
        "duration": 29,
        "start_time": "2024-03-26T19:46:05.535Z"
      },
      {
        "duration": 34,
        "start_time": "2024-03-26T19:49:58.154Z"
      },
      {
        "duration": 28,
        "start_time": "2024-03-26T19:52:03.194Z"
      },
      {
        "duration": 29,
        "start_time": "2024-03-26T19:54:29.835Z"
      },
      {
        "duration": 32,
        "start_time": "2024-03-26T19:54:52.383Z"
      },
      {
        "duration": 398,
        "start_time": "2024-03-26T19:58:44.473Z"
      },
      {
        "duration": 97,
        "start_time": "2024-03-26T19:58:44.873Z"
      },
      {
        "duration": 13,
        "start_time": "2024-03-26T19:58:44.972Z"
      },
      {
        "duration": 15,
        "start_time": "2024-03-26T19:58:44.986Z"
      },
      {
        "duration": 6,
        "start_time": "2024-03-26T19:58:45.003Z"
      },
      {
        "duration": 21,
        "start_time": "2024-03-26T19:58:45.011Z"
      },
      {
        "duration": 20,
        "start_time": "2024-03-26T19:58:45.034Z"
      },
      {
        "duration": 20,
        "start_time": "2024-03-26T19:58:45.056Z"
      },
      {
        "duration": 9,
        "start_time": "2024-03-26T19:58:45.077Z"
      },
      {
        "duration": 12,
        "start_time": "2024-03-26T19:58:45.088Z"
      },
      {
        "duration": 6,
        "start_time": "2024-03-26T19:58:45.102Z"
      },
      {
        "duration": 479,
        "start_time": "2024-03-26T19:58:45.110Z"
      },
      {
        "duration": 238,
        "start_time": "2024-03-26T19:58:45.591Z"
      },
      {
        "duration": 326,
        "start_time": "2024-03-26T19:58:45.831Z"
      },
      {
        "duration": 242,
        "start_time": "2024-03-26T19:58:46.158Z"
      },
      {
        "duration": 240,
        "start_time": "2024-03-26T19:58:46.402Z"
      },
      {
        "duration": 44,
        "start_time": "2024-03-26T19:58:46.644Z"
      },
      {
        "duration": 26,
        "start_time": "2024-03-26T19:58:46.690Z"
      },
      {
        "duration": 264,
        "start_time": "2024-03-26T19:58:46.718Z"
      },
      {
        "duration": 241,
        "start_time": "2024-03-26T19:58:46.984Z"
      },
      {
        "duration": 253,
        "start_time": "2024-03-26T19:58:47.227Z"
      },
      {
        "duration": 343,
        "start_time": "2024-03-26T19:58:47.481Z"
      },
      {
        "duration": 29,
        "start_time": "2024-03-26T19:58:47.825Z"
      },
      {
        "duration": 4,
        "start_time": "2024-03-26T20:02:24.598Z"
      },
      {
        "duration": 16,
        "start_time": "2024-03-26T20:03:12.514Z"
      },
      {
        "duration": 30,
        "start_time": "2024-03-26T20:17:58.355Z"
      },
      {
        "duration": 71,
        "start_time": "2024-03-26T20:19:00.923Z"
      },
      {
        "duration": 7,
        "start_time": "2024-03-26T20:19:07.691Z"
      },
      {
        "duration": 15,
        "start_time": "2024-03-26T20:19:40.150Z"
      },
      {
        "duration": 25,
        "start_time": "2024-03-26T20:20:57.082Z"
      },
      {
        "duration": 29,
        "start_time": "2024-03-26T20:21:19.615Z"
      },
      {
        "duration": 13,
        "start_time": "2024-03-26T20:21:32.965Z"
      },
      {
        "duration": 29,
        "start_time": "2024-03-26T20:26:35.174Z"
      },
      {
        "duration": 10,
        "start_time": "2024-03-26T20:27:49.574Z"
      },
      {
        "duration": 26,
        "start_time": "2024-03-26T20:29:08.070Z"
      },
      {
        "duration": 31,
        "start_time": "2024-03-26T20:32:59.173Z"
      },
      {
        "duration": 26,
        "start_time": "2024-03-26T20:35:02.738Z"
      },
      {
        "duration": 40,
        "start_time": "2024-03-26T20:35:32.896Z"
      },
      {
        "duration": 45,
        "start_time": "2024-03-26T20:35:57.412Z"
      },
      {
        "duration": 290,
        "start_time": "2024-03-26T20:42:59.052Z"
      },
      {
        "duration": 27,
        "start_time": "2024-03-26T20:43:43.091Z"
      },
      {
        "duration": 1100,
        "start_time": "2024-03-26T20:44:46.909Z"
      },
      {
        "duration": 30,
        "start_time": "2024-03-26T20:45:01.418Z"
      },
      {
        "duration": 29,
        "start_time": "2024-03-26T20:45:29.526Z"
      },
      {
        "duration": 18,
        "start_time": "2024-03-26T20:53:15.508Z"
      },
      {
        "duration": 31,
        "start_time": "2024-03-26T20:57:22.891Z"
      },
      {
        "duration": 386,
        "start_time": "2024-03-26T20:58:14.089Z"
      },
      {
        "duration": 99,
        "start_time": "2024-03-26T20:58:14.477Z"
      },
      {
        "duration": 12,
        "start_time": "2024-03-26T20:58:14.578Z"
      },
      {
        "duration": 14,
        "start_time": "2024-03-26T20:58:14.592Z"
      },
      {
        "duration": 5,
        "start_time": "2024-03-26T20:58:14.608Z"
      },
      {
        "duration": 17,
        "start_time": "2024-03-26T20:58:14.614Z"
      },
      {
        "duration": 9,
        "start_time": "2024-03-26T20:58:14.632Z"
      },
      {
        "duration": 23,
        "start_time": "2024-03-26T20:58:14.643Z"
      },
      {
        "duration": 6,
        "start_time": "2024-03-26T20:58:14.667Z"
      },
      {
        "duration": 10,
        "start_time": "2024-03-26T20:58:14.675Z"
      },
      {
        "duration": 7,
        "start_time": "2024-03-26T20:58:14.686Z"
      },
      {
        "duration": 468,
        "start_time": "2024-03-26T20:58:14.694Z"
      },
      {
        "duration": 222,
        "start_time": "2024-03-26T20:58:15.164Z"
      },
      {
        "duration": 304,
        "start_time": "2024-03-26T20:58:15.387Z"
      },
      {
        "duration": 260,
        "start_time": "2024-03-26T20:58:15.692Z"
      },
      {
        "duration": 242,
        "start_time": "2024-03-26T20:58:15.953Z"
      },
      {
        "duration": 36,
        "start_time": "2024-03-26T20:58:16.196Z"
      },
      {
        "duration": 39,
        "start_time": "2024-03-26T20:58:16.234Z"
      },
      {
        "duration": 247,
        "start_time": "2024-03-26T20:58:16.275Z"
      },
      {
        "duration": 233,
        "start_time": "2024-03-26T20:58:16.523Z"
      },
      {
        "duration": 232,
        "start_time": "2024-03-26T20:58:16.758Z"
      },
      {
        "duration": 318,
        "start_time": "2024-03-26T20:58:16.991Z"
      },
      {
        "duration": 30,
        "start_time": "2024-03-26T20:58:17.310Z"
      },
      {
        "duration": 24,
        "start_time": "2024-03-26T20:58:17.341Z"
      },
      {
        "duration": 1131,
        "start_time": "2024-03-26T20:58:17.366Z"
      },
      {
        "duration": 1164,
        "start_time": "2024-03-26T21:01:01.128Z"
      },
      {
        "duration": 32,
        "start_time": "2024-03-26T21:01:28.475Z"
      },
      {
        "duration": 15,
        "start_time": "2024-03-26T21:10:06.001Z"
      },
      {
        "duration": 59,
        "start_time": "2024-03-26T21:10:30.205Z"
      },
      {
        "duration": 1092,
        "start_time": "2024-03-26T21:16:44.468Z"
      },
      {
        "duration": 55,
        "start_time": "2024-03-26T21:17:13.121Z"
      },
      {
        "duration": 48,
        "start_time": "2024-03-26T21:20:05.263Z"
      },
      {
        "duration": 351,
        "start_time": "2024-03-26T21:21:03.816Z"
      },
      {
        "duration": 96,
        "start_time": "2024-03-26T21:21:04.168Z"
      },
      {
        "duration": 12,
        "start_time": "2024-03-26T21:21:04.265Z"
      },
      {
        "duration": 29,
        "start_time": "2024-03-26T21:21:04.279Z"
      },
      {
        "duration": 27,
        "start_time": "2024-03-26T21:21:04.309Z"
      },
      {
        "duration": 27,
        "start_time": "2024-03-26T21:21:04.338Z"
      },
      {
        "duration": 30,
        "start_time": "2024-03-26T21:21:04.367Z"
      },
      {
        "duration": 28,
        "start_time": "2024-03-26T21:21:04.399Z"
      },
      {
        "duration": 29,
        "start_time": "2024-03-26T21:21:04.429Z"
      },
      {
        "duration": 20,
        "start_time": "2024-03-26T21:21:04.461Z"
      },
      {
        "duration": 31,
        "start_time": "2024-03-26T21:21:04.483Z"
      },
      {
        "duration": 492,
        "start_time": "2024-03-26T21:21:04.516Z"
      },
      {
        "duration": 204,
        "start_time": "2024-03-26T21:21:05.009Z"
      },
      {
        "duration": 278,
        "start_time": "2024-03-26T21:21:05.215Z"
      },
      {
        "duration": 240,
        "start_time": "2024-03-26T21:21:05.494Z"
      },
      {
        "duration": 256,
        "start_time": "2024-03-26T21:21:05.736Z"
      },
      {
        "duration": 38,
        "start_time": "2024-03-26T21:21:05.994Z"
      },
      {
        "duration": 39,
        "start_time": "2024-03-26T21:21:06.034Z"
      },
      {
        "duration": 246,
        "start_time": "2024-03-26T21:21:06.075Z"
      },
      {
        "duration": 232,
        "start_time": "2024-03-26T21:21:06.322Z"
      },
      {
        "duration": 222,
        "start_time": "2024-03-26T21:21:06.555Z"
      },
      {
        "duration": 303,
        "start_time": "2024-03-26T21:21:06.779Z"
      },
      {
        "duration": 28,
        "start_time": "2024-03-26T21:21:07.084Z"
      },
      {
        "duration": 34,
        "start_time": "2024-03-26T21:21:07.113Z"
      },
      {
        "duration": 41,
        "start_time": "2024-03-26T21:23:50.511Z"
      },
      {
        "duration": 423,
        "start_time": "2024-03-26T21:23:59.727Z"
      },
      {
        "duration": 100,
        "start_time": "2024-03-26T21:24:00.152Z"
      },
      {
        "duration": 15,
        "start_time": "2024-03-26T21:24:00.254Z"
      },
      {
        "duration": 55,
        "start_time": "2024-03-26T21:24:00.271Z"
      },
      {
        "duration": 27,
        "start_time": "2024-03-26T21:24:00.328Z"
      },
      {
        "duration": 55,
        "start_time": "2024-03-26T21:24:00.356Z"
      },
      {
        "duration": 101,
        "start_time": "2024-03-26T21:24:00.413Z"
      },
      {
        "duration": 48,
        "start_time": "2024-03-26T21:24:00.516Z"
      },
      {
        "duration": 30,
        "start_time": "2024-03-26T21:24:00.566Z"
      },
      {
        "duration": 43,
        "start_time": "2024-03-26T21:24:00.598Z"
      },
      {
        "duration": 31,
        "start_time": "2024-03-26T21:24:00.642Z"
      },
      {
        "duration": 527,
        "start_time": "2024-03-26T21:24:00.675Z"
      },
      {
        "duration": 280,
        "start_time": "2024-03-26T21:24:01.203Z"
      },
      {
        "duration": 326,
        "start_time": "2024-03-26T21:24:01.486Z"
      },
      {
        "duration": 265,
        "start_time": "2024-03-26T21:24:01.813Z"
      },
      {
        "duration": 264,
        "start_time": "2024-03-26T21:24:02.079Z"
      },
      {
        "duration": 51,
        "start_time": "2024-03-26T21:24:02.345Z"
      },
      {
        "duration": 31,
        "start_time": "2024-03-26T21:24:02.407Z"
      },
      {
        "duration": 265,
        "start_time": "2024-03-26T21:24:02.440Z"
      },
      {
        "duration": 246,
        "start_time": "2024-03-26T21:24:02.707Z"
      },
      {
        "duration": 246,
        "start_time": "2024-03-26T21:24:02.955Z"
      },
      {
        "duration": 354,
        "start_time": "2024-03-26T21:24:03.203Z"
      },
      {
        "duration": 33,
        "start_time": "2024-03-26T21:24:03.558Z"
      },
      {
        "duration": 29,
        "start_time": "2024-03-26T21:24:03.593Z"
      },
      {
        "duration": 123,
        "start_time": "2024-03-26T21:25:13.578Z"
      },
      {
        "duration": 1822,
        "start_time": "2024-03-26T21:26:15.892Z"
      },
      {
        "duration": 385,
        "start_time": "2024-03-26T21:26:34.280Z"
      },
      {
        "duration": 94,
        "start_time": "2024-03-26T21:26:34.667Z"
      },
      {
        "duration": 13,
        "start_time": "2024-03-26T21:26:34.763Z"
      },
      {
        "duration": 14,
        "start_time": "2024-03-26T21:26:34.777Z"
      },
      {
        "duration": 5,
        "start_time": "2024-03-26T21:26:34.792Z"
      },
      {
        "duration": 6,
        "start_time": "2024-03-26T21:26:34.798Z"
      },
      {
        "duration": 9,
        "start_time": "2024-03-26T21:26:34.805Z"
      },
      {
        "duration": 5,
        "start_time": "2024-03-26T21:26:34.815Z"
      },
      {
        "duration": 5,
        "start_time": "2024-03-26T21:26:34.822Z"
      },
      {
        "duration": 42,
        "start_time": "2024-03-26T21:26:34.829Z"
      },
      {
        "duration": 6,
        "start_time": "2024-03-26T21:26:34.872Z"
      },
      {
        "duration": 462,
        "start_time": "2024-03-26T21:26:34.879Z"
      },
      {
        "duration": 209,
        "start_time": "2024-03-26T21:26:35.343Z"
      },
      {
        "duration": 314,
        "start_time": "2024-03-26T21:26:35.553Z"
      },
      {
        "duration": 245,
        "start_time": "2024-03-26T21:26:35.868Z"
      },
      {
        "duration": 236,
        "start_time": "2024-03-26T21:26:36.115Z"
      },
      {
        "duration": 41,
        "start_time": "2024-03-26T21:26:36.352Z"
      },
      {
        "duration": 25,
        "start_time": "2024-03-26T21:26:36.394Z"
      },
      {
        "duration": 247,
        "start_time": "2024-03-26T21:26:36.421Z"
      },
      {
        "duration": 230,
        "start_time": "2024-03-26T21:26:36.669Z"
      },
      {
        "duration": 251,
        "start_time": "2024-03-26T21:26:36.901Z"
      },
      {
        "duration": 320,
        "start_time": "2024-03-26T21:26:37.153Z"
      },
      {
        "duration": 29,
        "start_time": "2024-03-26T21:26:37.474Z"
      },
      {
        "duration": 27,
        "start_time": "2024-03-26T21:26:37.504Z"
      },
      {
        "duration": 42,
        "start_time": "2024-03-26T21:31:12.174Z"
      },
      {
        "duration": 378,
        "start_time": "2024-03-26T21:31:19.827Z"
      },
      {
        "duration": 102,
        "start_time": "2024-03-26T21:31:20.207Z"
      },
      {
        "duration": 12,
        "start_time": "2024-03-26T21:31:20.311Z"
      },
      {
        "duration": 36,
        "start_time": "2024-03-26T21:31:20.325Z"
      },
      {
        "duration": 7,
        "start_time": "2024-03-26T21:31:20.363Z"
      },
      {
        "duration": 19,
        "start_time": "2024-03-26T21:31:20.372Z"
      },
      {
        "duration": 14,
        "start_time": "2024-03-26T21:31:20.393Z"
      },
      {
        "duration": 6,
        "start_time": "2024-03-26T21:31:20.409Z"
      },
      {
        "duration": 21,
        "start_time": "2024-03-26T21:31:20.416Z"
      },
      {
        "duration": 13,
        "start_time": "2024-03-26T21:31:20.440Z"
      },
      {
        "duration": 11,
        "start_time": "2024-03-26T21:31:20.454Z"
      },
      {
        "duration": 472,
        "start_time": "2024-03-26T21:31:20.467Z"
      },
      {
        "duration": 219,
        "start_time": "2024-03-26T21:31:20.941Z"
      },
      {
        "duration": 316,
        "start_time": "2024-03-26T21:31:21.162Z"
      },
      {
        "duration": 255,
        "start_time": "2024-03-26T21:31:21.480Z"
      },
      {
        "duration": 252,
        "start_time": "2024-03-26T21:31:21.737Z"
      },
      {
        "duration": 38,
        "start_time": "2024-03-26T21:31:21.991Z"
      },
      {
        "duration": 39,
        "start_time": "2024-03-26T21:31:22.030Z"
      },
      {
        "duration": 244,
        "start_time": "2024-03-26T21:31:22.071Z"
      },
      {
        "duration": 239,
        "start_time": "2024-03-26T21:31:22.316Z"
      },
      {
        "duration": 250,
        "start_time": "2024-03-26T21:31:22.557Z"
      },
      {
        "duration": 310,
        "start_time": "2024-03-26T21:31:22.808Z"
      },
      {
        "duration": 31,
        "start_time": "2024-03-26T21:31:23.119Z"
      },
      {
        "duration": 30,
        "start_time": "2024-03-26T21:31:23.165Z"
      },
      {
        "duration": 422,
        "start_time": "2024-03-26T21:32:51.634Z"
      },
      {
        "duration": 94,
        "start_time": "2024-03-26T21:32:52.057Z"
      },
      {
        "duration": 14,
        "start_time": "2024-03-26T21:32:52.152Z"
      },
      {
        "duration": 18,
        "start_time": "2024-03-26T21:32:52.168Z"
      },
      {
        "duration": 6,
        "start_time": "2024-03-26T21:32:52.188Z"
      },
      {
        "duration": 19,
        "start_time": "2024-03-26T21:32:52.195Z"
      },
      {
        "duration": 19,
        "start_time": "2024-03-26T21:32:52.215Z"
      },
      {
        "duration": 7,
        "start_time": "2024-03-26T21:32:52.235Z"
      },
      {
        "duration": 7,
        "start_time": "2024-03-26T21:32:52.244Z"
      },
      {
        "duration": 14,
        "start_time": "2024-03-26T21:32:52.254Z"
      },
      {
        "duration": 6,
        "start_time": "2024-03-26T21:32:52.269Z"
      },
      {
        "duration": 466,
        "start_time": "2024-03-26T21:32:52.277Z"
      },
      {
        "duration": 212,
        "start_time": "2024-03-26T21:32:52.744Z"
      },
      {
        "duration": 291,
        "start_time": "2024-03-26T21:32:52.958Z"
      },
      {
        "duration": 256,
        "start_time": "2024-03-26T21:32:53.251Z"
      },
      {
        "duration": 240,
        "start_time": "2024-03-26T21:32:53.509Z"
      },
      {
        "duration": 46,
        "start_time": "2024-03-26T21:32:53.751Z"
      },
      {
        "duration": 34,
        "start_time": "2024-03-26T21:32:53.799Z"
      },
      {
        "duration": 256,
        "start_time": "2024-03-26T21:32:53.835Z"
      },
      {
        "duration": 225,
        "start_time": "2024-03-26T21:32:54.093Z"
      },
      {
        "duration": 228,
        "start_time": "2024-03-26T21:32:54.320Z"
      },
      {
        "duration": 306,
        "start_time": "2024-03-26T21:32:54.549Z"
      },
      {
        "duration": 32,
        "start_time": "2024-03-26T21:32:54.857Z"
      },
      {
        "duration": 91,
        "start_time": "2024-03-26T21:32:54.890Z"
      },
      {
        "duration": 1028,
        "start_time": "2024-03-26T21:34:03.211Z"
      },
      {
        "duration": 417,
        "start_time": "2024-03-26T21:34:11.049Z"
      },
      {
        "duration": 98,
        "start_time": "2024-03-26T21:34:11.468Z"
      },
      {
        "duration": 14,
        "start_time": "2024-03-26T21:34:11.567Z"
      },
      {
        "duration": 15,
        "start_time": "2024-03-26T21:34:11.583Z"
      },
      {
        "duration": 6,
        "start_time": "2024-03-26T21:34:11.600Z"
      },
      {
        "duration": 9,
        "start_time": "2024-03-26T21:34:11.607Z"
      },
      {
        "duration": 31,
        "start_time": "2024-03-26T21:34:11.618Z"
      },
      {
        "duration": 15,
        "start_time": "2024-03-26T21:34:11.651Z"
      },
      {
        "duration": 9,
        "start_time": "2024-03-26T21:34:11.668Z"
      },
      {
        "duration": 7,
        "start_time": "2024-03-26T21:34:11.678Z"
      },
      {
        "duration": 6,
        "start_time": "2024-03-26T21:34:11.687Z"
      },
      {
        "duration": 467,
        "start_time": "2024-03-26T21:34:11.694Z"
      },
      {
        "duration": 204,
        "start_time": "2024-03-26T21:34:12.164Z"
      },
      {
        "duration": 291,
        "start_time": "2024-03-26T21:34:12.372Z"
      },
      {
        "duration": 269,
        "start_time": "2024-03-26T21:34:12.665Z"
      },
      {
        "duration": 225,
        "start_time": "2024-03-26T21:34:12.936Z"
      },
      {
        "duration": 37,
        "start_time": "2024-03-26T21:34:13.164Z"
      },
      {
        "duration": 24,
        "start_time": "2024-03-26T21:34:13.202Z"
      },
      {
        "duration": 245,
        "start_time": "2024-03-26T21:34:13.227Z"
      },
      {
        "duration": 236,
        "start_time": "2024-03-26T21:34:13.474Z"
      },
      {
        "duration": 241,
        "start_time": "2024-03-26T21:34:13.712Z"
      },
      {
        "duration": 331,
        "start_time": "2024-03-26T21:34:13.964Z"
      },
      {
        "duration": 31,
        "start_time": "2024-03-26T21:34:14.297Z"
      },
      {
        "duration": 101,
        "start_time": "2024-03-26T21:34:14.329Z"
      },
      {
        "duration": 916,
        "start_time": "2024-03-26T21:34:35.973Z"
      },
      {
        "duration": 422,
        "start_time": "2024-03-26T21:34:41.734Z"
      },
      {
        "duration": 103,
        "start_time": "2024-03-26T21:34:42.158Z"
      },
      {
        "duration": 12,
        "start_time": "2024-03-26T21:34:42.263Z"
      },
      {
        "duration": 16,
        "start_time": "2024-03-26T21:34:42.277Z"
      },
      {
        "duration": 6,
        "start_time": "2024-03-26T21:34:42.295Z"
      },
      {
        "duration": 8,
        "start_time": "2024-03-26T21:34:42.302Z"
      },
      {
        "duration": 8,
        "start_time": "2024-03-26T21:34:42.312Z"
      },
      {
        "duration": 6,
        "start_time": "2024-03-26T21:34:42.321Z"
      },
      {
        "duration": 37,
        "start_time": "2024-03-26T21:34:42.328Z"
      },
      {
        "duration": 8,
        "start_time": "2024-03-26T21:34:42.367Z"
      },
      {
        "duration": 6,
        "start_time": "2024-03-26T21:34:42.376Z"
      },
      {
        "duration": 460,
        "start_time": "2024-03-26T21:34:42.384Z"
      },
      {
        "duration": 235,
        "start_time": "2024-03-26T21:34:42.846Z"
      },
      {
        "duration": 291,
        "start_time": "2024-03-26T21:34:43.083Z"
      },
      {
        "duration": 242,
        "start_time": "2024-03-26T21:34:43.375Z"
      },
      {
        "duration": 256,
        "start_time": "2024-03-26T21:34:43.618Z"
      },
      {
        "duration": 38,
        "start_time": "2024-03-26T21:34:43.875Z"
      },
      {
        "duration": 25,
        "start_time": "2024-03-26T21:34:43.914Z"
      },
      {
        "duration": 281,
        "start_time": "2024-03-26T21:34:43.941Z"
      },
      {
        "duration": 236,
        "start_time": "2024-03-26T21:34:44.223Z"
      },
      {
        "duration": 242,
        "start_time": "2024-03-26T21:34:44.461Z"
      },
      {
        "duration": 322,
        "start_time": "2024-03-26T21:34:44.705Z"
      },
      {
        "duration": 40,
        "start_time": "2024-03-26T21:34:45.029Z"
      },
      {
        "duration": 33,
        "start_time": "2024-03-26T21:34:45.071Z"
      },
      {
        "duration": 391,
        "start_time": "2024-03-26T21:35:09.881Z"
      },
      {
        "duration": 99,
        "start_time": "2024-03-26T21:35:10.274Z"
      },
      {
        "duration": 18,
        "start_time": "2024-03-26T21:35:10.375Z"
      },
      {
        "duration": 21,
        "start_time": "2024-03-26T21:35:10.395Z"
      },
      {
        "duration": 6,
        "start_time": "2024-03-26T21:35:10.417Z"
      },
      {
        "duration": 5,
        "start_time": "2024-03-26T21:35:10.424Z"
      },
      {
        "duration": 38,
        "start_time": "2024-03-26T21:35:10.431Z"
      },
      {
        "duration": 6,
        "start_time": "2024-03-26T21:35:10.470Z"
      },
      {
        "duration": 9,
        "start_time": "2024-03-26T21:35:10.478Z"
      },
      {
        "duration": 12,
        "start_time": "2024-03-26T21:35:10.494Z"
      },
      {
        "duration": 7,
        "start_time": "2024-03-26T21:35:10.507Z"
      },
      {
        "duration": 476,
        "start_time": "2024-03-26T21:35:10.516Z"
      },
      {
        "duration": 212,
        "start_time": "2024-03-26T21:35:10.993Z"
      },
      {
        "duration": 288,
        "start_time": "2024-03-26T21:35:11.207Z"
      },
      {
        "duration": 238,
        "start_time": "2024-03-26T21:35:11.496Z"
      },
      {
        "duration": 272,
        "start_time": "2024-03-26T21:35:11.736Z"
      },
      {
        "duration": 37,
        "start_time": "2024-03-26T21:35:12.009Z"
      },
      {
        "duration": 34,
        "start_time": "2024-03-26T21:35:12.048Z"
      },
      {
        "duration": 234,
        "start_time": "2024-03-26T21:35:12.084Z"
      },
      {
        "duration": 238,
        "start_time": "2024-03-26T21:35:12.320Z"
      },
      {
        "duration": 215,
        "start_time": "2024-03-26T21:35:12.564Z"
      },
      {
        "duration": 317,
        "start_time": "2024-03-26T21:35:12.780Z"
      },
      {
        "duration": 30,
        "start_time": "2024-03-26T21:35:13.098Z"
      },
      {
        "duration": 49,
        "start_time": "2024-03-26T21:35:13.129Z"
      },
      {
        "duration": 12,
        "start_time": "2024-03-26T21:36:31.662Z"
      },
      {
        "duration": 25,
        "start_time": "2024-03-26T21:41:29.686Z"
      },
      {
        "duration": 28,
        "start_time": "2024-03-26T21:43:48.250Z"
      },
      {
        "duration": 15,
        "start_time": "2024-03-26T21:44:39.223Z"
      },
      {
        "duration": 24,
        "start_time": "2024-03-26T21:45:45.216Z"
      },
      {
        "duration": 371,
        "start_time": "2024-03-26T21:46:39.201Z"
      },
      {
        "duration": 95,
        "start_time": "2024-03-26T21:46:39.574Z"
      },
      {
        "duration": 15,
        "start_time": "2024-03-26T21:46:39.671Z"
      },
      {
        "duration": 19,
        "start_time": "2024-03-26T21:46:39.688Z"
      },
      {
        "duration": 7,
        "start_time": "2024-03-26T21:46:39.709Z"
      },
      {
        "duration": 6,
        "start_time": "2024-03-26T21:46:39.717Z"
      },
      {
        "duration": 7,
        "start_time": "2024-03-26T21:46:39.724Z"
      },
      {
        "duration": 34,
        "start_time": "2024-03-26T21:46:39.733Z"
      },
      {
        "duration": 7,
        "start_time": "2024-03-26T21:46:39.769Z"
      },
      {
        "duration": 8,
        "start_time": "2024-03-26T21:46:39.778Z"
      },
      {
        "duration": 7,
        "start_time": "2024-03-26T21:46:39.787Z"
      },
      {
        "duration": 441,
        "start_time": "2024-03-26T21:46:39.795Z"
      },
      {
        "duration": 207,
        "start_time": "2024-03-26T21:46:40.238Z"
      },
      {
        "duration": 293,
        "start_time": "2024-03-26T21:46:40.447Z"
      },
      {
        "duration": 233,
        "start_time": "2024-03-26T21:46:40.741Z"
      },
      {
        "duration": 241,
        "start_time": "2024-03-26T21:46:40.975Z"
      },
      {
        "duration": 36,
        "start_time": "2024-03-26T21:46:41.218Z"
      },
      {
        "duration": 26,
        "start_time": "2024-03-26T21:46:41.265Z"
      },
      {
        "duration": 234,
        "start_time": "2024-03-26T21:46:41.293Z"
      },
      {
        "duration": 239,
        "start_time": "2024-03-26T21:46:41.529Z"
      },
      {
        "duration": 235,
        "start_time": "2024-03-26T21:46:41.770Z"
      },
      {
        "duration": 309,
        "start_time": "2024-03-26T21:46:42.007Z"
      },
      {
        "duration": 30,
        "start_time": "2024-03-26T21:46:42.318Z"
      },
      {
        "duration": 37,
        "start_time": "2024-03-26T21:46:42.349Z"
      },
      {
        "duration": 17,
        "start_time": "2024-03-26T21:46:42.388Z"
      },
      {
        "duration": 422,
        "start_time": "2024-03-26T21:51:14.946Z"
      },
      {
        "duration": 95,
        "start_time": "2024-03-26T21:51:15.370Z"
      },
      {
        "duration": 12,
        "start_time": "2024-03-26T21:51:15.467Z"
      },
      {
        "duration": 28,
        "start_time": "2024-03-26T21:51:15.480Z"
      },
      {
        "duration": 6,
        "start_time": "2024-03-26T21:51:15.510Z"
      },
      {
        "duration": 20,
        "start_time": "2024-03-26T21:51:15.517Z"
      },
      {
        "duration": 12,
        "start_time": "2024-03-26T21:51:15.538Z"
      },
      {
        "duration": 19,
        "start_time": "2024-03-26T21:51:15.551Z"
      },
      {
        "duration": 25,
        "start_time": "2024-03-26T21:51:15.572Z"
      },
      {
        "duration": 15,
        "start_time": "2024-03-26T21:51:15.598Z"
      },
      {
        "duration": 9,
        "start_time": "2024-03-26T21:51:15.615Z"
      },
      {
        "duration": 463,
        "start_time": "2024-03-26T21:51:15.626Z"
      },
      {
        "duration": 213,
        "start_time": "2024-03-26T21:51:16.090Z"
      },
      {
        "duration": 290,
        "start_time": "2024-03-26T21:51:16.305Z"
      },
      {
        "duration": 245,
        "start_time": "2024-03-26T21:51:16.597Z"
      },
      {
        "duration": 237,
        "start_time": "2024-03-26T21:51:16.843Z"
      },
      {
        "duration": 36,
        "start_time": "2024-03-26T21:51:17.081Z"
      },
      {
        "duration": 26,
        "start_time": "2024-03-26T21:51:17.119Z"
      },
      {
        "duration": 245,
        "start_time": "2024-03-26T21:51:17.165Z"
      },
      {
        "duration": 268,
        "start_time": "2024-03-26T21:51:17.412Z"
      },
      {
        "duration": 241,
        "start_time": "2024-03-26T21:51:17.681Z"
      },
      {
        "duration": 319,
        "start_time": "2024-03-26T21:51:17.923Z"
      },
      {
        "duration": 41,
        "start_time": "2024-03-26T21:51:18.243Z"
      },
      {
        "duration": 16,
        "start_time": "2024-03-26T21:51:18.285Z"
      },
      {
        "duration": 779,
        "start_time": "2024-03-26T22:07:27.524Z"
      },
      {
        "duration": 96,
        "start_time": "2024-03-26T22:07:28.305Z"
      },
      {
        "duration": 13,
        "start_time": "2024-03-26T22:07:28.402Z"
      },
      {
        "duration": 14,
        "start_time": "2024-03-26T22:07:28.417Z"
      },
      {
        "duration": 6,
        "start_time": "2024-03-26T22:07:28.433Z"
      },
      {
        "duration": 7,
        "start_time": "2024-03-26T22:07:28.440Z"
      },
      {
        "duration": 22,
        "start_time": "2024-03-26T22:07:28.448Z"
      },
      {
        "duration": 5,
        "start_time": "2024-03-26T22:07:28.471Z"
      },
      {
        "duration": 8,
        "start_time": "2024-03-26T22:07:28.478Z"
      },
      {
        "duration": 10,
        "start_time": "2024-03-26T22:07:28.488Z"
      },
      {
        "duration": 6,
        "start_time": "2024-03-26T22:07:28.499Z"
      },
      {
        "duration": 490,
        "start_time": "2024-03-26T22:07:28.506Z"
      },
      {
        "duration": 216,
        "start_time": "2024-03-26T22:07:28.998Z"
      },
      {
        "duration": 237,
        "start_time": "2024-03-26T22:07:29.217Z"
      },
      {
        "duration": 269,
        "start_time": "2024-03-26T22:07:29.457Z"
      },
      {
        "duration": 241,
        "start_time": "2024-03-26T22:07:29.728Z"
      },
      {
        "duration": 37,
        "start_time": "2024-03-26T22:07:29.970Z"
      },
      {
        "duration": 26,
        "start_time": "2024-03-26T22:07:30.009Z"
      },
      {
        "duration": 342,
        "start_time": "2024-03-26T22:07:30.037Z"
      },
      {
        "duration": 238,
        "start_time": "2024-03-26T22:07:30.381Z"
      },
      {
        "duration": 231,
        "start_time": "2024-03-26T22:07:30.620Z"
      },
      {
        "duration": 251,
        "start_time": "2024-03-26T22:07:30.853Z"
      },
      {
        "duration": 30,
        "start_time": "2024-03-26T22:07:31.106Z"
      },
      {
        "duration": 35,
        "start_time": "2024-03-26T22:07:31.137Z"
      },
      {
        "duration": 6,
        "start_time": "2024-03-26T22:14:00.138Z"
      },
      {
        "duration": 6,
        "start_time": "2024-03-26T22:23:48.791Z"
      },
      {
        "duration": 6,
        "start_time": "2024-03-26T22:24:55.713Z"
      },
      {
        "duration": 5,
        "start_time": "2024-03-26T22:32:04.152Z"
      },
      {
        "duration": 779,
        "start_time": "2024-03-27T18:29:52.176Z"
      },
      {
        "duration": 234,
        "start_time": "2024-03-27T18:29:52.957Z"
      },
      {
        "duration": 11,
        "start_time": "2024-03-27T18:29:53.193Z"
      },
      {
        "duration": 29,
        "start_time": "2024-03-27T18:29:53.206Z"
      },
      {
        "duration": 38,
        "start_time": "2024-03-27T18:29:53.236Z"
      },
      {
        "duration": 31,
        "start_time": "2024-03-27T18:29:53.276Z"
      },
      {
        "duration": 27,
        "start_time": "2024-03-27T18:29:53.309Z"
      },
      {
        "duration": 22,
        "start_time": "2024-03-27T18:29:53.337Z"
      },
      {
        "duration": 27,
        "start_time": "2024-03-27T18:29:53.361Z"
      },
      {
        "duration": 33,
        "start_time": "2024-03-27T18:29:53.390Z"
      },
      {
        "duration": 28,
        "start_time": "2024-03-27T18:29:53.425Z"
      },
      {
        "duration": 468,
        "start_time": "2024-03-27T18:29:53.455Z"
      },
      {
        "duration": 193,
        "start_time": "2024-03-27T18:29:53.924Z"
      },
      {
        "duration": 217,
        "start_time": "2024-03-27T18:29:54.119Z"
      },
      {
        "duration": 241,
        "start_time": "2024-03-27T18:29:54.337Z"
      },
      {
        "duration": 246,
        "start_time": "2024-03-27T18:29:54.579Z"
      },
      {
        "duration": 37,
        "start_time": "2024-03-27T18:29:54.826Z"
      },
      {
        "duration": 23,
        "start_time": "2024-03-27T18:29:54.864Z"
      },
      {
        "duration": 295,
        "start_time": "2024-03-27T18:29:54.888Z"
      },
      {
        "duration": 225,
        "start_time": "2024-03-27T18:29:55.184Z"
      },
      {
        "duration": 215,
        "start_time": "2024-03-27T18:29:55.411Z"
      },
      {
        "duration": 232,
        "start_time": "2024-03-27T18:29:55.628Z"
      },
      {
        "duration": 28,
        "start_time": "2024-03-27T18:29:55.861Z"
      },
      {
        "duration": 15,
        "start_time": "2024-03-27T18:29:55.890Z"
      },
      {
        "duration": 5,
        "start_time": "2024-03-27T18:29:55.906Z"
      },
      {
        "duration": 64,
        "start_time": "2024-03-27T18:29:55.913Z"
      },
      {
        "duration": 5,
        "start_time": "2024-03-27T18:36:57.811Z"
      },
      {
        "duration": 5,
        "start_time": "2024-03-27T18:37:04.358Z"
      },
      {
        "duration": 83,
        "start_time": "2024-03-27T18:45:12.104Z"
      },
      {
        "duration": 8,
        "start_time": "2024-03-27T18:45:42.956Z"
      },
      {
        "duration": 10,
        "start_time": "2024-03-27T18:46:15.820Z"
      },
      {
        "duration": 10,
        "start_time": "2024-03-27T18:48:18.027Z"
      },
      {
        "duration": 6,
        "start_time": "2024-03-27T18:48:48.832Z"
      },
      {
        "duration": 5,
        "start_time": "2024-03-27T18:50:49.168Z"
      },
      {
        "duration": 5,
        "start_time": "2024-03-27T18:51:21.745Z"
      },
      {
        "duration": 10,
        "start_time": "2024-03-27T18:51:49.926Z"
      },
      {
        "duration": 5,
        "start_time": "2024-03-27T18:52:20.019Z"
      },
      {
        "duration": 7,
        "start_time": "2024-03-27T18:53:14.247Z"
      },
      {
        "duration": 8,
        "start_time": "2024-03-27T18:53:39.884Z"
      },
      {
        "duration": 5,
        "start_time": "2024-03-27T18:53:57.814Z"
      },
      {
        "duration": 5,
        "start_time": "2024-03-27T18:56:16.398Z"
      },
      {
        "duration": 4,
        "start_time": "2024-03-27T18:58:19.222Z"
      },
      {
        "duration": 5,
        "start_time": "2024-03-27T18:58:31.405Z"
      },
      {
        "duration": 5,
        "start_time": "2024-03-27T19:34:06.116Z"
      },
      {
        "duration": 5,
        "start_time": "2024-03-27T19:37:20.699Z"
      },
      {
        "duration": 3,
        "start_time": "2024-03-27T19:42:16.553Z"
      },
      {
        "duration": 4,
        "start_time": "2024-03-27T19:45:52.906Z"
      },
      {
        "duration": 5,
        "start_time": "2024-03-27T19:48:03.189Z"
      },
      {
        "duration": 5,
        "start_time": "2024-03-27T19:48:15.831Z"
      },
      {
        "duration": 4,
        "start_time": "2024-03-27T19:48:23.396Z"
      },
      {
        "duration": 5,
        "start_time": "2024-03-27T19:49:09.427Z"
      },
      {
        "duration": 5,
        "start_time": "2024-03-27T19:49:28.899Z"
      },
      {
        "duration": 5,
        "start_time": "2024-03-27T19:50:50.859Z"
      },
      {
        "duration": 4,
        "start_time": "2024-03-27T20:05:14.129Z"
      },
      {
        "duration": 4,
        "start_time": "2024-03-27T20:10:29.769Z"
      },
      {
        "duration": 15,
        "start_time": "2024-03-27T20:16:17.029Z"
      },
      {
        "duration": 3,
        "start_time": "2024-03-27T20:18:01.068Z"
      },
      {
        "duration": 5,
        "start_time": "2024-03-27T20:19:54.057Z"
      },
      {
        "duration": 11,
        "start_time": "2024-03-27T20:23:04.266Z"
      },
      {
        "duration": 9,
        "start_time": "2024-03-27T20:24:10.478Z"
      },
      {
        "duration": 8,
        "start_time": "2024-03-27T20:29:20.282Z"
      },
      {
        "duration": 801,
        "start_time": "2024-03-27T20:41:41.647Z"
      },
      {
        "duration": 94,
        "start_time": "2024-03-27T20:41:42.450Z"
      },
      {
        "duration": 11,
        "start_time": "2024-03-27T20:41:42.545Z"
      },
      {
        "duration": 31,
        "start_time": "2024-03-27T20:41:42.558Z"
      },
      {
        "duration": 5,
        "start_time": "2024-03-27T20:41:42.590Z"
      },
      {
        "duration": 22,
        "start_time": "2024-03-27T20:41:42.596Z"
      },
      {
        "duration": 19,
        "start_time": "2024-03-27T20:41:42.620Z"
      },
      {
        "duration": 25,
        "start_time": "2024-03-27T20:41:42.640Z"
      },
      {
        "duration": 14,
        "start_time": "2024-03-27T20:41:42.666Z"
      },
      {
        "duration": 14,
        "start_time": "2024-03-27T20:41:42.682Z"
      },
      {
        "duration": 20,
        "start_time": "2024-03-27T20:41:42.697Z"
      },
      {
        "duration": 429,
        "start_time": "2024-03-27T20:41:42.718Z"
      },
      {
        "duration": 198,
        "start_time": "2024-03-27T20:41:43.148Z"
      },
      {
        "duration": 222,
        "start_time": "2024-03-27T20:41:43.347Z"
      },
      {
        "duration": 235,
        "start_time": "2024-03-27T20:41:43.570Z"
      },
      {
        "duration": 216,
        "start_time": "2024-03-27T20:41:43.807Z"
      },
      {
        "duration": 41,
        "start_time": "2024-03-27T20:41:44.024Z"
      },
      {
        "duration": 23,
        "start_time": "2024-03-27T20:41:44.067Z"
      },
      {
        "duration": 285,
        "start_time": "2024-03-27T20:41:44.091Z"
      },
      {
        "duration": 213,
        "start_time": "2024-03-27T20:41:44.377Z"
      },
      {
        "duration": 211,
        "start_time": "2024-03-27T20:41:44.591Z"
      },
      {
        "duration": 220,
        "start_time": "2024-03-27T20:41:44.804Z"
      },
      {
        "duration": 37,
        "start_time": "2024-03-27T20:41:45.026Z"
      },
      {
        "duration": 23,
        "start_time": "2024-03-27T20:41:45.064Z"
      },
      {
        "duration": 18,
        "start_time": "2024-03-27T20:41:45.088Z"
      },
      {
        "duration": 44,
        "start_time": "2024-03-27T20:41:45.107Z"
      },
      {
        "duration": 59,
        "start_time": "2024-03-27T20:41:45.153Z"
      },
      {
        "duration": 37,
        "start_time": "2024-03-27T20:41:45.216Z"
      },
      {
        "duration": 36,
        "start_time": "2024-03-27T20:41:45.255Z"
      },
      {
        "duration": 28,
        "start_time": "2024-03-27T20:41:45.293Z"
      },
      {
        "duration": 986,
        "start_time": "2024-03-27T20:52:06.959Z"
      },
      {
        "duration": 136,
        "start_time": "2024-03-27T20:52:07.946Z"
      },
      {
        "duration": 14,
        "start_time": "2024-03-27T20:52:08.083Z"
      },
      {
        "duration": 24,
        "start_time": "2024-03-27T20:52:08.100Z"
      },
      {
        "duration": 13,
        "start_time": "2024-03-27T20:52:08.125Z"
      },
      {
        "duration": 28,
        "start_time": "2024-03-27T20:52:08.140Z"
      },
      {
        "duration": 20,
        "start_time": "2024-03-27T20:52:08.170Z"
      },
      {
        "duration": 24,
        "start_time": "2024-03-27T20:52:08.192Z"
      },
      {
        "duration": 18,
        "start_time": "2024-03-27T20:52:08.218Z"
      },
      {
        "duration": 28,
        "start_time": "2024-03-27T20:52:08.239Z"
      },
      {
        "duration": 30,
        "start_time": "2024-03-27T20:52:08.269Z"
      },
      {
        "duration": 242,
        "start_time": "2024-03-27T20:52:08.301Z"
      },
      {
        "duration": 185,
        "start_time": "2024-03-27T20:52:08.545Z"
      },
      {
        "duration": 210,
        "start_time": "2024-03-27T20:52:08.731Z"
      },
      {
        "duration": 214,
        "start_time": "2024-03-27T20:52:08.943Z"
      },
      {
        "duration": 212,
        "start_time": "2024-03-27T20:52:09.158Z"
      },
      {
        "duration": 33,
        "start_time": "2024-03-27T20:52:09.371Z"
      },
      {
        "duration": 106,
        "start_time": "2024-03-27T20:52:09.406Z"
      },
      {
        "duration": 233,
        "start_time": "2024-03-27T20:52:09.513Z"
      },
      {
        "duration": 209,
        "start_time": "2024-03-27T20:52:09.747Z"
      },
      {
        "duration": 201,
        "start_time": "2024-03-27T20:52:09.957Z"
      },
      {
        "duration": 217,
        "start_time": "2024-03-27T20:52:10.160Z"
      },
      {
        "duration": 26,
        "start_time": "2024-03-27T20:52:10.379Z"
      },
      {
        "duration": 14,
        "start_time": "2024-03-27T20:52:10.406Z"
      },
      {
        "duration": 4,
        "start_time": "2024-03-27T20:52:10.422Z"
      },
      {
        "duration": 20,
        "start_time": "2024-03-27T20:52:10.427Z"
      },
      {
        "duration": 7,
        "start_time": "2024-03-27T20:52:10.448Z"
      },
      {
        "duration": 3,
        "start_time": "2024-03-27T20:52:10.457Z"
      },
      {
        "duration": 10,
        "start_time": "2024-03-27T20:52:10.461Z"
      },
      {
        "duration": 7,
        "start_time": "2024-03-27T20:52:10.472Z"
      },
      {
        "duration": 1279,
        "start_time": "2024-03-27T20:57:05.890Z"
      },
      {
        "duration": 230,
        "start_time": "2024-03-27T20:57:51.772Z"
      },
      {
        "duration": 1308,
        "start_time": "2024-03-27T20:59:06.562Z"
      },
      {
        "duration": 1434,
        "start_time": "2024-03-27T20:59:13.799Z"
      },
      {
        "duration": 1395,
        "start_time": "2024-03-27T20:59:31.682Z"
      },
      {
        "duration": 1356,
        "start_time": "2024-03-27T21:00:12.703Z"
      },
      {
        "duration": 596,
        "start_time": "2024-03-27T21:02:14.674Z"
      },
      {
        "duration": 1441,
        "start_time": "2024-03-27T21:02:21.489Z"
      },
      {
        "duration": 647,
        "start_time": "2024-03-27T21:03:35.365Z"
      },
      {
        "duration": 530,
        "start_time": "2024-03-27T21:03:47.302Z"
      },
      {
        "duration": 447,
        "start_time": "2024-03-27T21:03:57.533Z"
      },
      {
        "duration": 587,
        "start_time": "2024-03-27T21:04:11.290Z"
      },
      {
        "duration": 787,
        "start_time": "2024-03-27T21:04:17.499Z"
      },
      {
        "duration": 1110,
        "start_time": "2024-03-27T21:04:33.507Z"
      },
      {
        "duration": 1382,
        "start_time": "2024-03-27T21:05:24.358Z"
      },
      {
        "duration": 617,
        "start_time": "2024-03-27T21:05:46.902Z"
      },
      {
        "duration": 61,
        "start_time": "2024-03-27T21:06:03.312Z"
      },
      {
        "duration": 46,
        "start_time": "2024-03-27T21:06:22.373Z"
      },
      {
        "duration": 40,
        "start_time": "2024-03-27T21:06:31.442Z"
      },
      {
        "duration": 1321,
        "start_time": "2024-03-27T21:06:37.842Z"
      },
      {
        "duration": 39,
        "start_time": "2024-03-27T21:07:15.155Z"
      },
      {
        "duration": 38,
        "start_time": "2024-03-27T21:07:34.036Z"
      },
      {
        "duration": 1658,
        "start_time": "2024-03-27T21:07:56.547Z"
      },
      {
        "duration": 1465,
        "start_time": "2024-03-27T21:12:59.367Z"
      },
      {
        "duration": 5,
        "start_time": "2024-03-27T21:20:47.254Z"
      },
      {
        "duration": 4,
        "start_time": "2024-03-27T21:21:00.530Z"
      },
      {
        "duration": 5,
        "start_time": "2024-03-27T21:21:09.613Z"
      },
      {
        "duration": 4,
        "start_time": "2024-03-27T21:21:14.602Z"
      },
      {
        "duration": 4,
        "start_time": "2024-03-27T21:21:20.822Z"
      },
      {
        "duration": 5,
        "start_time": "2024-03-27T21:21:24.889Z"
      },
      {
        "duration": 5,
        "start_time": "2024-03-27T21:21:37.421Z"
      },
      {
        "duration": 983,
        "start_time": "2024-03-27T21:26:39.541Z"
      },
      {
        "duration": 134,
        "start_time": "2024-03-27T21:26:40.526Z"
      },
      {
        "duration": 12,
        "start_time": "2024-03-27T21:26:40.661Z"
      },
      {
        "duration": 11,
        "start_time": "2024-03-27T21:26:40.674Z"
      },
      {
        "duration": 15,
        "start_time": "2024-03-27T21:26:40.686Z"
      },
      {
        "duration": 16,
        "start_time": "2024-03-27T21:26:40.702Z"
      },
      {
        "duration": 19,
        "start_time": "2024-03-27T21:26:40.719Z"
      },
      {
        "duration": 24,
        "start_time": "2024-03-27T21:26:40.740Z"
      },
      {
        "duration": 21,
        "start_time": "2024-03-27T21:26:40.765Z"
      },
      {
        "duration": 7,
        "start_time": "2024-03-27T21:26:40.788Z"
      },
      {
        "duration": 24,
        "start_time": "2024-03-27T21:26:40.796Z"
      },
      {
        "duration": 239,
        "start_time": "2024-03-27T21:26:40.822Z"
      },
      {
        "duration": 192,
        "start_time": "2024-03-27T21:26:41.062Z"
      },
      {
        "duration": 224,
        "start_time": "2024-03-27T21:26:41.255Z"
      },
      {
        "duration": 221,
        "start_time": "2024-03-27T21:26:41.480Z"
      },
      {
        "duration": 209,
        "start_time": "2024-03-27T21:26:41.702Z"
      },
      {
        "duration": 41,
        "start_time": "2024-03-27T21:26:41.912Z"
      },
      {
        "duration": 94,
        "start_time": "2024-03-27T21:26:41.954Z"
      },
      {
        "duration": 212,
        "start_time": "2024-03-27T21:26:42.050Z"
      },
      {
        "duration": 218,
        "start_time": "2024-03-27T21:26:42.264Z"
      },
      {
        "duration": 224,
        "start_time": "2024-03-27T21:26:42.484Z"
      },
      {
        "duration": 219,
        "start_time": "2024-03-27T21:26:42.710Z"
      },
      {
        "duration": 31,
        "start_time": "2024-03-27T21:26:42.931Z"
      },
      {
        "duration": 14,
        "start_time": "2024-03-27T21:26:42.963Z"
      },
      {
        "duration": 4,
        "start_time": "2024-03-27T21:26:42.979Z"
      },
      {
        "duration": 16,
        "start_time": "2024-03-27T21:26:42.984Z"
      },
      {
        "duration": 26,
        "start_time": "2024-03-27T21:26:43.002Z"
      },
      {
        "duration": 12,
        "start_time": "2024-03-27T21:26:43.031Z"
      },
      {
        "duration": 24,
        "start_time": "2024-03-27T21:26:43.044Z"
      },
      {
        "duration": 11,
        "start_time": "2024-03-27T21:26:43.069Z"
      },
      {
        "duration": 961,
        "start_time": "2024-03-27T21:32:49.156Z"
      },
      {
        "duration": 134,
        "start_time": "2024-03-27T21:32:50.118Z"
      },
      {
        "duration": 12,
        "start_time": "2024-03-27T21:32:50.255Z"
      },
      {
        "duration": 11,
        "start_time": "2024-03-27T21:32:50.268Z"
      },
      {
        "duration": 6,
        "start_time": "2024-03-27T21:32:50.280Z"
      },
      {
        "duration": 6,
        "start_time": "2024-03-27T21:32:50.287Z"
      },
      {
        "duration": 17,
        "start_time": "2024-03-27T21:32:50.294Z"
      },
      {
        "duration": 17,
        "start_time": "2024-03-27T21:32:50.312Z"
      },
      {
        "duration": 5,
        "start_time": "2024-03-27T21:32:50.344Z"
      },
      {
        "duration": 16,
        "start_time": "2024-03-27T21:32:50.350Z"
      },
      {
        "duration": 17,
        "start_time": "2024-03-27T21:32:50.367Z"
      },
      {
        "duration": 237,
        "start_time": "2024-03-27T21:32:50.385Z"
      },
      {
        "duration": 195,
        "start_time": "2024-03-27T21:32:50.624Z"
      },
      {
        "duration": 210,
        "start_time": "2024-03-27T21:32:50.820Z"
      },
      {
        "duration": 218,
        "start_time": "2024-03-27T21:32:51.032Z"
      },
      {
        "duration": 221,
        "start_time": "2024-03-27T21:32:51.252Z"
      },
      {
        "duration": 36,
        "start_time": "2024-03-27T21:32:51.475Z"
      },
      {
        "duration": 99,
        "start_time": "2024-03-27T21:32:51.513Z"
      },
      {
        "duration": 224,
        "start_time": "2024-03-27T21:32:51.613Z"
      },
      {
        "duration": 211,
        "start_time": "2024-03-27T21:32:51.839Z"
      },
      {
        "duration": 213,
        "start_time": "2024-03-27T21:32:52.051Z"
      },
      {
        "duration": 220,
        "start_time": "2024-03-27T21:32:52.266Z"
      },
      {
        "duration": 27,
        "start_time": "2024-03-27T21:32:52.487Z"
      },
      {
        "duration": 14,
        "start_time": "2024-03-27T21:32:52.515Z"
      },
      {
        "duration": 5,
        "start_time": "2024-03-27T21:32:52.545Z"
      },
      {
        "duration": 3,
        "start_time": "2024-03-27T21:32:52.551Z"
      },
      {
        "duration": 5,
        "start_time": "2024-03-27T21:32:52.557Z"
      },
      {
        "duration": 3,
        "start_time": "2024-03-27T21:32:52.563Z"
      },
      {
        "duration": 10,
        "start_time": "2024-03-27T21:32:52.567Z"
      },
      {
        "duration": 10,
        "start_time": "2024-03-27T21:32:52.578Z"
      },
      {
        "duration": 921,
        "start_time": "2024-03-27T21:33:28.308Z"
      },
      {
        "duration": 141,
        "start_time": "2024-03-27T21:33:29.231Z"
      },
      {
        "duration": 12,
        "start_time": "2024-03-27T21:33:29.374Z"
      },
      {
        "duration": 18,
        "start_time": "2024-03-27T21:33:29.387Z"
      },
      {
        "duration": 8,
        "start_time": "2024-03-27T21:33:29.406Z"
      },
      {
        "duration": 6,
        "start_time": "2024-03-27T21:33:29.415Z"
      },
      {
        "duration": 29,
        "start_time": "2024-03-27T21:33:29.423Z"
      },
      {
        "duration": 5,
        "start_time": "2024-03-27T21:33:29.454Z"
      },
      {
        "duration": 7,
        "start_time": "2024-03-27T21:33:29.461Z"
      },
      {
        "duration": 6,
        "start_time": "2024-03-27T21:33:29.471Z"
      },
      {
        "duration": 6,
        "start_time": "2024-03-27T21:33:29.478Z"
      },
      {
        "duration": 250,
        "start_time": "2024-03-27T21:33:29.486Z"
      },
      {
        "duration": 192,
        "start_time": "2024-03-27T21:33:29.738Z"
      },
      {
        "duration": 216,
        "start_time": "2024-03-27T21:33:29.932Z"
      },
      {
        "duration": 227,
        "start_time": "2024-03-27T21:33:30.150Z"
      },
      {
        "duration": 224,
        "start_time": "2024-03-27T21:33:30.379Z"
      },
      {
        "duration": 43,
        "start_time": "2024-03-27T21:33:30.605Z"
      },
      {
        "duration": 105,
        "start_time": "2024-03-27T21:33:30.650Z"
      },
      {
        "duration": 221,
        "start_time": "2024-03-27T21:33:30.757Z"
      },
      {
        "duration": 218,
        "start_time": "2024-03-27T21:33:30.979Z"
      },
      {
        "duration": 216,
        "start_time": "2024-03-27T21:33:31.199Z"
      },
      {
        "duration": 240,
        "start_time": "2024-03-27T21:33:31.417Z"
      },
      {
        "duration": 28,
        "start_time": "2024-03-27T21:33:31.659Z"
      },
      {
        "duration": 52,
        "start_time": "2024-03-27T21:33:31.688Z"
      },
      {
        "duration": 97,
        "start_time": "2024-03-27T21:33:31.742Z"
      },
      {
        "duration": 66,
        "start_time": "2024-03-27T21:33:31.840Z"
      },
      {
        "duration": 20,
        "start_time": "2024-03-27T21:33:31.907Z"
      },
      {
        "duration": 17,
        "start_time": "2024-03-27T21:33:31.930Z"
      },
      {
        "duration": 48,
        "start_time": "2024-03-27T21:33:31.949Z"
      },
      {
        "duration": 8,
        "start_time": "2024-03-27T21:33:31.998Z"
      },
      {
        "duration": 989,
        "start_time": "2024-03-27T21:36:42.334Z"
      },
      {
        "duration": 134,
        "start_time": "2024-03-27T21:36:43.325Z"
      },
      {
        "duration": 13,
        "start_time": "2024-03-27T21:36:43.460Z"
      },
      {
        "duration": 12,
        "start_time": "2024-03-27T21:36:43.474Z"
      },
      {
        "duration": 6,
        "start_time": "2024-03-27T21:36:43.488Z"
      },
      {
        "duration": 8,
        "start_time": "2024-03-27T21:36:43.495Z"
      },
      {
        "duration": 6,
        "start_time": "2024-03-27T21:36:43.504Z"
      },
      {
        "duration": 35,
        "start_time": "2024-03-27T21:36:43.512Z"
      },
      {
        "duration": 6,
        "start_time": "2024-03-27T21:36:43.548Z"
      },
      {
        "duration": 7,
        "start_time": "2024-03-27T21:36:43.556Z"
      },
      {
        "duration": 5,
        "start_time": "2024-03-27T21:36:43.564Z"
      },
      {
        "duration": 244,
        "start_time": "2024-03-27T21:36:43.571Z"
      },
      {
        "duration": 192,
        "start_time": "2024-03-27T21:36:43.816Z"
      },
      {
        "duration": 221,
        "start_time": "2024-03-27T21:36:44.011Z"
      },
      {
        "duration": 227,
        "start_time": "2024-03-27T21:36:44.233Z"
      },
      {
        "duration": 231,
        "start_time": "2024-03-27T21:36:44.461Z"
      },
      {
        "duration": 37,
        "start_time": "2024-03-27T21:36:44.693Z"
      },
      {
        "duration": 106,
        "start_time": "2024-03-27T21:36:44.731Z"
      },
      {
        "duration": 221,
        "start_time": "2024-03-27T21:36:44.844Z"
      },
      {
        "duration": 223,
        "start_time": "2024-03-27T21:36:45.066Z"
      },
      {
        "duration": 224,
        "start_time": "2024-03-27T21:36:45.290Z"
      },
      {
        "duration": 223,
        "start_time": "2024-03-27T21:36:45.515Z"
      },
      {
        "duration": 31,
        "start_time": "2024-03-27T21:36:45.740Z"
      },
      {
        "duration": 15,
        "start_time": "2024-03-27T21:36:45.772Z"
      },
      {
        "duration": 5,
        "start_time": "2024-03-27T21:36:45.789Z"
      },
      {
        "duration": 5,
        "start_time": "2024-03-27T21:36:45.795Z"
      },
      {
        "duration": 7,
        "start_time": "2024-03-27T21:36:45.801Z"
      },
      {
        "duration": 41,
        "start_time": "2024-03-27T21:36:45.809Z"
      },
      {
        "duration": 10,
        "start_time": "2024-03-27T21:36:45.851Z"
      },
      {
        "duration": 10,
        "start_time": "2024-03-27T21:36:45.863Z"
      },
      {
        "duration": 1144,
        "start_time": "2024-03-28T05:47:50.551Z"
      },
      {
        "duration": 156,
        "start_time": "2024-03-28T05:47:51.697Z"
      },
      {
        "duration": 14,
        "start_time": "2024-03-28T05:47:51.855Z"
      },
      {
        "duration": 31,
        "start_time": "2024-03-28T05:47:51.871Z"
      },
      {
        "duration": 30,
        "start_time": "2024-03-28T05:47:51.904Z"
      },
      {
        "duration": 18,
        "start_time": "2024-03-28T05:47:51.935Z"
      },
      {
        "duration": 26,
        "start_time": "2024-03-28T05:47:51.955Z"
      },
      {
        "duration": 31,
        "start_time": "2024-03-28T05:47:51.983Z"
      },
      {
        "duration": 42,
        "start_time": "2024-03-28T05:47:52.015Z"
      },
      {
        "duration": 39,
        "start_time": "2024-03-28T05:47:52.059Z"
      },
      {
        "duration": 18,
        "start_time": "2024-03-28T05:47:52.100Z"
      },
      {
        "duration": 316,
        "start_time": "2024-03-28T05:47:52.120Z"
      },
      {
        "duration": 257,
        "start_time": "2024-03-28T05:47:52.438Z"
      },
      {
        "duration": 268,
        "start_time": "2024-03-28T05:47:52.699Z"
      },
      {
        "duration": 280,
        "start_time": "2024-03-28T05:47:52.970Z"
      },
      {
        "duration": 273,
        "start_time": "2024-03-28T05:47:53.252Z"
      },
      {
        "duration": 62,
        "start_time": "2024-03-28T05:47:53.527Z"
      },
      {
        "duration": 120,
        "start_time": "2024-03-28T05:47:53.590Z"
      },
      {
        "duration": 294,
        "start_time": "2024-03-28T05:47:53.712Z"
      },
      {
        "duration": 278,
        "start_time": "2024-03-28T05:47:54.008Z"
      },
      {
        "duration": 270,
        "start_time": "2024-03-28T05:47:54.288Z"
      },
      {
        "duration": 303,
        "start_time": "2024-03-28T05:47:54.560Z"
      },
      {
        "duration": 41,
        "start_time": "2024-03-28T05:47:54.865Z"
      },
      {
        "duration": 19,
        "start_time": "2024-03-28T05:47:54.908Z"
      },
      {
        "duration": 5,
        "start_time": "2024-03-28T05:47:54.928Z"
      },
      {
        "duration": 3,
        "start_time": "2024-03-28T05:47:54.935Z"
      },
      {
        "duration": 6,
        "start_time": "2024-03-28T05:47:54.940Z"
      },
      {
        "duration": 4,
        "start_time": "2024-03-28T05:47:54.980Z"
      },
      {
        "duration": 15,
        "start_time": "2024-03-28T05:47:54.985Z"
      },
      {
        "duration": 10,
        "start_time": "2024-03-28T05:47:55.001Z"
      },
      {
        "duration": 7,
        "start_time": "2024-03-28T05:50:22.426Z"
      },
      {
        "duration": 19,
        "start_time": "2024-03-28T05:50:58.109Z"
      },
      {
        "duration": 13,
        "start_time": "2024-03-28T05:52:11.136Z"
      },
      {
        "duration": 5,
        "start_time": "2024-03-28T05:52:22.911Z"
      },
      {
        "duration": 1260,
        "start_time": "2024-03-31T12:13:21.073Z"
      },
      {
        "duration": 408,
        "start_time": "2024-03-31T12:13:22.335Z"
      },
      {
        "duration": 13,
        "start_time": "2024-03-31T12:13:22.744Z"
      },
      {
        "duration": 13,
        "start_time": "2024-03-31T12:13:22.759Z"
      },
      {
        "duration": 6,
        "start_time": "2024-03-31T12:13:22.773Z"
      },
      {
        "duration": 19,
        "start_time": "2024-03-31T12:13:22.781Z"
      },
      {
        "duration": 8,
        "start_time": "2024-03-31T12:13:22.802Z"
      },
      {
        "duration": 7,
        "start_time": "2024-03-31T12:13:22.811Z"
      },
      {
        "duration": 14,
        "start_time": "2024-03-31T12:13:22.819Z"
      },
      {
        "duration": 8,
        "start_time": "2024-03-31T12:13:22.835Z"
      },
      {
        "duration": 6,
        "start_time": "2024-03-31T12:13:22.845Z"
      },
      {
        "duration": 290,
        "start_time": "2024-03-31T12:13:22.853Z"
      },
      {
        "duration": 234,
        "start_time": "2024-03-31T12:13:23.145Z"
      },
      {
        "duration": 265,
        "start_time": "2024-03-31T12:13:23.381Z"
      },
      {
        "duration": 293,
        "start_time": "2024-03-31T12:13:23.648Z"
      },
      {
        "duration": 292,
        "start_time": "2024-03-31T12:13:23.943Z"
      },
      {
        "duration": 46,
        "start_time": "2024-03-31T12:13:24.236Z"
      },
      {
        "duration": 122,
        "start_time": "2024-03-31T12:13:24.284Z"
      },
      {
        "duration": 249,
        "start_time": "2024-03-31T12:13:24.407Z"
      },
      {
        "duration": 245,
        "start_time": "2024-03-31T12:13:24.658Z"
      },
      {
        "duration": 248,
        "start_time": "2024-03-31T12:13:24.905Z"
      },
      {
        "duration": 271,
        "start_time": "2024-03-31T12:13:25.155Z"
      },
      {
        "duration": 32,
        "start_time": "2024-03-31T12:13:25.428Z"
      },
      {
        "duration": 36,
        "start_time": "2024-03-31T12:13:25.462Z"
      },
      {
        "duration": 6,
        "start_time": "2024-03-31T12:13:25.500Z"
      },
      {
        "duration": 18,
        "start_time": "2024-03-31T12:13:25.507Z"
      },
      {
        "duration": 21,
        "start_time": "2024-03-31T12:13:25.527Z"
      },
      {
        "duration": 8,
        "start_time": "2024-03-31T12:13:25.552Z"
      },
      {
        "duration": 32,
        "start_time": "2024-03-31T12:13:25.561Z"
      },
      {
        "duration": 11,
        "start_time": "2024-03-31T12:13:25.595Z"
      },
      {
        "duration": 92,
        "start_time": "2024-03-31T12:50:45.381Z"
      },
      {
        "duration": 378,
        "start_time": "2024-03-31T12:53:31.864Z"
      },
      {
        "duration": 384,
        "start_time": "2024-03-31T12:54:43.203Z"
      },
      {
        "duration": 466,
        "start_time": "2024-03-31T12:56:39.031Z"
      },
      {
        "duration": 155,
        "start_time": "2024-03-31T12:58:29.568Z"
      },
      {
        "duration": 508,
        "start_time": "2024-03-31T13:00:46.475Z"
      },
      {
        "duration": 339,
        "start_time": "2024-03-31T13:02:43.668Z"
      },
      {
        "duration": 575,
        "start_time": "2024-03-31T13:03:16.592Z"
      },
      {
        "duration": 464,
        "start_time": "2024-03-31T13:03:27.781Z"
      },
      {
        "duration": 527,
        "start_time": "2024-03-31T13:04:31.440Z"
      },
      {
        "duration": 280,
        "start_time": "2024-03-31T13:04:51.288Z"
      },
      {
        "duration": 269,
        "start_time": "2024-03-31T13:06:54.829Z"
      },
      {
        "duration": 620,
        "start_time": "2024-03-31T13:07:04.180Z"
      },
      {
        "duration": 515,
        "start_time": "2024-03-31T13:07:17.260Z"
      },
      {
        "duration": 532,
        "start_time": "2024-03-31T13:07:34.755Z"
      },
      {
        "duration": 368,
        "start_time": "2024-03-31T13:08:07.998Z"
      },
      {
        "duration": 361,
        "start_time": "2024-03-31T13:08:18.659Z"
      },
      {
        "duration": 474,
        "start_time": "2024-03-31T13:09:40.896Z"
      },
      {
        "duration": 370,
        "start_time": "2024-03-31T13:10:00.784Z"
      },
      {
        "duration": 348,
        "start_time": "2024-03-31T13:10:25.390Z"
      },
      {
        "duration": 323,
        "start_time": "2024-03-31T13:10:39.272Z"
      },
      {
        "duration": 249,
        "start_time": "2024-03-31T13:13:07.207Z"
      },
      {
        "duration": 422,
        "start_time": "2024-03-31T13:13:15.433Z"
      },
      {
        "duration": 288,
        "start_time": "2024-03-31T13:13:22.237Z"
      },
      {
        "duration": 296,
        "start_time": "2024-03-31T13:13:29.872Z"
      },
      {
        "duration": 289,
        "start_time": "2024-03-31T13:13:39.183Z"
      },
      {
        "duration": 308,
        "start_time": "2024-03-31T13:13:45.000Z"
      },
      {
        "duration": 280,
        "start_time": "2024-03-31T13:13:50.606Z"
      },
      {
        "duration": 456,
        "start_time": "2024-03-31T13:13:56.137Z"
      },
      {
        "duration": 275,
        "start_time": "2024-03-31T13:14:34.427Z"
      },
      {
        "duration": 252,
        "start_time": "2024-03-31T13:15:34.106Z"
      },
      {
        "duration": 258,
        "start_time": "2024-03-31T13:15:53.233Z"
      },
      {
        "duration": 292,
        "start_time": "2024-03-31T13:17:32.929Z"
      },
      {
        "duration": 418,
        "start_time": "2024-03-31T13:19:04.920Z"
      },
      {
        "duration": 303,
        "start_time": "2024-03-31T13:19:12.534Z"
      },
      {
        "duration": 299,
        "start_time": "2024-03-31T13:20:44.051Z"
      },
      {
        "duration": 325,
        "start_time": "2024-03-31T13:21:56.202Z"
      },
      {
        "duration": 325,
        "start_time": "2024-03-31T13:22:44.851Z"
      },
      {
        "duration": 318,
        "start_time": "2024-03-31T13:23:28.786Z"
      },
      {
        "duration": 477,
        "start_time": "2024-03-31T13:23:55.844Z"
      },
      {
        "duration": 1148,
        "start_time": "2024-03-31T13:24:07.381Z"
      },
      {
        "duration": 170,
        "start_time": "2024-03-31T13:24:08.530Z"
      },
      {
        "duration": 15,
        "start_time": "2024-03-31T13:24:08.702Z"
      },
      {
        "duration": 17,
        "start_time": "2024-03-31T13:24:08.720Z"
      },
      {
        "duration": 7,
        "start_time": "2024-03-31T13:24:08.738Z"
      },
      {
        "duration": 23,
        "start_time": "2024-03-31T13:24:08.746Z"
      },
      {
        "duration": 30,
        "start_time": "2024-03-31T13:24:08.771Z"
      },
      {
        "duration": 14,
        "start_time": "2024-03-31T13:24:08.804Z"
      },
      {
        "duration": 28,
        "start_time": "2024-03-31T13:24:08.820Z"
      },
      {
        "duration": 20,
        "start_time": "2024-03-31T13:24:08.850Z"
      },
      {
        "duration": 18,
        "start_time": "2024-03-31T13:24:08.871Z"
      },
      {
        "duration": 322,
        "start_time": "2024-03-31T13:24:08.891Z"
      },
      {
        "duration": 313,
        "start_time": "2024-03-31T13:24:09.214Z"
      },
      {
        "duration": 314,
        "start_time": "2024-03-31T13:24:09.529Z"
      },
      {
        "duration": 317,
        "start_time": "2024-03-31T13:24:09.845Z"
      },
      {
        "duration": 312,
        "start_time": "2024-03-31T13:24:10.163Z"
      },
      {
        "duration": 46,
        "start_time": "2024-03-31T13:24:10.477Z"
      },
      {
        "duration": 162,
        "start_time": "2024-03-31T13:24:10.525Z"
      },
      {
        "duration": 316,
        "start_time": "2024-03-31T13:24:10.693Z"
      },
      {
        "duration": 337,
        "start_time": "2024-03-31T13:24:11.010Z"
      },
      {
        "duration": 322,
        "start_time": "2024-03-31T13:24:11.349Z"
      },
      {
        "duration": 323,
        "start_time": "2024-03-31T13:24:11.673Z"
      },
      {
        "duration": 33,
        "start_time": "2024-03-31T13:24:11.997Z"
      },
      {
        "duration": 18,
        "start_time": "2024-03-31T13:24:12.032Z"
      },
      {
        "duration": 5,
        "start_time": "2024-03-31T13:24:12.052Z"
      },
      {
        "duration": 32,
        "start_time": "2024-03-31T13:24:12.058Z"
      },
      {
        "duration": 33,
        "start_time": "2024-03-31T13:24:12.096Z"
      },
      {
        "duration": 19,
        "start_time": "2024-03-31T13:24:12.133Z"
      },
      {
        "duration": 20,
        "start_time": "2024-03-31T13:24:12.153Z"
      },
      {
        "duration": 46,
        "start_time": "2024-03-31T13:24:12.175Z"
      },
      {
        "duration": 97,
        "start_time": "2024-03-31T13:27:59.775Z"
      },
      {
        "duration": 1228,
        "start_time": "2024-03-31T14:11:49.492Z"
      },
      {
        "duration": 195,
        "start_time": "2024-03-31T14:11:50.721Z"
      },
      {
        "duration": 22,
        "start_time": "2024-03-31T14:11:50.919Z"
      },
      {
        "duration": 20,
        "start_time": "2024-03-31T14:11:50.944Z"
      },
      {
        "duration": 12,
        "start_time": "2024-03-31T14:11:50.983Z"
      },
      {
        "duration": 8,
        "start_time": "2024-03-31T14:11:50.998Z"
      },
      {
        "duration": 11,
        "start_time": "2024-03-31T14:11:51.009Z"
      },
      {
        "duration": 11,
        "start_time": "2024-03-31T14:11:51.022Z"
      },
      {
        "duration": 12,
        "start_time": "2024-03-31T14:11:51.035Z"
      },
      {
        "duration": 39,
        "start_time": "2024-03-31T14:11:51.050Z"
      },
      {
        "duration": 15,
        "start_time": "2024-03-31T14:11:51.093Z"
      },
      {
        "duration": 319,
        "start_time": "2024-03-31T14:11:51.110Z"
      },
      {
        "duration": 355,
        "start_time": "2024-03-31T14:11:51.431Z"
      },
      {
        "duration": 321,
        "start_time": "2024-03-31T14:11:51.789Z"
      },
      {
        "duration": 334,
        "start_time": "2024-03-31T14:11:52.112Z"
      },
      {
        "duration": 384,
        "start_time": "2024-03-31T14:11:52.448Z"
      },
      {
        "duration": 53,
        "start_time": "2024-03-31T14:11:52.834Z"
      },
      {
        "duration": 142,
        "start_time": "2024-03-31T14:11:52.889Z"
      },
      {
        "duration": 353,
        "start_time": "2024-03-31T14:11:53.033Z"
      },
      {
        "duration": 337,
        "start_time": "2024-03-31T14:11:53.388Z"
      },
      {
        "duration": 320,
        "start_time": "2024-03-31T14:11:53.729Z"
      },
      {
        "duration": 309,
        "start_time": "2024-03-31T14:11:54.050Z"
      },
      {
        "duration": 48,
        "start_time": "2024-03-31T14:11:54.361Z"
      },
      {
        "duration": 20,
        "start_time": "2024-03-31T14:11:54.410Z"
      },
      {
        "duration": 5,
        "start_time": "2024-03-31T14:11:54.432Z"
      },
      {
        "duration": 8,
        "start_time": "2024-03-31T14:11:54.439Z"
      },
      {
        "duration": 35,
        "start_time": "2024-03-31T14:11:54.449Z"
      },
      {
        "duration": 6,
        "start_time": "2024-03-31T14:11:54.489Z"
      },
      {
        "duration": 19,
        "start_time": "2024-03-31T14:11:54.498Z"
      },
      {
        "duration": 14,
        "start_time": "2024-03-31T14:11:54.520Z"
      },
      {
        "duration": 4,
        "start_time": "2024-03-31T14:20:08.598Z"
      },
      {
        "duration": 4,
        "start_time": "2024-03-31T14:20:28.357Z"
      },
      {
        "duration": 116,
        "start_time": "2024-03-31T14:21:08.560Z"
      },
      {
        "duration": 289,
        "start_time": "2024-03-31T14:22:00.884Z"
      },
      {
        "duration": 13,
        "start_time": "2024-03-31T14:25:01.495Z"
      },
      {
        "duration": 10,
        "start_time": "2024-03-31T14:25:16.496Z"
      },
      {
        "duration": 1113,
        "start_time": "2024-03-31T14:25:53.646Z"
      },
      {
        "duration": 161,
        "start_time": "2024-03-31T14:25:54.761Z"
      },
      {
        "duration": 14,
        "start_time": "2024-03-31T14:25:54.923Z"
      },
      {
        "duration": 14,
        "start_time": "2024-03-31T14:25:54.939Z"
      },
      {
        "duration": 8,
        "start_time": "2024-03-31T14:25:54.955Z"
      },
      {
        "duration": 21,
        "start_time": "2024-03-31T14:25:54.965Z"
      },
      {
        "duration": 9,
        "start_time": "2024-03-31T14:25:54.987Z"
      },
      {
        "duration": 8,
        "start_time": "2024-03-31T14:25:54.997Z"
      },
      {
        "duration": 7,
        "start_time": "2024-03-31T14:25:55.006Z"
      },
      {
        "duration": 10,
        "start_time": "2024-03-31T14:25:55.015Z"
      },
      {
        "duration": 11,
        "start_time": "2024-03-31T14:25:55.026Z"
      },
      {
        "duration": 308,
        "start_time": "2024-03-31T14:25:55.039Z"
      },
      {
        "duration": 101,
        "start_time": "2024-03-31T14:25:55.349Z"
      },
      {
        "duration": 0,
        "start_time": "2024-03-31T14:25:55.452Z"
      },
      {
        "duration": 0,
        "start_time": "2024-03-31T14:25:55.453Z"
      },
      {
        "duration": 0,
        "start_time": "2024-03-31T14:25:55.454Z"
      },
      {
        "duration": 0,
        "start_time": "2024-03-31T14:25:55.455Z"
      },
      {
        "duration": 0,
        "start_time": "2024-03-31T14:25:55.457Z"
      },
      {
        "duration": 0,
        "start_time": "2024-03-31T14:25:55.458Z"
      },
      {
        "duration": 0,
        "start_time": "2024-03-31T14:25:55.459Z"
      },
      {
        "duration": 0,
        "start_time": "2024-03-31T14:25:55.460Z"
      },
      {
        "duration": 0,
        "start_time": "2024-03-31T14:25:55.460Z"
      },
      {
        "duration": 0,
        "start_time": "2024-03-31T14:25:55.482Z"
      },
      {
        "duration": 0,
        "start_time": "2024-03-31T14:25:55.483Z"
      },
      {
        "duration": 0,
        "start_time": "2024-03-31T14:25:55.485Z"
      },
      {
        "duration": 0,
        "start_time": "2024-03-31T14:25:55.486Z"
      },
      {
        "duration": 0,
        "start_time": "2024-03-31T14:25:55.487Z"
      },
      {
        "duration": 0,
        "start_time": "2024-03-31T14:25:55.489Z"
      },
      {
        "duration": 0,
        "start_time": "2024-03-31T14:25:55.490Z"
      },
      {
        "duration": 0,
        "start_time": "2024-03-31T14:25:55.491Z"
      },
      {
        "duration": 0,
        "start_time": "2024-03-31T14:25:55.492Z"
      },
      {
        "duration": 277,
        "start_time": "2024-03-31T14:27:58.304Z"
      },
      {
        "duration": 26,
        "start_time": "2024-03-31T14:28:31.116Z"
      },
      {
        "duration": 89,
        "start_time": "2024-03-31T14:29:00.890Z"
      },
      {
        "duration": 90,
        "start_time": "2024-03-31T14:29:16.447Z"
      },
      {
        "duration": 323,
        "start_time": "2024-03-31T14:33:05.355Z"
      },
      {
        "duration": 92,
        "start_time": "2024-03-31T14:33:31.233Z"
      },
      {
        "duration": 93,
        "start_time": "2024-03-31T14:33:35.805Z"
      },
      {
        "duration": 314,
        "start_time": "2024-03-31T14:33:43.171Z"
      },
      {
        "duration": 303,
        "start_time": "2024-03-31T14:35:57.637Z"
      },
      {
        "duration": 294,
        "start_time": "2024-03-31T14:36:28.561Z"
      },
      {
        "duration": 1224,
        "start_time": "2024-03-31T14:45:41.023Z"
      },
      {
        "duration": 101,
        "start_time": "2024-03-31T14:45:42.249Z"
      },
      {
        "duration": 16,
        "start_time": "2024-03-31T14:45:42.352Z"
      },
      {
        "duration": 13,
        "start_time": "2024-03-31T14:45:42.370Z"
      },
      {
        "duration": 7,
        "start_time": "2024-03-31T14:45:42.385Z"
      },
      {
        "duration": 26,
        "start_time": "2024-03-31T14:45:42.393Z"
      },
      {
        "duration": 11,
        "start_time": "2024-03-31T14:45:42.421Z"
      },
      {
        "duration": 26,
        "start_time": "2024-03-31T14:45:42.433Z"
      },
      {
        "duration": 8,
        "start_time": "2024-03-31T14:45:42.460Z"
      },
      {
        "duration": 12,
        "start_time": "2024-03-31T14:45:42.470Z"
      },
      {
        "duration": 32,
        "start_time": "2024-03-31T14:45:42.484Z"
      },
      {
        "duration": 302,
        "start_time": "2024-03-31T14:45:42.518Z"
      },
      {
        "duration": 299,
        "start_time": "2024-03-31T14:45:42.821Z"
      },
      {
        "duration": 255,
        "start_time": "2024-03-31T14:45:43.121Z"
      },
      {
        "duration": 286,
        "start_time": "2024-03-31T14:45:43.380Z"
      },
      {
        "duration": 304,
        "start_time": "2024-03-31T14:45:43.668Z"
      },
      {
        "duration": 401,
        "start_time": "2024-03-31T14:45:43.974Z"
      },
      {
        "duration": 38,
        "start_time": "2024-03-31T14:45:44.377Z"
      },
      {
        "duration": 28,
        "start_time": "2024-03-31T14:45:44.417Z"
      },
      {
        "duration": 346,
        "start_time": "2024-03-31T14:45:44.446Z"
      },
      {
        "duration": 303,
        "start_time": "2024-03-31T14:45:44.794Z"
      },
      {
        "duration": 296,
        "start_time": "2024-03-31T14:45:45.099Z"
      },
      {
        "duration": 346,
        "start_time": "2024-03-31T14:45:45.398Z"
      },
      {
        "duration": 45,
        "start_time": "2024-03-31T14:45:45.746Z"
      },
      {
        "duration": 23,
        "start_time": "2024-03-31T14:45:45.793Z"
      },
      {
        "duration": 6,
        "start_time": "2024-03-31T14:45:45.818Z"
      },
      {
        "duration": 5,
        "start_time": "2024-03-31T14:45:45.826Z"
      },
      {
        "duration": 9,
        "start_time": "2024-03-31T14:45:45.835Z"
      },
      {
        "duration": 4,
        "start_time": "2024-03-31T14:45:45.845Z"
      },
      {
        "duration": 14,
        "start_time": "2024-03-31T14:45:45.851Z"
      },
      {
        "duration": 19,
        "start_time": "2024-03-31T14:45:45.867Z"
      },
      {
        "duration": 462,
        "start_time": "2024-03-31T14:49:08.606Z"
      },
      {
        "duration": 437,
        "start_time": "2024-03-31T14:49:19.306Z"
      },
      {
        "duration": 312,
        "start_time": "2024-03-31T14:52:35.613Z"
      },
      {
        "duration": 295,
        "start_time": "2024-03-31T14:52:55.668Z"
      },
      {
        "duration": 16,
        "start_time": "2024-03-31T14:53:13.090Z"
      },
      {
        "duration": 311,
        "start_time": "2024-03-31T14:53:22.407Z"
      },
      {
        "duration": 12,
        "start_time": "2024-03-31T14:53:46.331Z"
      },
      {
        "duration": 10,
        "start_time": "2024-03-31T14:53:57.666Z"
      },
      {
        "duration": 312,
        "start_time": "2024-03-31T14:54:07.474Z"
      },
      {
        "duration": 323,
        "start_time": "2024-03-31T14:54:27.207Z"
      },
      {
        "duration": 314,
        "start_time": "2024-03-31T14:54:37.615Z"
      },
      {
        "duration": 280,
        "start_time": "2024-03-31T14:54:44.622Z"
      },
      {
        "duration": 311,
        "start_time": "2024-03-31T14:54:53.845Z"
      },
      {
        "duration": 300,
        "start_time": "2024-03-31T14:55:09.908Z"
      },
      {
        "duration": 310,
        "start_time": "2024-03-31T14:55:18.359Z"
      },
      {
        "duration": 427,
        "start_time": "2024-03-31T14:55:31.211Z"
      },
      {
        "duration": 299,
        "start_time": "2024-03-31T14:55:38.877Z"
      },
      {
        "duration": 1534,
        "start_time": "2024-03-31T14:57:26.693Z"
      },
      {
        "duration": 320,
        "start_time": "2024-03-31T14:57:46.523Z"
      },
      {
        "duration": 9,
        "start_time": "2024-03-31T15:02:32.605Z"
      },
      {
        "duration": 18,
        "start_time": "2024-03-31T15:03:46.316Z"
      },
      {
        "duration": 53,
        "start_time": "2024-03-31T15:04:22.206Z"
      },
      {
        "duration": 1865,
        "start_time": "2024-03-31T15:15:45.043Z"
      },
      {
        "duration": 1639,
        "start_time": "2024-03-31T15:16:02.600Z"
      },
      {
        "duration": 302,
        "start_time": "2024-03-31T15:16:17.605Z"
      },
      {
        "duration": 10,
        "start_time": "2024-03-31T15:19:32.467Z"
      },
      {
        "duration": 1258,
        "start_time": "2024-03-31T15:21:25.380Z"
      },
      {
        "duration": 105,
        "start_time": "2024-03-31T15:21:26.640Z"
      },
      {
        "duration": 16,
        "start_time": "2024-03-31T15:21:26.747Z"
      },
      {
        "duration": 19,
        "start_time": "2024-03-31T15:21:26.765Z"
      },
      {
        "duration": 8,
        "start_time": "2024-03-31T15:21:26.785Z"
      },
      {
        "duration": 7,
        "start_time": "2024-03-31T15:21:26.795Z"
      },
      {
        "duration": 8,
        "start_time": "2024-03-31T15:21:26.804Z"
      },
      {
        "duration": 6,
        "start_time": "2024-03-31T15:21:26.813Z"
      },
      {
        "duration": 8,
        "start_time": "2024-03-31T15:21:26.821Z"
      },
      {
        "duration": 8,
        "start_time": "2024-03-31T15:21:26.832Z"
      },
      {
        "duration": 44,
        "start_time": "2024-03-31T15:21:26.841Z"
      },
      {
        "duration": 23,
        "start_time": "2024-03-31T15:21:26.886Z"
      },
      {
        "duration": 310,
        "start_time": "2024-03-31T15:21:26.911Z"
      },
      {
        "duration": 309,
        "start_time": "2024-03-31T15:21:27.222Z"
      },
      {
        "duration": 10,
        "start_time": "2024-03-31T15:21:27.533Z"
      },
      {
        "duration": 80,
        "start_time": "2024-03-31T15:21:27.545Z"
      },
      {
        "duration": 290,
        "start_time": "2024-03-31T15:21:27.627Z"
      },
      {
        "duration": 298,
        "start_time": "2024-03-31T15:21:27.919Z"
      },
      {
        "duration": 293,
        "start_time": "2024-03-31T15:21:28.219Z"
      },
      {
        "duration": 399,
        "start_time": "2024-03-31T15:21:28.514Z"
      },
      {
        "duration": 39,
        "start_time": "2024-03-31T15:21:28.915Z"
      },
      {
        "duration": 55,
        "start_time": "2024-03-31T15:21:28.956Z"
      },
      {
        "duration": 325,
        "start_time": "2024-03-31T15:21:29.013Z"
      },
      {
        "duration": 317,
        "start_time": "2024-03-31T15:21:29.339Z"
      },
      {
        "duration": 339,
        "start_time": "2024-03-31T15:21:29.658Z"
      },
      {
        "duration": 331,
        "start_time": "2024-03-31T15:21:29.999Z"
      },
      {
        "duration": 34,
        "start_time": "2024-03-31T15:21:30.332Z"
      },
      {
        "duration": 19,
        "start_time": "2024-03-31T15:21:30.383Z"
      },
      {
        "duration": 21,
        "start_time": "2024-03-31T15:21:30.404Z"
      },
      {
        "duration": 37,
        "start_time": "2024-03-31T15:21:30.427Z"
      },
      {
        "duration": 42,
        "start_time": "2024-03-31T15:21:30.466Z"
      },
      {
        "duration": 35,
        "start_time": "2024-03-31T15:21:30.510Z"
      },
      {
        "duration": 39,
        "start_time": "2024-03-31T15:21:30.546Z"
      },
      {
        "duration": 32,
        "start_time": "2024-03-31T15:21:30.586Z"
      },
      {
        "duration": 276,
        "start_time": "2024-03-31T15:22:27.709Z"
      },
      {
        "duration": 375,
        "start_time": "2024-03-31T15:22:44.299Z"
      },
      {
        "duration": 11,
        "start_time": "2024-03-31T15:29:58.294Z"
      },
      {
        "duration": 19,
        "start_time": "2024-03-31T15:30:18.689Z"
      },
      {
        "duration": 250,
        "start_time": "2024-03-31T15:30:59.886Z"
      },
      {
        "duration": 258,
        "start_time": "2024-03-31T15:31:36.182Z"
      },
      {
        "duration": 26,
        "start_time": "2024-03-31T15:33:12.651Z"
      },
      {
        "duration": 9,
        "start_time": "2024-03-31T15:33:36.812Z"
      },
      {
        "duration": 18,
        "start_time": "2024-03-31T15:42:26.892Z"
      },
      {
        "duration": 23,
        "start_time": "2024-03-31T15:43:17.562Z"
      },
      {
        "duration": 5,
        "start_time": "2024-03-31T15:45:21.045Z"
      },
      {
        "duration": 1323,
        "start_time": "2024-03-31T15:51:45.570Z"
      },
      {
        "duration": 112,
        "start_time": "2024-03-31T15:51:46.895Z"
      },
      {
        "duration": 15,
        "start_time": "2024-03-31T15:51:47.008Z"
      },
      {
        "duration": 16,
        "start_time": "2024-03-31T15:51:47.025Z"
      },
      {
        "duration": 6,
        "start_time": "2024-03-31T15:51:47.043Z"
      },
      {
        "duration": 17,
        "start_time": "2024-03-31T15:51:47.051Z"
      },
      {
        "duration": 11,
        "start_time": "2024-03-31T15:51:47.082Z"
      },
      {
        "duration": 8,
        "start_time": "2024-03-31T15:51:47.095Z"
      },
      {
        "duration": 35,
        "start_time": "2024-03-31T15:51:47.106Z"
      },
      {
        "duration": 9,
        "start_time": "2024-03-31T15:51:47.144Z"
      },
      {
        "duration": 10,
        "start_time": "2024-03-31T15:51:47.155Z"
      },
      {
        "duration": 302,
        "start_time": "2024-03-31T15:51:47.166Z"
      },
      {
        "duration": 6,
        "start_time": "2024-03-31T15:51:47.469Z"
      },
      {
        "duration": 299,
        "start_time": "2024-03-31T15:51:47.476Z"
      },
      {
        "duration": 335,
        "start_time": "2024-03-31T15:51:47.780Z"
      },
      {
        "duration": 316,
        "start_time": "2024-03-31T15:51:48.117Z"
      },
      {
        "duration": 334,
        "start_time": "2024-03-31T15:51:48.435Z"
      },
      {
        "duration": 421,
        "start_time": "2024-03-31T15:51:48.771Z"
      },
      {
        "duration": 41,
        "start_time": "2024-03-31T15:51:49.194Z"
      },
      {
        "duration": 44,
        "start_time": "2024-03-31T15:51:49.237Z"
      },
      {
        "duration": 317,
        "start_time": "2024-03-31T15:51:49.283Z"
      },
      {
        "duration": 303,
        "start_time": "2024-03-31T15:51:49.602Z"
      },
      {
        "duration": 311,
        "start_time": "2024-03-31T15:51:49.907Z"
      },
      {
        "duration": 315,
        "start_time": "2024-03-31T15:51:50.220Z"
      },
      {
        "duration": 44,
        "start_time": "2024-03-31T15:51:50.537Z"
      },
      {
        "duration": 20,
        "start_time": "2024-03-31T15:51:50.584Z"
      },
      {
        "duration": 5,
        "start_time": "2024-03-31T15:51:50.606Z"
      },
      {
        "duration": 18,
        "start_time": "2024-03-31T15:51:50.615Z"
      },
      {
        "duration": 24,
        "start_time": "2024-03-31T15:51:50.635Z"
      },
      {
        "duration": 6,
        "start_time": "2024-03-31T15:51:50.661Z"
      },
      {
        "duration": 24,
        "start_time": "2024-03-31T15:51:50.669Z"
      },
      {
        "duration": 12,
        "start_time": "2024-03-31T15:51:50.699Z"
      },
      {
        "duration": 4,
        "start_time": "2024-03-31T15:55:51.206Z"
      },
      {
        "duration": 6,
        "start_time": "2024-03-31T15:56:05.871Z"
      },
      {
        "duration": 21,
        "start_time": "2024-03-31T15:56:41.889Z"
      },
      {
        "duration": 6,
        "start_time": "2024-03-31T15:57:28.624Z"
      },
      {
        "duration": 5,
        "start_time": "2024-03-31T15:58:31.444Z"
      },
      {
        "duration": 10,
        "start_time": "2024-03-31T16:00:38.133Z"
      },
      {
        "duration": 4,
        "start_time": "2024-03-31T16:00:52.753Z"
      },
      {
        "duration": 11,
        "start_time": "2024-03-31T16:01:12.433Z"
      },
      {
        "duration": 109,
        "start_time": "2024-03-31T16:01:28.464Z"
      },
      {
        "duration": 4,
        "start_time": "2024-03-31T16:02:12.949Z"
      },
      {
        "duration": 4,
        "start_time": "2024-03-31T16:05:31.207Z"
      },
      {
        "duration": 8,
        "start_time": "2024-03-31T16:05:41.475Z"
      },
      {
        "duration": 7,
        "start_time": "2024-03-31T16:06:29.343Z"
      },
      {
        "duration": 3,
        "start_time": "2024-03-31T16:06:33.737Z"
      },
      {
        "duration": 8,
        "start_time": "2024-03-31T16:07:23.328Z"
      },
      {
        "duration": 8,
        "start_time": "2024-03-31T16:07:30.805Z"
      },
      {
        "duration": 9,
        "start_time": "2024-03-31T16:07:54.670Z"
      },
      {
        "duration": 9,
        "start_time": "2024-03-31T16:14:55.480Z"
      },
      {
        "duration": 208,
        "start_time": "2024-03-31T16:16:00.103Z"
      },
      {
        "duration": 302,
        "start_time": "2024-03-31T16:17:17.738Z"
      },
      {
        "duration": 576,
        "start_time": "2024-03-31T16:18:02.045Z"
      },
      {
        "duration": 92,
        "start_time": "2024-03-31T16:21:05.765Z"
      },
      {
        "duration": 362,
        "start_time": "2024-03-31T16:21:15.440Z"
      },
      {
        "duration": 2000,
        "start_time": "2024-03-31T16:21:45.047Z"
      },
      {
        "duration": 185,
        "start_time": "2024-03-31T16:26:05.803Z"
      },
      {
        "duration": 1209,
        "start_time": "2024-03-31T16:26:11.461Z"
      },
      {
        "duration": 103,
        "start_time": "2024-03-31T16:26:12.672Z"
      },
      {
        "duration": 14,
        "start_time": "2024-03-31T16:26:12.776Z"
      },
      {
        "duration": 16,
        "start_time": "2024-03-31T16:26:12.792Z"
      },
      {
        "duration": 6,
        "start_time": "2024-03-31T16:26:12.809Z"
      },
      {
        "duration": 11,
        "start_time": "2024-03-31T16:26:12.817Z"
      },
      {
        "duration": 11,
        "start_time": "2024-03-31T16:26:12.830Z"
      },
      {
        "duration": 7,
        "start_time": "2024-03-31T16:26:12.842Z"
      },
      {
        "duration": 37,
        "start_time": "2024-03-31T16:26:12.850Z"
      },
      {
        "duration": 9,
        "start_time": "2024-03-31T16:26:12.889Z"
      },
      {
        "duration": 7,
        "start_time": "2024-03-31T16:26:12.900Z"
      },
      {
        "duration": 314,
        "start_time": "2024-03-31T16:26:12.909Z"
      },
      {
        "duration": 8,
        "start_time": "2024-03-31T16:26:13.225Z"
      },
      {
        "duration": 261,
        "start_time": "2024-03-31T16:26:13.234Z"
      },
      {
        "duration": 7,
        "start_time": "2024-03-31T16:26:13.497Z"
      },
      {
        "duration": 207,
        "start_time": "2024-03-31T16:26:13.505Z"
      },
      {
        "duration": 284,
        "start_time": "2024-03-31T16:26:13.713Z"
      },
      {
        "duration": 288,
        "start_time": "2024-03-31T16:26:13.998Z"
      },
      {
        "duration": 363,
        "start_time": "2024-03-31T16:26:14.288Z"
      },
      {
        "duration": 46,
        "start_time": "2024-03-31T16:26:14.653Z"
      },
      {
        "duration": 25,
        "start_time": "2024-03-31T16:26:14.701Z"
      },
      {
        "duration": 301,
        "start_time": "2024-03-31T16:26:14.727Z"
      },
      {
        "duration": 303,
        "start_time": "2024-03-31T16:26:15.029Z"
      },
      {
        "duration": 291,
        "start_time": "2024-03-31T16:26:15.333Z"
      },
      {
        "duration": 306,
        "start_time": "2024-03-31T16:26:15.626Z"
      },
      {
        "duration": 35,
        "start_time": "2024-03-31T16:26:15.934Z"
      },
      {
        "duration": 18,
        "start_time": "2024-03-31T16:26:15.982Z"
      },
      {
        "duration": 6,
        "start_time": "2024-03-31T16:26:16.004Z"
      },
      {
        "duration": 27,
        "start_time": "2024-03-31T16:26:16.011Z"
      },
      {
        "duration": 18,
        "start_time": "2024-03-31T16:26:16.040Z"
      },
      {
        "duration": 8,
        "start_time": "2024-03-31T16:26:16.059Z"
      },
      {
        "duration": 19,
        "start_time": "2024-03-31T16:26:16.069Z"
      },
      {
        "duration": 23,
        "start_time": "2024-03-31T16:26:16.089Z"
      },
      {
        "duration": 106,
        "start_time": "2024-03-31T16:28:40.466Z"
      },
      {
        "duration": 4,
        "start_time": "2024-03-31T16:28:59.669Z"
      },
      {
        "duration": 8,
        "start_time": "2024-03-31T16:29:09.979Z"
      },
      {
        "duration": 9,
        "start_time": "2024-03-31T16:29:12.319Z"
      },
      {
        "duration": 9,
        "start_time": "2024-03-31T16:29:22.798Z"
      },
      {
        "duration": 18,
        "start_time": "2024-03-31T16:30:47.703Z"
      },
      {
        "duration": 15,
        "start_time": "2024-03-31T16:31:12.133Z"
      },
      {
        "duration": 16,
        "start_time": "2024-03-31T16:31:20.179Z"
      },
      {
        "duration": 10,
        "start_time": "2024-03-31T16:31:39.883Z"
      },
      {
        "duration": 18,
        "start_time": "2024-03-31T16:32:34.127Z"
      },
      {
        "duration": 8,
        "start_time": "2024-03-31T16:34:25.751Z"
      },
      {
        "duration": 10,
        "start_time": "2024-03-31T16:34:52.698Z"
      },
      {
        "duration": 9,
        "start_time": "2024-03-31T16:36:08.696Z"
      },
      {
        "duration": 7,
        "start_time": "2024-03-31T16:36:13.801Z"
      },
      {
        "duration": 65,
        "start_time": "2024-03-31T16:36:27.973Z"
      },
      {
        "duration": 152,
        "start_time": "2024-03-31T16:37:02.277Z"
      },
      {
        "duration": 1173,
        "start_time": "2024-03-31T16:37:17.440Z"
      },
      {
        "duration": 98,
        "start_time": "2024-03-31T16:37:18.615Z"
      },
      {
        "duration": 16,
        "start_time": "2024-03-31T16:37:18.715Z"
      },
      {
        "duration": 14,
        "start_time": "2024-03-31T16:37:18.733Z"
      },
      {
        "duration": 6,
        "start_time": "2024-03-31T16:37:18.749Z"
      },
      {
        "duration": 6,
        "start_time": "2024-03-31T16:37:18.780Z"
      },
      {
        "duration": 9,
        "start_time": "2024-03-31T16:37:18.788Z"
      },
      {
        "duration": 6,
        "start_time": "2024-03-31T16:37:18.799Z"
      },
      {
        "duration": 8,
        "start_time": "2024-03-31T16:37:18.807Z"
      },
      {
        "duration": 8,
        "start_time": "2024-03-31T16:37:18.818Z"
      },
      {
        "duration": 8,
        "start_time": "2024-03-31T16:37:18.828Z"
      },
      {
        "duration": 301,
        "start_time": "2024-03-31T16:37:18.880Z"
      },
      {
        "duration": 8,
        "start_time": "2024-03-31T16:37:19.183Z"
      },
      {
        "duration": 253,
        "start_time": "2024-03-31T16:37:19.192Z"
      },
      {
        "duration": 8,
        "start_time": "2024-03-31T16:37:19.447Z"
      },
      {
        "duration": 17,
        "start_time": "2024-03-31T16:37:19.456Z"
      },
      {
        "duration": 18,
        "start_time": "2024-03-31T16:37:19.480Z"
      },
      {
        "duration": 58,
        "start_time": "2024-03-31T16:37:19.500Z"
      },
      {
        "duration": 34,
        "start_time": "2024-03-31T16:37:19.559Z"
      },
      {
        "duration": 208,
        "start_time": "2024-03-31T16:37:19.595Z"
      },
      {
        "duration": 274,
        "start_time": "2024-03-31T16:37:19.805Z"
      },
      {
        "duration": 377,
        "start_time": "2024-03-31T16:37:20.081Z"
      },
      {
        "duration": 279,
        "start_time": "2024-03-31T16:37:20.460Z"
      },
      {
        "duration": 47,
        "start_time": "2024-03-31T16:37:20.741Z"
      },
      {
        "duration": 27,
        "start_time": "2024-03-31T16:37:20.790Z"
      },
      {
        "duration": 300,
        "start_time": "2024-03-31T16:37:20.818Z"
      },
      {
        "duration": 278,
        "start_time": "2024-03-31T16:37:21.120Z"
      },
      {
        "duration": 309,
        "start_time": "2024-03-31T16:37:21.402Z"
      },
      {
        "duration": 290,
        "start_time": "2024-03-31T16:37:21.713Z"
      },
      {
        "duration": 136,
        "start_time": "2024-03-31T16:37:22.005Z"
      },
      {
        "duration": 17,
        "start_time": "2024-03-31T16:37:22.144Z"
      },
      {
        "duration": 22,
        "start_time": "2024-03-31T16:37:22.163Z"
      },
      {
        "duration": 17,
        "start_time": "2024-03-31T16:37:22.187Z"
      },
      {
        "duration": 41,
        "start_time": "2024-03-31T16:37:22.206Z"
      },
      {
        "duration": 13,
        "start_time": "2024-03-31T16:37:22.248Z"
      },
      {
        "duration": 21,
        "start_time": "2024-03-31T16:37:22.263Z"
      },
      {
        "duration": 12,
        "start_time": "2024-03-31T16:37:22.286Z"
      },
      {
        "duration": 57,
        "start_time": "2024-03-31T16:37:41.312Z"
      },
      {
        "duration": 119,
        "start_time": "2024-03-31T16:38:00.178Z"
      },
      {
        "duration": 221,
        "start_time": "2024-03-31T16:39:29.018Z"
      },
      {
        "duration": 304,
        "start_time": "2024-03-31T16:41:04.845Z"
      },
      {
        "duration": 12,
        "start_time": "2024-03-31T16:43:04.555Z"
      },
      {
        "duration": 245,
        "start_time": "2024-03-31T16:43:48.764Z"
      },
      {
        "duration": 1191,
        "start_time": "2024-03-31T16:44:09.173Z"
      },
      {
        "duration": 101,
        "start_time": "2024-03-31T16:44:10.365Z"
      },
      {
        "duration": 13,
        "start_time": "2024-03-31T16:44:10.468Z"
      },
      {
        "duration": 13,
        "start_time": "2024-03-31T16:44:10.483Z"
      },
      {
        "duration": 6,
        "start_time": "2024-03-31T16:44:10.497Z"
      },
      {
        "duration": 12,
        "start_time": "2024-03-31T16:44:10.505Z"
      },
      {
        "duration": 12,
        "start_time": "2024-03-31T16:44:10.518Z"
      },
      {
        "duration": 6,
        "start_time": "2024-03-31T16:44:10.531Z"
      },
      {
        "duration": 6,
        "start_time": "2024-03-31T16:44:10.538Z"
      },
      {
        "duration": 36,
        "start_time": "2024-03-31T16:44:10.546Z"
      },
      {
        "duration": 7,
        "start_time": "2024-03-31T16:44:10.583Z"
      },
      {
        "duration": 293,
        "start_time": "2024-03-31T16:44:10.591Z"
      },
      {
        "duration": 8,
        "start_time": "2024-03-31T16:44:10.886Z"
      },
      {
        "duration": 272,
        "start_time": "2024-03-31T16:44:10.895Z"
      },
      {
        "duration": 14,
        "start_time": "2024-03-31T16:44:11.168Z"
      },
      {
        "duration": 11,
        "start_time": "2024-03-31T16:44:11.183Z"
      },
      {
        "duration": 20,
        "start_time": "2024-03-31T16:44:11.196Z"
      },
      {
        "duration": 110,
        "start_time": "2024-03-31T16:44:11.218Z"
      },
      {
        "duration": 10,
        "start_time": "2024-03-31T16:44:11.329Z"
      },
      {
        "duration": 202,
        "start_time": "2024-03-31T16:44:11.341Z"
      },
      {
        "duration": 290,
        "start_time": "2024-03-31T16:44:11.545Z"
      },
      {
        "duration": 367,
        "start_time": "2024-03-31T16:44:11.837Z"
      },
      {
        "duration": 298,
        "start_time": "2024-03-31T16:44:12.205Z"
      },
      {
        "duration": 42,
        "start_time": "2024-03-31T16:44:12.505Z"
      },
      {
        "duration": 45,
        "start_time": "2024-03-31T16:44:12.548Z"
      },
      {
        "duration": 308,
        "start_time": "2024-03-31T16:44:12.595Z"
      },
      {
        "duration": 283,
        "start_time": "2024-03-31T16:44:12.904Z"
      },
      {
        "duration": 269,
        "start_time": "2024-03-31T16:44:13.190Z"
      },
      {
        "duration": 296,
        "start_time": "2024-03-31T16:44:13.460Z"
      },
      {
        "duration": 133,
        "start_time": "2024-03-31T16:44:13.757Z"
      },
      {
        "duration": 17,
        "start_time": "2024-03-31T16:44:13.891Z"
      },
      {
        "duration": 5,
        "start_time": "2024-03-31T16:44:13.910Z"
      },
      {
        "duration": 30,
        "start_time": "2024-03-31T16:44:13.917Z"
      },
      {
        "duration": 9,
        "start_time": "2024-03-31T16:44:13.948Z"
      },
      {
        "duration": 6,
        "start_time": "2024-03-31T16:44:13.959Z"
      },
      {
        "duration": 20,
        "start_time": "2024-03-31T16:44:13.966Z"
      },
      {
        "duration": 9,
        "start_time": "2024-03-31T16:44:13.988Z"
      },
      {
        "duration": 101,
        "start_time": "2024-03-31T16:46:23.705Z"
      },
      {
        "duration": 9,
        "start_time": "2024-03-31T16:51:01.833Z"
      },
      {
        "duration": 20,
        "start_time": "2024-03-31T16:54:29.422Z"
      },
      {
        "duration": 19,
        "start_time": "2024-03-31T16:54:48.043Z"
      },
      {
        "duration": 14,
        "start_time": "2024-03-31T16:55:39.419Z"
      },
      {
        "duration": 95,
        "start_time": "2024-03-31T16:55:42.635Z"
      },
      {
        "duration": 100,
        "start_time": "2024-03-31T16:55:54.981Z"
      },
      {
        "duration": 100,
        "start_time": "2024-03-31T16:56:05.952Z"
      },
      {
        "duration": 94,
        "start_time": "2024-03-31T16:56:14.130Z"
      },
      {
        "duration": 94,
        "start_time": "2024-03-31T16:58:25.413Z"
      },
      {
        "duration": 92,
        "start_time": "2024-03-31T16:58:38.297Z"
      },
      {
        "duration": 102,
        "start_time": "2024-03-31T16:58:44.338Z"
      },
      {
        "duration": 100,
        "start_time": "2024-03-31T16:58:53.597Z"
      },
      {
        "duration": 7,
        "start_time": "2024-03-31T16:59:25.729Z"
      },
      {
        "duration": 8,
        "start_time": "2024-03-31T16:59:29.136Z"
      },
      {
        "duration": 8,
        "start_time": "2024-03-31T16:59:35.397Z"
      },
      {
        "duration": 1271,
        "start_time": "2024-03-31T16:59:51.896Z"
      },
      {
        "duration": 101,
        "start_time": "2024-03-31T16:59:53.168Z"
      },
      {
        "duration": 14,
        "start_time": "2024-03-31T16:59:53.271Z"
      },
      {
        "duration": 42,
        "start_time": "2024-03-31T16:59:53.287Z"
      },
      {
        "duration": 22,
        "start_time": "2024-03-31T16:59:53.331Z"
      },
      {
        "duration": 15,
        "start_time": "2024-03-31T16:59:53.355Z"
      },
      {
        "duration": 8,
        "start_time": "2024-03-31T16:59:53.372Z"
      },
      {
        "duration": 11,
        "start_time": "2024-03-31T16:59:53.382Z"
      },
      {
        "duration": 23,
        "start_time": "2024-03-31T16:59:53.395Z"
      },
      {
        "duration": 31,
        "start_time": "2024-03-31T16:59:53.420Z"
      },
      {
        "duration": 8,
        "start_time": "2024-03-31T16:59:53.453Z"
      },
      {
        "duration": 316,
        "start_time": "2024-03-31T16:59:53.463Z"
      },
      {
        "duration": 9,
        "start_time": "2024-03-31T16:59:53.780Z"
      },
      {
        "duration": 265,
        "start_time": "2024-03-31T16:59:53.790Z"
      },
      {
        "duration": 9,
        "start_time": "2024-03-31T16:59:54.056Z"
      },
      {
        "duration": 15,
        "start_time": "2024-03-31T16:59:54.081Z"
      },
      {
        "duration": 117,
        "start_time": "2024-03-31T16:59:54.098Z"
      },
      {
        "duration": 106,
        "start_time": "2024-03-31T16:59:54.217Z"
      },
      {
        "duration": 0,
        "start_time": "2024-03-31T16:59:54.325Z"
      },
      {
        "duration": 0,
        "start_time": "2024-03-31T16:59:54.327Z"
      },
      {
        "duration": 0,
        "start_time": "2024-03-31T16:59:54.328Z"
      },
      {
        "duration": 0,
        "start_time": "2024-03-31T16:59:54.329Z"
      },
      {
        "duration": 0,
        "start_time": "2024-03-31T16:59:54.330Z"
      },
      {
        "duration": 0,
        "start_time": "2024-03-31T16:59:54.331Z"
      },
      {
        "duration": 0,
        "start_time": "2024-03-31T16:59:54.332Z"
      },
      {
        "duration": 0,
        "start_time": "2024-03-31T16:59:54.334Z"
      },
      {
        "duration": 0,
        "start_time": "2024-03-31T16:59:54.335Z"
      },
      {
        "duration": 0,
        "start_time": "2024-03-31T16:59:54.336Z"
      },
      {
        "duration": 0,
        "start_time": "2024-03-31T16:59:54.337Z"
      },
      {
        "duration": 0,
        "start_time": "2024-03-31T16:59:54.338Z"
      },
      {
        "duration": 0,
        "start_time": "2024-03-31T16:59:54.339Z"
      },
      {
        "duration": 0,
        "start_time": "2024-03-31T16:59:54.340Z"
      },
      {
        "duration": 0,
        "start_time": "2024-03-31T16:59:54.341Z"
      },
      {
        "duration": 0,
        "start_time": "2024-03-31T16:59:54.342Z"
      },
      {
        "duration": 0,
        "start_time": "2024-03-31T16:59:54.343Z"
      },
      {
        "duration": 0,
        "start_time": "2024-03-31T16:59:54.345Z"
      },
      {
        "duration": 120,
        "start_time": "2024-03-31T17:03:32.402Z"
      },
      {
        "duration": 92,
        "start_time": "2024-03-31T17:04:09.357Z"
      },
      {
        "duration": 120,
        "start_time": "2024-03-31T17:04:17.066Z"
      },
      {
        "duration": 119,
        "start_time": "2024-03-31T17:05:03.018Z"
      },
      {
        "duration": 116,
        "start_time": "2024-03-31T17:05:44.919Z"
      },
      {
        "duration": 199,
        "start_time": "2024-03-31T17:06:28.435Z"
      },
      {
        "duration": 114,
        "start_time": "2024-03-31T17:06:49.961Z"
      },
      {
        "duration": 125,
        "start_time": "2024-03-31T17:07:01.080Z"
      },
      {
        "duration": 127,
        "start_time": "2024-03-31T17:07:36.139Z"
      },
      {
        "duration": 94,
        "start_time": "2024-03-31T17:08:02.202Z"
      },
      {
        "duration": 119,
        "start_time": "2024-03-31T17:08:08.940Z"
      },
      {
        "duration": 1791,
        "start_time": "2024-03-31T17:09:53.538Z"
      },
      {
        "duration": 112,
        "start_time": "2024-03-31T17:10:19.026Z"
      },
      {
        "duration": 121,
        "start_time": "2024-03-31T17:11:42.062Z"
      },
      {
        "duration": 116,
        "start_time": "2024-03-31T17:12:47.533Z"
      },
      {
        "duration": 108,
        "start_time": "2024-03-31T17:13:23.150Z"
      },
      {
        "duration": 111,
        "start_time": "2024-03-31T17:13:40.838Z"
      },
      {
        "duration": 115,
        "start_time": "2024-03-31T17:16:13.550Z"
      },
      {
        "duration": 1190,
        "start_time": "2024-03-31T17:18:50.597Z"
      },
      {
        "duration": 99,
        "start_time": "2024-03-31T17:18:51.789Z"
      },
      {
        "duration": 19,
        "start_time": "2024-03-31T17:18:51.890Z"
      },
      {
        "duration": 18,
        "start_time": "2024-03-31T17:18:51.912Z"
      },
      {
        "duration": 7,
        "start_time": "2024-03-31T17:18:51.931Z"
      },
      {
        "duration": 25,
        "start_time": "2024-03-31T17:18:51.939Z"
      },
      {
        "duration": 20,
        "start_time": "2024-03-31T17:18:51.966Z"
      },
      {
        "duration": 8,
        "start_time": "2024-03-31T17:18:51.988Z"
      },
      {
        "duration": 20,
        "start_time": "2024-03-31T17:18:51.997Z"
      },
      {
        "duration": 38,
        "start_time": "2024-03-31T17:18:52.019Z"
      },
      {
        "duration": 11,
        "start_time": "2024-03-31T17:18:52.059Z"
      },
      {
        "duration": 296,
        "start_time": "2024-03-31T17:18:52.072Z"
      },
      {
        "duration": 13,
        "start_time": "2024-03-31T17:18:52.369Z"
      },
      {
        "duration": 1836,
        "start_time": "2024-03-31T17:18:52.383Z"
      },
      {
        "duration": 0,
        "start_time": "2024-03-31T17:18:54.221Z"
      },
      {
        "duration": 0,
        "start_time": "2024-03-31T17:18:54.222Z"
      },
      {
        "duration": 0,
        "start_time": "2024-03-31T17:18:54.223Z"
      },
      {
        "duration": 0,
        "start_time": "2024-03-31T17:18:54.225Z"
      },
      {
        "duration": 0,
        "start_time": "2024-03-31T17:18:54.225Z"
      },
      {
        "duration": 0,
        "start_time": "2024-03-31T17:18:54.227Z"
      },
      {
        "duration": 0,
        "start_time": "2024-03-31T17:18:54.228Z"
      },
      {
        "duration": 0,
        "start_time": "2024-03-31T17:18:54.229Z"
      },
      {
        "duration": 0,
        "start_time": "2024-03-31T17:18:54.230Z"
      },
      {
        "duration": 0,
        "start_time": "2024-03-31T17:18:54.231Z"
      },
      {
        "duration": 0,
        "start_time": "2024-03-31T17:18:54.232Z"
      },
      {
        "duration": 0,
        "start_time": "2024-03-31T17:18:54.233Z"
      },
      {
        "duration": 0,
        "start_time": "2024-03-31T17:18:54.234Z"
      },
      {
        "duration": 0,
        "start_time": "2024-03-31T17:18:54.235Z"
      },
      {
        "duration": 0,
        "start_time": "2024-03-31T17:18:54.236Z"
      },
      {
        "duration": 0,
        "start_time": "2024-03-31T17:18:54.237Z"
      },
      {
        "duration": 0,
        "start_time": "2024-03-31T17:18:54.238Z"
      },
      {
        "duration": 0,
        "start_time": "2024-03-31T17:18:54.239Z"
      },
      {
        "duration": 0,
        "start_time": "2024-03-31T17:18:54.240Z"
      },
      {
        "duration": 1684,
        "start_time": "2024-03-31T17:19:00.745Z"
      },
      {
        "duration": 1735,
        "start_time": "2024-03-31T17:19:15.412Z"
      },
      {
        "duration": 1925,
        "start_time": "2024-03-31T17:20:41.627Z"
      },
      {
        "duration": 1776,
        "start_time": "2024-03-31T17:21:27.249Z"
      },
      {
        "duration": 109,
        "start_time": "2024-03-31T17:22:08.631Z"
      },
      {
        "duration": 111,
        "start_time": "2024-03-31T17:23:06.073Z"
      },
      {
        "duration": 176,
        "start_time": "2024-03-31T17:26:48.641Z"
      },
      {
        "duration": 1158,
        "start_time": "2024-03-31T17:28:15.126Z"
      },
      {
        "duration": 103,
        "start_time": "2024-03-31T17:28:16.286Z"
      },
      {
        "duration": 15,
        "start_time": "2024-03-31T17:28:16.390Z"
      },
      {
        "duration": 18,
        "start_time": "2024-03-31T17:28:16.407Z"
      },
      {
        "duration": 6,
        "start_time": "2024-03-31T17:28:16.427Z"
      },
      {
        "duration": 8,
        "start_time": "2024-03-31T17:28:16.434Z"
      },
      {
        "duration": 8,
        "start_time": "2024-03-31T17:28:16.444Z"
      },
      {
        "duration": 31,
        "start_time": "2024-03-31T17:28:16.454Z"
      },
      {
        "duration": 12,
        "start_time": "2024-03-31T17:28:16.487Z"
      },
      {
        "duration": 12,
        "start_time": "2024-03-31T17:28:16.502Z"
      },
      {
        "duration": 23,
        "start_time": "2024-03-31T17:28:16.516Z"
      },
      {
        "duration": 287,
        "start_time": "2024-03-31T17:28:16.541Z"
      },
      {
        "duration": 8,
        "start_time": "2024-03-31T17:28:16.830Z"
      },
      {
        "duration": 128,
        "start_time": "2024-03-31T17:28:16.840Z"
      },
      {
        "duration": 294,
        "start_time": "2024-03-31T17:28:16.970Z"
      },
      {
        "duration": 294,
        "start_time": "2024-03-31T17:28:17.265Z"
      },
      {
        "duration": 317,
        "start_time": "2024-03-31T17:28:17.561Z"
      },
      {
        "duration": 41,
        "start_time": "2024-03-31T17:28:17.881Z"
      },
      {
        "duration": 127,
        "start_time": "2024-03-31T17:28:17.924Z"
      },
      {
        "duration": 285,
        "start_time": "2024-03-31T17:28:18.053Z"
      },
      {
        "duration": 277,
        "start_time": "2024-03-31T17:28:18.339Z"
      },
      {
        "duration": 304,
        "start_time": "2024-03-31T17:28:18.618Z"
      },
      {
        "duration": 284,
        "start_time": "2024-03-31T17:28:18.924Z"
      },
      {
        "duration": 31,
        "start_time": "2024-03-31T17:28:19.210Z"
      },
      {
        "duration": 38,
        "start_time": "2024-03-31T17:28:19.243Z"
      },
      {
        "duration": 5,
        "start_time": "2024-03-31T17:28:19.283Z"
      },
      {
        "duration": 22,
        "start_time": "2024-03-31T17:28:19.290Z"
      },
      {
        "duration": 27,
        "start_time": "2024-03-31T17:28:19.315Z"
      },
      {
        "duration": 6,
        "start_time": "2024-03-31T17:28:19.344Z"
      },
      {
        "duration": 14,
        "start_time": "2024-03-31T17:28:19.351Z"
      },
      {
        "duration": 11,
        "start_time": "2024-03-31T17:28:19.367Z"
      },
      {
        "duration": 8,
        "start_time": "2024-03-31T17:31:30.707Z"
      },
      {
        "duration": 16,
        "start_time": "2024-03-31T18:11:58.680Z"
      },
      {
        "duration": 3,
        "start_time": "2024-03-31T18:12:54.289Z"
      },
      {
        "duration": 14,
        "start_time": "2024-03-31T18:12:55.193Z"
      },
      {
        "duration": 1136,
        "start_time": "2024-03-31T18:14:53.039Z"
      },
      {
        "duration": 99,
        "start_time": "2024-03-31T18:14:54.177Z"
      },
      {
        "duration": 14,
        "start_time": "2024-03-31T18:14:54.278Z"
      },
      {
        "duration": 22,
        "start_time": "2024-03-31T18:14:54.294Z"
      },
      {
        "duration": 10,
        "start_time": "2024-03-31T18:14:54.318Z"
      },
      {
        "duration": 22,
        "start_time": "2024-03-31T18:14:54.329Z"
      },
      {
        "duration": 17,
        "start_time": "2024-03-31T18:14:54.353Z"
      },
      {
        "duration": 10,
        "start_time": "2024-03-31T18:14:54.371Z"
      },
      {
        "duration": 27,
        "start_time": "2024-03-31T18:14:54.382Z"
      },
      {
        "duration": 22,
        "start_time": "2024-03-31T18:14:54.411Z"
      },
      {
        "duration": 27,
        "start_time": "2024-03-31T18:14:54.435Z"
      },
      {
        "duration": 288,
        "start_time": "2024-03-31T18:14:54.463Z"
      },
      {
        "duration": 8,
        "start_time": "2024-03-31T18:14:54.753Z"
      },
      {
        "duration": 128,
        "start_time": "2024-03-31T18:14:54.762Z"
      },
      {
        "duration": 282,
        "start_time": "2024-03-31T18:14:54.891Z"
      },
      {
        "duration": 12,
        "start_time": "2024-03-31T18:14:55.174Z"
      },
      {
        "duration": 300,
        "start_time": "2024-03-31T18:14:55.187Z"
      },
      {
        "duration": 299,
        "start_time": "2024-03-31T18:14:55.488Z"
      },
      {
        "duration": 41,
        "start_time": "2024-03-31T18:14:55.789Z"
      },
      {
        "duration": 126,
        "start_time": "2024-03-31T18:14:55.832Z"
      },
      {
        "duration": 297,
        "start_time": "2024-03-31T18:14:55.960Z"
      },
      {
        "duration": 280,
        "start_time": "2024-03-31T18:14:56.258Z"
      },
      {
        "duration": 278,
        "start_time": "2024-03-31T18:14:56.540Z"
      },
      {
        "duration": 290,
        "start_time": "2024-03-31T18:14:56.820Z"
      },
      {
        "duration": 34,
        "start_time": "2024-03-31T18:14:57.112Z"
      },
      {
        "duration": 35,
        "start_time": "2024-03-31T18:14:57.147Z"
      },
      {
        "duration": 5,
        "start_time": "2024-03-31T18:14:57.184Z"
      },
      {
        "duration": 10,
        "start_time": "2024-03-31T18:14:57.192Z"
      },
      {
        "duration": 15,
        "start_time": "2024-03-31T18:14:57.204Z"
      },
      {
        "duration": 14,
        "start_time": "2024-03-31T18:14:57.221Z"
      },
      {
        "duration": 25,
        "start_time": "2024-03-31T18:14:57.237Z"
      },
      {
        "duration": 10,
        "start_time": "2024-03-31T18:14:57.263Z"
      },
      {
        "duration": 43,
        "start_time": "2024-03-31T18:24:12.659Z"
      },
      {
        "duration": 1255,
        "start_time": "2024-03-31T18:24:21.459Z"
      },
      {
        "duration": 106,
        "start_time": "2024-03-31T18:24:22.716Z"
      },
      {
        "duration": 21,
        "start_time": "2024-03-31T18:24:22.825Z"
      },
      {
        "duration": 35,
        "start_time": "2024-03-31T18:24:22.849Z"
      },
      {
        "duration": 16,
        "start_time": "2024-03-31T18:24:22.887Z"
      },
      {
        "duration": 7,
        "start_time": "2024-03-31T18:24:22.905Z"
      },
      {
        "duration": 10,
        "start_time": "2024-03-31T18:24:22.915Z"
      },
      {
        "duration": 9,
        "start_time": "2024-03-31T18:24:22.927Z"
      },
      {
        "duration": 8,
        "start_time": "2024-03-31T18:24:22.938Z"
      },
      {
        "duration": 11,
        "start_time": "2024-03-31T18:24:22.984Z"
      },
      {
        "duration": 10,
        "start_time": "2024-03-31T18:24:22.997Z"
      },
      {
        "duration": 303,
        "start_time": "2024-03-31T18:24:23.009Z"
      },
      {
        "duration": 8,
        "start_time": "2024-03-31T18:24:23.314Z"
      },
      {
        "duration": 162,
        "start_time": "2024-03-31T18:24:23.324Z"
      },
      {
        "duration": 295,
        "start_time": "2024-03-31T18:24:23.488Z"
      },
      {
        "duration": 8,
        "start_time": "2024-03-31T18:24:23.785Z"
      },
      {
        "duration": 324,
        "start_time": "2024-03-31T18:24:23.795Z"
      },
      {
        "duration": 309,
        "start_time": "2024-03-31T18:24:24.121Z"
      },
      {
        "duration": 55,
        "start_time": "2024-03-31T18:24:24.431Z"
      },
      {
        "duration": 118,
        "start_time": "2024-03-31T18:24:24.488Z"
      },
      {
        "duration": 298,
        "start_time": "2024-03-31T18:24:24.608Z"
      },
      {
        "duration": 295,
        "start_time": "2024-03-31T18:24:24.907Z"
      },
      {
        "duration": 300,
        "start_time": "2024-03-31T18:24:25.205Z"
      },
      {
        "duration": 301,
        "start_time": "2024-03-31T18:24:25.507Z"
      },
      {
        "duration": 33,
        "start_time": "2024-03-31T18:24:25.810Z"
      },
      {
        "duration": 60,
        "start_time": "2024-03-31T18:24:25.845Z"
      },
      {
        "duration": 19,
        "start_time": "2024-03-31T18:24:25.907Z"
      },
      {
        "duration": 5,
        "start_time": "2024-03-31T18:24:25.929Z"
      },
      {
        "duration": 75,
        "start_time": "2024-03-31T18:24:25.936Z"
      },
      {
        "duration": 6,
        "start_time": "2024-03-31T18:24:26.013Z"
      },
      {
        "duration": 3,
        "start_time": "2024-03-31T18:24:26.021Z"
      },
      {
        "duration": 31,
        "start_time": "2024-03-31T18:24:26.026Z"
      },
      {
        "duration": 9,
        "start_time": "2024-03-31T18:24:26.059Z"
      },
      {
        "duration": 43,
        "start_time": "2024-03-31T18:25:14.061Z"
      },
      {
        "duration": 50,
        "start_time": "2024-03-31T18:27:41.651Z"
      },
      {
        "duration": 21,
        "start_time": "2024-03-31T18:47:16.061Z"
      },
      {
        "duration": 1151,
        "start_time": "2024-03-31T18:48:18.897Z"
      },
      {
        "duration": 113,
        "start_time": "2024-03-31T18:48:20.049Z"
      },
      {
        "duration": 14,
        "start_time": "2024-03-31T18:48:20.164Z"
      },
      {
        "duration": 13,
        "start_time": "2024-03-31T18:48:20.180Z"
      },
      {
        "duration": 6,
        "start_time": "2024-03-31T18:48:20.194Z"
      },
      {
        "duration": 12,
        "start_time": "2024-03-31T18:48:20.201Z"
      },
      {
        "duration": 9,
        "start_time": "2024-03-31T18:48:20.215Z"
      },
      {
        "duration": 5,
        "start_time": "2024-03-31T18:48:20.225Z"
      },
      {
        "duration": 7,
        "start_time": "2024-03-31T18:48:20.232Z"
      },
      {
        "duration": 8,
        "start_time": "2024-03-31T18:48:20.241Z"
      },
      {
        "duration": 32,
        "start_time": "2024-03-31T18:48:20.250Z"
      },
      {
        "duration": 290,
        "start_time": "2024-03-31T18:48:20.284Z"
      },
      {
        "duration": 8,
        "start_time": "2024-03-31T18:48:20.580Z"
      },
      {
        "duration": 132,
        "start_time": "2024-03-31T18:48:20.589Z"
      },
      {
        "duration": 276,
        "start_time": "2024-03-31T18:48:20.722Z"
      },
      {
        "duration": 8,
        "start_time": "2024-03-31T18:48:20.999Z"
      },
      {
        "duration": 320,
        "start_time": "2024-03-31T18:48:21.009Z"
      },
      {
        "duration": 293,
        "start_time": "2024-03-31T18:48:21.331Z"
      },
      {
        "duration": 55,
        "start_time": "2024-03-31T18:48:21.626Z"
      },
      {
        "duration": 114,
        "start_time": "2024-03-31T18:48:21.682Z"
      },
      {
        "duration": 290,
        "start_time": "2024-03-31T18:48:21.797Z"
      },
      {
        "duration": 283,
        "start_time": "2024-03-31T18:48:22.089Z"
      },
      {
        "duration": 277,
        "start_time": "2024-03-31T18:48:22.381Z"
      },
      {
        "duration": 285,
        "start_time": "2024-03-31T18:48:22.659Z"
      },
      {
        "duration": 44,
        "start_time": "2024-03-31T18:48:22.946Z"
      },
      {
        "duration": 43,
        "start_time": "2024-03-31T18:48:22.992Z"
      },
      {
        "duration": 20,
        "start_time": "2024-03-31T18:48:23.037Z"
      },
      {
        "duration": 24,
        "start_time": "2024-03-31T18:48:23.060Z"
      },
      {
        "duration": 4,
        "start_time": "2024-03-31T18:48:23.086Z"
      },
      {
        "duration": 16,
        "start_time": "2024-03-31T18:48:23.092Z"
      },
      {
        "duration": 6,
        "start_time": "2024-03-31T18:48:23.109Z"
      },
      {
        "duration": 1671,
        "start_time": "2024-03-31T18:48:23.117Z"
      },
      {
        "duration": 0,
        "start_time": "2024-03-31T18:48:24.790Z"
      },
      {
        "duration": 21,
        "start_time": "2024-03-31T18:49:54.601Z"
      },
      {
        "duration": 21,
        "start_time": "2024-03-31T18:50:06.424Z"
      },
      {
        "duration": 52,
        "start_time": "2024-03-31T18:50:37.809Z"
      },
      {
        "duration": 47,
        "start_time": "2024-03-31T18:51:05.790Z"
      },
      {
        "duration": 53,
        "start_time": "2024-03-31T18:52:54.801Z"
      },
      {
        "duration": 22,
        "start_time": "2024-03-31T18:53:01.708Z"
      },
      {
        "duration": 1161,
        "start_time": "2024-03-31T18:53:09.105Z"
      },
      {
        "duration": 100,
        "start_time": "2024-03-31T18:53:10.268Z"
      },
      {
        "duration": 14,
        "start_time": "2024-03-31T18:53:10.370Z"
      },
      {
        "duration": 13,
        "start_time": "2024-03-31T18:53:10.386Z"
      },
      {
        "duration": 7,
        "start_time": "2024-03-31T18:53:10.401Z"
      },
      {
        "duration": 9,
        "start_time": "2024-03-31T18:53:10.409Z"
      },
      {
        "duration": 8,
        "start_time": "2024-03-31T18:53:10.419Z"
      },
      {
        "duration": 6,
        "start_time": "2024-03-31T18:53:10.429Z"
      },
      {
        "duration": 45,
        "start_time": "2024-03-31T18:53:10.437Z"
      },
      {
        "duration": 8,
        "start_time": "2024-03-31T18:53:10.485Z"
      },
      {
        "duration": 10,
        "start_time": "2024-03-31T18:53:10.495Z"
      },
      {
        "duration": 304,
        "start_time": "2024-03-31T18:53:10.507Z"
      },
      {
        "duration": 9,
        "start_time": "2024-03-31T18:53:10.812Z"
      },
      {
        "duration": 137,
        "start_time": "2024-03-31T18:53:10.822Z"
      },
      {
        "duration": 298,
        "start_time": "2024-03-31T18:53:10.961Z"
      },
      {
        "duration": 9,
        "start_time": "2024-03-31T18:53:11.261Z"
      },
      {
        "duration": 303,
        "start_time": "2024-03-31T18:53:11.281Z"
      },
      {
        "duration": 315,
        "start_time": "2024-03-31T18:53:11.586Z"
      },
      {
        "duration": 38,
        "start_time": "2024-03-31T18:53:11.903Z"
      },
      {
        "duration": 124,
        "start_time": "2024-03-31T18:53:11.942Z"
      },
      {
        "duration": 294,
        "start_time": "2024-03-31T18:53:12.068Z"
      },
      {
        "duration": 292,
        "start_time": "2024-03-31T18:53:12.364Z"
      },
      {
        "duration": 289,
        "start_time": "2024-03-31T18:53:12.658Z"
      },
      {
        "duration": 306,
        "start_time": "2024-03-31T18:53:12.949Z"
      },
      {
        "duration": 55,
        "start_time": "2024-03-31T18:53:13.256Z"
      },
      {
        "duration": 112,
        "start_time": "2024-03-31T18:53:13.312Z"
      },
      {
        "duration": 0,
        "start_time": "2024-03-31T18:53:13.426Z"
      },
      {
        "duration": 0,
        "start_time": "2024-03-31T18:53:13.428Z"
      },
      {
        "duration": 0,
        "start_time": "2024-03-31T18:53:13.430Z"
      },
      {
        "duration": 0,
        "start_time": "2024-03-31T18:53:13.431Z"
      },
      {
        "duration": 0,
        "start_time": "2024-03-31T18:53:13.433Z"
      },
      {
        "duration": 0,
        "start_time": "2024-03-31T18:53:13.435Z"
      },
      {
        "duration": 24,
        "start_time": "2024-03-31T18:54:19.735Z"
      },
      {
        "duration": 5,
        "start_time": "2024-03-31T19:06:54.551Z"
      },
      {
        "duration": 6,
        "start_time": "2024-03-31T19:08:28.070Z"
      },
      {
        "duration": 5,
        "start_time": "2024-03-31T19:10:40.460Z"
      },
      {
        "duration": 6,
        "start_time": "2024-03-31T19:11:38.073Z"
      },
      {
        "duration": 6,
        "start_time": "2024-03-31T19:18:43.227Z"
      },
      {
        "duration": 1149,
        "start_time": "2024-03-31T19:19:53.722Z"
      },
      {
        "duration": 102,
        "start_time": "2024-03-31T19:19:54.873Z"
      },
      {
        "duration": 14,
        "start_time": "2024-03-31T19:19:54.976Z"
      },
      {
        "duration": 22,
        "start_time": "2024-03-31T19:19:54.992Z"
      },
      {
        "duration": 8,
        "start_time": "2024-03-31T19:19:55.016Z"
      },
      {
        "duration": 14,
        "start_time": "2024-03-31T19:19:55.026Z"
      },
      {
        "duration": 46,
        "start_time": "2024-03-31T19:19:55.042Z"
      },
      {
        "duration": 26,
        "start_time": "2024-03-31T19:19:55.090Z"
      },
      {
        "duration": 38,
        "start_time": "2024-03-31T19:19:55.118Z"
      },
      {
        "duration": 22,
        "start_time": "2024-03-31T19:19:55.158Z"
      },
      {
        "duration": 29,
        "start_time": "2024-03-31T19:19:55.182Z"
      },
      {
        "duration": 309,
        "start_time": "2024-03-31T19:19:55.212Z"
      },
      {
        "duration": 7,
        "start_time": "2024-03-31T19:19:55.523Z"
      },
      {
        "duration": 129,
        "start_time": "2024-03-31T19:19:55.532Z"
      },
      {
        "duration": 290,
        "start_time": "2024-03-31T19:19:55.663Z"
      },
      {
        "duration": 8,
        "start_time": "2024-03-31T19:19:55.955Z"
      },
      {
        "duration": 316,
        "start_time": "2024-03-31T19:19:55.965Z"
      },
      {
        "duration": 286,
        "start_time": "2024-03-31T19:19:56.282Z"
      },
      {
        "duration": 43,
        "start_time": "2024-03-31T19:19:56.569Z"
      },
      {
        "duration": 116,
        "start_time": "2024-03-31T19:19:56.613Z"
      },
      {
        "duration": 301,
        "start_time": "2024-03-31T19:19:56.731Z"
      },
      {
        "duration": 275,
        "start_time": "2024-03-31T19:19:57.033Z"
      },
      {
        "duration": 272,
        "start_time": "2024-03-31T19:19:57.309Z"
      },
      {
        "duration": 293,
        "start_time": "2024-03-31T19:19:57.582Z"
      },
      {
        "duration": 49,
        "start_time": "2024-03-31T19:19:57.876Z"
      },
      {
        "duration": 21,
        "start_time": "2024-03-31T19:19:57.926Z"
      },
      {
        "duration": 4,
        "start_time": "2024-03-31T19:19:57.949Z"
      },
      {
        "duration": 5,
        "start_time": "2024-03-31T19:19:57.981Z"
      },
      {
        "duration": 32,
        "start_time": "2024-03-31T19:19:57.989Z"
      },
      {
        "duration": 4,
        "start_time": "2024-03-31T19:19:58.022Z"
      },
      {
        "duration": 31,
        "start_time": "2024-03-31T19:19:58.028Z"
      },
      {
        "duration": 9,
        "start_time": "2024-03-31T19:19:58.061Z"
      },
      {
        "duration": 11,
        "start_time": "2024-03-31T19:23:28.647Z"
      },
      {
        "duration": 10,
        "start_time": "2024-03-31T19:23:42.617Z"
      },
      {
        "duration": 1139,
        "start_time": "2024-03-31T19:24:01.930Z"
      },
      {
        "duration": 101,
        "start_time": "2024-03-31T19:24:03.071Z"
      },
      {
        "duration": 14,
        "start_time": "2024-03-31T19:24:03.173Z"
      },
      {
        "duration": 22,
        "start_time": "2024-03-31T19:24:03.189Z"
      },
      {
        "duration": 23,
        "start_time": "2024-03-31T19:24:03.213Z"
      },
      {
        "duration": 27,
        "start_time": "2024-03-31T19:24:03.237Z"
      },
      {
        "duration": 35,
        "start_time": "2024-03-31T19:24:03.265Z"
      },
      {
        "duration": 42,
        "start_time": "2024-03-31T19:24:03.301Z"
      },
      {
        "duration": 53,
        "start_time": "2024-03-31T19:24:03.344Z"
      },
      {
        "duration": 62,
        "start_time": "2024-03-31T19:24:03.399Z"
      },
      {
        "duration": 39,
        "start_time": "2024-03-31T19:24:03.462Z"
      },
      {
        "duration": 305,
        "start_time": "2024-03-31T19:24:03.503Z"
      },
      {
        "duration": 7,
        "start_time": "2024-03-31T19:24:03.809Z"
      },
      {
        "duration": 125,
        "start_time": "2024-03-31T19:24:03.818Z"
      },
      {
        "duration": 286,
        "start_time": "2024-03-31T19:24:03.945Z"
      },
      {
        "duration": 8,
        "start_time": "2024-03-31T19:24:04.233Z"
      },
      {
        "duration": 302,
        "start_time": "2024-03-31T19:24:04.242Z"
      },
      {
        "duration": 286,
        "start_time": "2024-03-31T19:24:04.545Z"
      },
      {
        "duration": 50,
        "start_time": "2024-03-31T19:24:04.833Z"
      },
      {
        "duration": 114,
        "start_time": "2024-03-31T19:24:04.884Z"
      },
      {
        "duration": 287,
        "start_time": "2024-03-31T19:24:05.000Z"
      },
      {
        "duration": 284,
        "start_time": "2024-03-31T19:24:05.289Z"
      },
      {
        "duration": 289,
        "start_time": "2024-03-31T19:24:05.575Z"
      },
      {
        "duration": 288,
        "start_time": "2024-03-31T19:24:05.866Z"
      },
      {
        "duration": 62,
        "start_time": "2024-03-31T19:24:06.156Z"
      },
      {
        "duration": 22,
        "start_time": "2024-03-31T19:24:06.220Z"
      },
      {
        "duration": 6,
        "start_time": "2024-03-31T19:24:06.243Z"
      },
      {
        "duration": 29,
        "start_time": "2024-03-31T19:24:06.252Z"
      },
      {
        "duration": 19,
        "start_time": "2024-03-31T19:24:06.282Z"
      },
      {
        "duration": 10,
        "start_time": "2024-03-31T19:24:06.302Z"
      },
      {
        "duration": 24,
        "start_time": "2024-03-31T19:24:06.313Z"
      },
      {
        "duration": 9,
        "start_time": "2024-03-31T19:24:06.339Z"
      },
      {
        "duration": 1166,
        "start_time": "2024-03-31T19:35:19.287Z"
      },
      {
        "duration": 100,
        "start_time": "2024-03-31T19:35:20.454Z"
      },
      {
        "duration": 13,
        "start_time": "2024-03-31T19:35:20.555Z"
      },
      {
        "duration": 25,
        "start_time": "2024-03-31T19:35:20.571Z"
      },
      {
        "duration": 5,
        "start_time": "2024-03-31T19:35:20.598Z"
      },
      {
        "duration": 7,
        "start_time": "2024-03-31T19:35:20.605Z"
      },
      {
        "duration": 8,
        "start_time": "2024-03-31T19:35:20.613Z"
      },
      {
        "duration": 6,
        "start_time": "2024-03-31T19:35:20.622Z"
      },
      {
        "duration": 21,
        "start_time": "2024-03-31T19:35:20.630Z"
      },
      {
        "duration": 13,
        "start_time": "2024-03-31T19:35:20.653Z"
      },
      {
        "duration": 19,
        "start_time": "2024-03-31T19:35:20.667Z"
      },
      {
        "duration": 294,
        "start_time": "2024-03-31T19:35:20.688Z"
      },
      {
        "duration": 7,
        "start_time": "2024-03-31T19:35:20.984Z"
      },
      {
        "duration": 133,
        "start_time": "2024-03-31T19:35:20.993Z"
      },
      {
        "duration": 275,
        "start_time": "2024-03-31T19:35:21.128Z"
      },
      {
        "duration": 8,
        "start_time": "2024-03-31T19:35:21.405Z"
      },
      {
        "duration": 317,
        "start_time": "2024-03-31T19:35:21.415Z"
      },
      {
        "duration": 282,
        "start_time": "2024-03-31T19:35:21.734Z"
      },
      {
        "duration": 39,
        "start_time": "2024-03-31T19:35:22.018Z"
      },
      {
        "duration": 122,
        "start_time": "2024-03-31T19:35:22.059Z"
      },
      {
        "duration": 290,
        "start_time": "2024-03-31T19:35:22.182Z"
      },
      {
        "duration": 276,
        "start_time": "2024-03-31T19:35:22.473Z"
      },
      {
        "duration": 282,
        "start_time": "2024-03-31T19:35:22.751Z"
      },
      {
        "duration": 287,
        "start_time": "2024-03-31T19:35:23.035Z"
      },
      {
        "duration": 58,
        "start_time": "2024-03-31T19:35:23.324Z"
      },
      {
        "duration": 23,
        "start_time": "2024-03-31T19:35:23.384Z"
      },
      {
        "duration": 6,
        "start_time": "2024-03-31T19:35:23.409Z"
      },
      {
        "duration": 21,
        "start_time": "2024-03-31T19:35:23.419Z"
      },
      {
        "duration": 25,
        "start_time": "2024-03-31T19:35:23.442Z"
      },
      {
        "duration": 16,
        "start_time": "2024-03-31T19:35:23.469Z"
      },
      {
        "duration": 18,
        "start_time": "2024-03-31T19:35:23.487Z"
      },
      {
        "duration": 18,
        "start_time": "2024-03-31T19:35:23.507Z"
      },
      {
        "duration": 6,
        "start_time": "2024-03-31T19:41:35.198Z"
      },
      {
        "duration": 6,
        "start_time": "2024-03-31T19:42:12.579Z"
      },
      {
        "duration": 1183,
        "start_time": "2024-03-31T19:42:53.787Z"
      },
      {
        "duration": 102,
        "start_time": "2024-03-31T19:42:54.972Z"
      },
      {
        "duration": 14,
        "start_time": "2024-03-31T19:42:55.075Z"
      },
      {
        "duration": 13,
        "start_time": "2024-03-31T19:42:55.091Z"
      },
      {
        "duration": 6,
        "start_time": "2024-03-31T19:42:55.105Z"
      },
      {
        "duration": 6,
        "start_time": "2024-03-31T19:42:55.112Z"
      },
      {
        "duration": 8,
        "start_time": "2024-03-31T19:42:55.119Z"
      },
      {
        "duration": 6,
        "start_time": "2024-03-31T19:42:55.128Z"
      },
      {
        "duration": 14,
        "start_time": "2024-03-31T19:42:55.135Z"
      },
      {
        "duration": 8,
        "start_time": "2024-03-31T19:42:55.183Z"
      },
      {
        "duration": 11,
        "start_time": "2024-03-31T19:42:55.192Z"
      },
      {
        "duration": 307,
        "start_time": "2024-03-31T19:42:55.205Z"
      },
      {
        "duration": 8,
        "start_time": "2024-03-31T19:42:55.514Z"
      },
      {
        "duration": 137,
        "start_time": "2024-03-31T19:42:55.523Z"
      },
      {
        "duration": 287,
        "start_time": "2024-03-31T19:42:55.662Z"
      },
      {
        "duration": 7,
        "start_time": "2024-03-31T19:42:55.951Z"
      },
      {
        "duration": 313,
        "start_time": "2024-03-31T19:42:55.960Z"
      },
      {
        "duration": 285,
        "start_time": "2024-03-31T19:42:56.275Z"
      },
      {
        "duration": 44,
        "start_time": "2024-03-31T19:42:56.562Z"
      },
      {
        "duration": 121,
        "start_time": "2024-03-31T19:42:56.608Z"
      },
      {
        "duration": 297,
        "start_time": "2024-03-31T19:42:56.731Z"
      },
      {
        "duration": 296,
        "start_time": "2024-03-31T19:42:57.030Z"
      },
      {
        "duration": 295,
        "start_time": "2024-03-31T19:42:57.327Z"
      },
      {
        "duration": 295,
        "start_time": "2024-03-31T19:42:57.624Z"
      },
      {
        "duration": 47,
        "start_time": "2024-03-31T19:42:57.921Z"
      },
      {
        "duration": 23,
        "start_time": "2024-03-31T19:42:57.981Z"
      },
      {
        "duration": 5,
        "start_time": "2024-03-31T19:42:58.006Z"
      },
      {
        "duration": 15,
        "start_time": "2024-03-31T19:42:58.014Z"
      },
      {
        "duration": 10,
        "start_time": "2024-03-31T19:42:58.031Z"
      },
      {
        "duration": 7,
        "start_time": "2024-03-31T19:42:58.043Z"
      },
      {
        "duration": 38,
        "start_time": "2024-03-31T19:42:58.052Z"
      },
      {
        "duration": 13,
        "start_time": "2024-03-31T19:42:58.092Z"
      },
      {
        "duration": 1254,
        "start_time": "2024-03-31T20:01:39.254Z"
      },
      {
        "duration": 108,
        "start_time": "2024-03-31T20:01:40.510Z"
      },
      {
        "duration": 16,
        "start_time": "2024-03-31T20:01:40.619Z"
      },
      {
        "duration": 20,
        "start_time": "2024-03-31T20:01:40.638Z"
      },
      {
        "duration": 27,
        "start_time": "2024-03-31T20:01:40.659Z"
      },
      {
        "duration": 24,
        "start_time": "2024-03-31T20:01:40.688Z"
      },
      {
        "duration": 8,
        "start_time": "2024-03-31T20:01:40.714Z"
      },
      {
        "duration": 6,
        "start_time": "2024-03-31T20:01:40.723Z"
      },
      {
        "duration": 7,
        "start_time": "2024-03-31T20:01:40.731Z"
      },
      {
        "duration": 7,
        "start_time": "2024-03-31T20:01:40.741Z"
      },
      {
        "duration": 33,
        "start_time": "2024-03-31T20:01:40.750Z"
      },
      {
        "duration": 299,
        "start_time": "2024-03-31T20:01:40.784Z"
      },
      {
        "duration": 9,
        "start_time": "2024-03-31T20:01:41.085Z"
      },
      {
        "duration": 166,
        "start_time": "2024-03-31T20:01:41.095Z"
      },
      {
        "duration": 286,
        "start_time": "2024-03-31T20:01:41.263Z"
      },
      {
        "duration": 10,
        "start_time": "2024-03-31T20:01:41.550Z"
      },
      {
        "duration": 333,
        "start_time": "2024-03-31T20:01:41.562Z"
      },
      {
        "duration": 291,
        "start_time": "2024-03-31T20:01:41.897Z"
      },
      {
        "duration": 41,
        "start_time": "2024-03-31T20:01:42.189Z"
      },
      {
        "duration": 138,
        "start_time": "2024-03-31T20:01:42.231Z"
      },
      {
        "duration": 296,
        "start_time": "2024-03-31T20:01:42.371Z"
      },
      {
        "duration": 303,
        "start_time": "2024-03-31T20:01:42.668Z"
      },
      {
        "duration": 291,
        "start_time": "2024-03-31T20:01:42.973Z"
      },
      {
        "duration": 295,
        "start_time": "2024-03-31T20:01:43.266Z"
      },
      {
        "duration": 56,
        "start_time": "2024-03-31T20:01:43.563Z"
      },
      {
        "duration": 22,
        "start_time": "2024-03-31T20:01:43.622Z"
      },
      {
        "duration": 6,
        "start_time": "2024-03-31T20:01:43.646Z"
      },
      {
        "duration": 4,
        "start_time": "2024-03-31T20:01:43.683Z"
      },
      {
        "duration": 14,
        "start_time": "2024-03-31T20:01:43.689Z"
      },
      {
        "duration": 5,
        "start_time": "2024-03-31T20:01:43.705Z"
      },
      {
        "duration": 13,
        "start_time": "2024-03-31T20:01:43.712Z"
      },
      {
        "duration": 11,
        "start_time": "2024-03-31T20:01:43.726Z"
      },
      {
        "duration": 1224,
        "start_time": "2024-03-31T21:55:21.163Z"
      },
      {
        "duration": 100,
        "start_time": "2024-03-31T21:55:22.389Z"
      },
      {
        "duration": 15,
        "start_time": "2024-03-31T21:55:22.490Z"
      },
      {
        "duration": 14,
        "start_time": "2024-03-31T21:55:22.507Z"
      },
      {
        "duration": 7,
        "start_time": "2024-03-31T21:55:22.522Z"
      },
      {
        "duration": 10,
        "start_time": "2024-03-31T21:55:22.531Z"
      },
      {
        "duration": 10,
        "start_time": "2024-03-31T21:55:22.542Z"
      },
      {
        "duration": 8,
        "start_time": "2024-03-31T21:55:22.582Z"
      },
      {
        "duration": 7,
        "start_time": "2024-03-31T21:55:22.592Z"
      },
      {
        "duration": 8,
        "start_time": "2024-03-31T21:55:22.602Z"
      },
      {
        "duration": 7,
        "start_time": "2024-03-31T21:55:22.612Z"
      },
      {
        "duration": 328,
        "start_time": "2024-03-31T21:55:22.620Z"
      },
      {
        "duration": 8,
        "start_time": "2024-03-31T21:55:22.949Z"
      },
      {
        "duration": 142,
        "start_time": "2024-03-31T21:55:22.959Z"
      },
      {
        "duration": 283,
        "start_time": "2024-03-31T21:55:23.103Z"
      },
      {
        "duration": 9,
        "start_time": "2024-03-31T21:55:23.387Z"
      },
      {
        "duration": 325,
        "start_time": "2024-03-31T21:55:23.397Z"
      },
      {
        "duration": 298,
        "start_time": "2024-03-31T21:55:23.724Z"
      },
      {
        "duration": 40,
        "start_time": "2024-03-31T21:55:24.024Z"
      },
      {
        "duration": 128,
        "start_time": "2024-03-31T21:55:24.066Z"
      },
      {
        "duration": 296,
        "start_time": "2024-03-31T21:55:24.195Z"
      },
      {
        "duration": 289,
        "start_time": "2024-03-31T21:55:24.492Z"
      },
      {
        "duration": 282,
        "start_time": "2024-03-31T21:55:24.783Z"
      },
      {
        "duration": 294,
        "start_time": "2024-03-31T21:55:25.066Z"
      },
      {
        "duration": 55,
        "start_time": "2024-03-31T21:55:25.362Z"
      },
      {
        "duration": 22,
        "start_time": "2024-03-31T21:55:25.419Z"
      },
      {
        "duration": 5,
        "start_time": "2024-03-31T21:55:25.443Z"
      },
      {
        "duration": 4,
        "start_time": "2024-03-31T21:55:25.451Z"
      },
      {
        "duration": 5,
        "start_time": "2024-03-31T21:55:25.481Z"
      },
      {
        "duration": 5,
        "start_time": "2024-03-31T21:55:25.488Z"
      },
      {
        "duration": 13,
        "start_time": "2024-03-31T21:55:25.495Z"
      },
      {
        "duration": 10,
        "start_time": "2024-03-31T21:55:25.509Z"
      },
      {
        "duration": 1106,
        "start_time": "2024-03-31T21:56:21.180Z"
      },
      {
        "duration": 157,
        "start_time": "2024-03-31T21:56:22.288Z"
      },
      {
        "duration": 14,
        "start_time": "2024-03-31T21:56:22.447Z"
      },
      {
        "duration": 13,
        "start_time": "2024-03-31T21:56:22.463Z"
      },
      {
        "duration": 6,
        "start_time": "2024-03-31T21:56:22.478Z"
      },
      {
        "duration": 7,
        "start_time": "2024-03-31T21:56:22.485Z"
      },
      {
        "duration": 8,
        "start_time": "2024-03-31T21:56:22.493Z"
      },
      {
        "duration": 11,
        "start_time": "2024-03-31T21:56:22.503Z"
      },
      {
        "duration": 18,
        "start_time": "2024-03-31T21:56:22.516Z"
      },
      {
        "duration": 12,
        "start_time": "2024-03-31T21:56:22.538Z"
      },
      {
        "duration": 30,
        "start_time": "2024-03-31T21:56:22.552Z"
      },
      {
        "duration": 298,
        "start_time": "2024-03-31T21:56:22.583Z"
      },
      {
        "duration": 8,
        "start_time": "2024-03-31T21:56:22.882Z"
      },
      {
        "duration": 130,
        "start_time": "2024-03-31T21:56:22.891Z"
      },
      {
        "duration": 274,
        "start_time": "2024-03-31T21:56:23.022Z"
      },
      {
        "duration": 8,
        "start_time": "2024-03-31T21:56:23.298Z"
      },
      {
        "duration": 298,
        "start_time": "2024-03-31T21:56:23.307Z"
      },
      {
        "duration": 300,
        "start_time": "2024-03-31T21:56:23.606Z"
      },
      {
        "duration": 40,
        "start_time": "2024-03-31T21:56:23.908Z"
      },
      {
        "duration": 42,
        "start_time": "2024-03-31T21:56:23.950Z"
      },
      {
        "duration": 377,
        "start_time": "2024-03-31T21:56:23.993Z"
      },
      {
        "duration": 281,
        "start_time": "2024-03-31T21:56:24.372Z"
      },
      {
        "duration": 292,
        "start_time": "2024-03-31T21:56:24.655Z"
      },
      {
        "duration": 285,
        "start_time": "2024-03-31T21:56:24.949Z"
      },
      {
        "duration": 52,
        "start_time": "2024-03-31T21:56:25.236Z"
      },
      {
        "duration": 21,
        "start_time": "2024-03-31T21:56:25.290Z"
      },
      {
        "duration": 6,
        "start_time": "2024-03-31T21:56:25.312Z"
      },
      {
        "duration": 11,
        "start_time": "2024-03-31T21:56:25.320Z"
      },
      {
        "duration": 6,
        "start_time": "2024-03-31T21:56:25.332Z"
      },
      {
        "duration": 4,
        "start_time": "2024-03-31T21:56:25.340Z"
      },
      {
        "duration": 39,
        "start_time": "2024-03-31T21:56:25.346Z"
      },
      {
        "duration": 10,
        "start_time": "2024-03-31T21:56:25.387Z"
      },
      {
        "duration": 1343,
        "start_time": "2024-04-01T07:05:14.041Z"
      },
      {
        "duration": 388,
        "start_time": "2024-04-01T07:05:15.387Z"
      },
      {
        "duration": 15,
        "start_time": "2024-04-01T07:05:15.777Z"
      },
      {
        "duration": 17,
        "start_time": "2024-04-01T07:05:15.793Z"
      },
      {
        "duration": 11,
        "start_time": "2024-04-01T07:05:15.812Z"
      },
      {
        "duration": 10,
        "start_time": "2024-04-01T07:05:15.824Z"
      },
      {
        "duration": 8,
        "start_time": "2024-04-01T07:05:15.835Z"
      },
      {
        "duration": 6,
        "start_time": "2024-04-01T07:05:15.844Z"
      },
      {
        "duration": 5,
        "start_time": "2024-04-01T07:05:15.852Z"
      },
      {
        "duration": 35,
        "start_time": "2024-04-01T07:05:15.859Z"
      },
      {
        "duration": 9,
        "start_time": "2024-04-01T07:05:15.896Z"
      },
      {
        "duration": 302,
        "start_time": "2024-04-01T07:05:15.907Z"
      },
      {
        "duration": 8,
        "start_time": "2024-04-01T07:05:16.211Z"
      },
      {
        "duration": 135,
        "start_time": "2024-04-01T07:05:16.222Z"
      },
      {
        "duration": 283,
        "start_time": "2024-04-01T07:05:16.358Z"
      },
      {
        "duration": 9,
        "start_time": "2024-04-01T07:05:16.642Z"
      },
      {
        "duration": 309,
        "start_time": "2024-04-01T07:05:16.652Z"
      },
      {
        "duration": 289,
        "start_time": "2024-04-01T07:05:16.963Z"
      },
      {
        "duration": 49,
        "start_time": "2024-04-01T07:05:17.253Z"
      },
      {
        "duration": 29,
        "start_time": "2024-04-01T07:05:17.303Z"
      },
      {
        "duration": 395,
        "start_time": "2024-04-01T07:05:17.333Z"
      },
      {
        "duration": 281,
        "start_time": "2024-04-01T07:05:17.730Z"
      },
      {
        "duration": 278,
        "start_time": "2024-04-01T07:05:18.013Z"
      },
      {
        "duration": 298,
        "start_time": "2024-04-01T07:05:18.293Z"
      },
      {
        "duration": 50,
        "start_time": "2024-04-01T07:05:18.593Z"
      },
      {
        "duration": 42,
        "start_time": "2024-04-01T07:05:18.645Z"
      },
      {
        "duration": 6,
        "start_time": "2024-04-01T07:05:18.689Z"
      },
      {
        "duration": 10,
        "start_time": "2024-04-01T07:05:18.697Z"
      },
      {
        "duration": 8,
        "start_time": "2024-04-01T07:05:18.708Z"
      },
      {
        "duration": 4,
        "start_time": "2024-04-01T07:05:18.718Z"
      },
      {
        "duration": 14,
        "start_time": "2024-04-01T07:05:18.724Z"
      },
      {
        "duration": 11,
        "start_time": "2024-04-01T07:05:18.740Z"
      },
      {
        "duration": 1314,
        "start_time": "2024-04-01T19:27:13.249Z"
      },
      {
        "duration": 456,
        "start_time": "2024-04-01T19:27:14.567Z"
      },
      {
        "duration": 19,
        "start_time": "2024-04-01T19:27:15.024Z"
      },
      {
        "duration": 23,
        "start_time": "2024-04-01T19:27:15.045Z"
      },
      {
        "duration": 19,
        "start_time": "2024-04-01T19:27:15.081Z"
      },
      {
        "duration": 32,
        "start_time": "2024-04-01T19:27:15.101Z"
      },
      {
        "duration": 19,
        "start_time": "2024-04-01T19:27:15.134Z"
      },
      {
        "duration": 18,
        "start_time": "2024-04-01T19:27:15.155Z"
      },
      {
        "duration": 6,
        "start_time": "2024-04-01T19:27:15.175Z"
      },
      {
        "duration": 17,
        "start_time": "2024-04-01T19:27:15.183Z"
      },
      {
        "duration": 20,
        "start_time": "2024-04-01T19:27:15.202Z"
      },
      {
        "duration": 311,
        "start_time": "2024-04-01T19:27:15.224Z"
      },
      {
        "duration": 7,
        "start_time": "2024-04-01T19:27:15.537Z"
      },
      {
        "duration": 138,
        "start_time": "2024-04-01T19:27:15.546Z"
      },
      {
        "duration": 288,
        "start_time": "2024-04-01T19:27:15.686Z"
      },
      {
        "duration": 9,
        "start_time": "2024-04-01T19:27:15.979Z"
      },
      {
        "duration": 316,
        "start_time": "2024-04-01T19:27:15.989Z"
      },
      {
        "duration": 300,
        "start_time": "2024-04-01T19:27:16.307Z"
      },
      {
        "duration": 72,
        "start_time": "2024-04-01T19:27:16.610Z"
      },
      {
        "duration": 38,
        "start_time": "2024-04-01T19:27:16.684Z"
      },
      {
        "duration": 373,
        "start_time": "2024-04-01T19:27:16.724Z"
      },
      {
        "duration": 281,
        "start_time": "2024-04-01T19:27:17.099Z"
      },
      {
        "duration": 270,
        "start_time": "2024-04-01T19:27:17.381Z"
      },
      {
        "duration": 296,
        "start_time": "2024-04-01T19:27:17.652Z"
      },
      {
        "duration": 54,
        "start_time": "2024-04-01T19:27:17.949Z"
      },
      {
        "duration": 21,
        "start_time": "2024-04-01T19:27:18.005Z"
      },
      {
        "duration": 18,
        "start_time": "2024-04-01T19:27:18.028Z"
      },
      {
        "duration": 4,
        "start_time": "2024-04-01T19:27:18.049Z"
      },
      {
        "duration": 28,
        "start_time": "2024-04-01T19:27:18.054Z"
      },
      {
        "duration": 7,
        "start_time": "2024-04-01T19:27:18.085Z"
      },
      {
        "duration": 35,
        "start_time": "2024-04-01T19:27:18.094Z"
      },
      {
        "duration": 12,
        "start_time": "2024-04-01T19:27:18.131Z"
      }
    ],
    "kernelspec": {
      "display_name": "Python 3 (ipykernel)",
      "language": "python",
      "name": "python3"
    },
    "language_info": {
      "codemirror_mode": {
        "name": "ipython",
        "version": 3
      },
      "file_extension": ".py",
      "mimetype": "text/x-python",
      "name": "python",
      "nbconvert_exporter": "python",
      "pygments_lexer": "ipython3",
      "version": "3.9.5"
    },
    "toc": {
      "base_numbering": 1,
      "nav_menu": {},
      "number_sections": true,
      "sideBar": true,
      "skip_h1_title": true,
      "title_cell": "Table of Contents",
      "title_sidebar": "Contents",
      "toc_cell": false,
      "toc_position": {
        "height": "calc(100% - 180px)",
        "left": "10px",
        "top": "150px",
        "width": "307.188px"
      },
      "toc_section_display": true,
      "toc_window_display": true
    },
    "colab": {
      "provenance": []
    }
  },
  "nbformat": 4,
  "nbformat_minor": 5
}